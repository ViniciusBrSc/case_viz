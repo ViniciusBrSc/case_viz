{
 "cells": [
  {
   "cell_type": "markdown",
   "metadata": {},
   "source": [
    "### Carregando pacotes"
   ]
  },
  {
   "cell_type": "code",
   "execution_count": 2,
   "metadata": {},
   "outputs": [],
   "source": [
    "import basedosdados as bd\n",
    "import pandas as pd\n",
    "from decouple import config"
   ]
  },
  {
   "cell_type": "code",
   "execution_count": 2,
   "metadata": {},
   "outputs": [],
   "source": [
    "# Protegendo o ID do projeto em arquivo .env:\n",
    "project_id = config(\"project_id\")"
   ]
  },
  {
   "cell_type": "code",
   "execution_count": 3,
   "metadata": {},
   "outputs": [],
   "source": [
    "# # Para acessar a lista de datasets disponíveis.\n",
    "# # Conteúdo foi salvo em arquivo txt na pasta docs.\n",
    "# # Descomentar célula apenas quando for utilizar:\n",
    "\n",
    "# bd.list_datasets(with_description=True)"
   ]
  },
  {
   "cell_type": "markdown",
   "metadata": {},
   "source": [
    "### Tabela completa"
   ]
  },
  {
   "cell_type": "code",
   "execution_count": 5,
   "metadata": {},
   "outputs": [
    {
     "name": "stderr",
     "output_type": "stream",
     "text": [
      "Downloading: 100%|██████████| 146036/146036 [01:23<00:00, 1759.29rows/s]\n"
     ]
    },
    {
     "data": {
      "text/html": [
       "<div>\n",
       "<style scoped>\n",
       "    .dataframe tbody tr th:only-of-type {\n",
       "        vertical-align: middle;\n",
       "    }\n",
       "\n",
       "    .dataframe tbody tr th {\n",
       "        vertical-align: top;\n",
       "    }\n",
       "\n",
       "    .dataframe thead th {\n",
       "        text-align: right;\n",
       "    }\n",
       "</style>\n",
       "<table border=\"1\" class=\"dataframe\">\n",
       "  <thead>\n",
       "    <tr style=\"text-align: right;\">\n",
       "      <th></th>\n",
       "      <th>ano_inicial</th>\n",
       "      <th>mes_inicial</th>\n",
       "      <th>ano_final</th>\n",
       "      <th>mes_final</th>\n",
       "      <th>id_processo_concessao</th>\n",
       "      <th>cpf</th>\n",
       "      <th>beneficiario</th>\n",
       "      <th>programa_capes</th>\n",
       "      <th>pais_destino</th>\n",
       "      <th>sigla_moeda</th>\n",
       "      <th>...</th>\n",
       "      <th>valor_recebido_diarias</th>\n",
       "      <th>valor_recebido_escola_altos_estudos</th>\n",
       "      <th>valor_recebido_licenca_maternidade</th>\n",
       "      <th>valor_recebido_mensalidade</th>\n",
       "      <th>valor_recebido_mensalidade_agendadas</th>\n",
       "      <th>valor_recebido_mensalidade_demanda</th>\n",
       "      <th>valor_recebido_outros_debitos</th>\n",
       "      <th>valor_recebido_passagem_aerea</th>\n",
       "      <th>valor_recebido_capital</th>\n",
       "      <th>valor_recebido_total</th>\n",
       "    </tr>\n",
       "  </thead>\n",
       "  <tbody>\n",
       "    <tr>\n",
       "      <th>0</th>\n",
       "      <td>2005</td>\n",
       "      <td>9</td>\n",
       "      <td>2010</td>\n",
       "      <td>3</td>\n",
       "      <td>2725-04-5</td>\n",
       "      <td>***.415.018-**</td>\n",
       "      <td>LUIZ FELIPE NASSER CARVALHO</td>\n",
       "      <td>DPE - PROGRAMA DE DOUTORADO PLENO NO EXTERIOR</td>\n",
       "      <td>REINO UNIDO</td>\n",
       "      <td>GBP</td>\n",
       "      <td>...</td>\n",
       "      <td>NaN</td>\n",
       "      <td>NaN</td>\n",
       "      <td>NaN</td>\n",
       "      <td>NaN</td>\n",
       "      <td>NaN</td>\n",
       "      <td>NaN</td>\n",
       "      <td>NaN</td>\n",
       "      <td>NaN</td>\n",
       "      <td>NaN</td>\n",
       "      <td>2730.0</td>\n",
       "    </tr>\n",
       "    <tr>\n",
       "      <th>1</th>\n",
       "      <td>2005</td>\n",
       "      <td>4</td>\n",
       "      <td>2010</td>\n",
       "      <td>3</td>\n",
       "      <td>1898-04-3</td>\n",
       "      <td>***.152.938-**</td>\n",
       "      <td>ÁLVARO PEREIRA COPPIETERS</td>\n",
       "      <td>DAAD</td>\n",
       "      <td>ALEMANHA</td>\n",
       "      <td>EUR</td>\n",
       "      <td>...</td>\n",
       "      <td>NaN</td>\n",
       "      <td>NaN</td>\n",
       "      <td>NaN</td>\n",
       "      <td>NaN</td>\n",
       "      <td>NaN</td>\n",
       "      <td>NaN</td>\n",
       "      <td>NaN</td>\n",
       "      <td>NaN</td>\n",
       "      <td>NaN</td>\n",
       "      <td>1300.0</td>\n",
       "    </tr>\n",
       "    <tr>\n",
       "      <th>2</th>\n",
       "      <td>2006</td>\n",
       "      <td>10</td>\n",
       "      <td>2010</td>\n",
       "      <td>9</td>\n",
       "      <td>3158-05-5</td>\n",
       "      <td>***.813.968-**</td>\n",
       "      <td>ANA CRISTINA PEREIRA DAS NEVES</td>\n",
       "      <td>DPE - PROGRAMA DE DOUTORADO PLENO NO EXTERIOR</td>\n",
       "      <td>REINO UNIDO</td>\n",
       "      <td>GBP</td>\n",
       "      <td>...</td>\n",
       "      <td>NaN</td>\n",
       "      <td>NaN</td>\n",
       "      <td>NaN</td>\n",
       "      <td>NaN</td>\n",
       "      <td>NaN</td>\n",
       "      <td>NaN</td>\n",
       "      <td>NaN</td>\n",
       "      <td>NaN</td>\n",
       "      <td>NaN</td>\n",
       "      <td>8190.0</td>\n",
       "    </tr>\n",
       "  </tbody>\n",
       "</table>\n",
       "<p>3 rows × 58 columns</p>\n",
       "</div>"
      ],
      "text/plain": [
       "   ano_inicial  mes_inicial  ano_final  mes_final id_processo_concessao  \\\n",
       "0         2005            9       2010          3             2725-04-5   \n",
       "1         2005            4       2010          3             1898-04-3   \n",
       "2         2006           10       2010          9             3158-05-5   \n",
       "\n",
       "              cpf                    beneficiario  \\\n",
       "0  ***.415.018-**     LUIZ FELIPE NASSER CARVALHO   \n",
       "1  ***.152.938-**       ÁLVARO PEREIRA COPPIETERS   \n",
       "2  ***.813.968-**  ANA CRISTINA PEREIRA DAS NEVES   \n",
       "\n",
       "                                  programa_capes pais_destino sigla_moeda  \\\n",
       "0  DPE - PROGRAMA DE DOUTORADO PLENO NO EXTERIOR  REINO UNIDO         GBP   \n",
       "1                                           DAAD     ALEMANHA         EUR   \n",
       "2  DPE - PROGRAMA DE DOUTORADO PLENO NO EXTERIOR  REINO UNIDO         GBP   \n",
       "\n",
       "   ... valor_recebido_diarias valor_recebido_escola_altos_estudos  \\\n",
       "0  ...                    NaN                                 NaN   \n",
       "1  ...                    NaN                                 NaN   \n",
       "2  ...                    NaN                                 NaN   \n",
       "\n",
       "  valor_recebido_licenca_maternidade valor_recebido_mensalidade  \\\n",
       "0                                NaN                        NaN   \n",
       "1                                NaN                        NaN   \n",
       "2                                NaN                        NaN   \n",
       "\n",
       "  valor_recebido_mensalidade_agendadas valor_recebido_mensalidade_demanda  \\\n",
       "0                                  NaN                                NaN   \n",
       "1                                  NaN                                NaN   \n",
       "2                                  NaN                                NaN   \n",
       "\n",
       "  valor_recebido_outros_debitos valor_recebido_passagem_aerea  \\\n",
       "0                           NaN                           NaN   \n",
       "1                           NaN                           NaN   \n",
       "2                           NaN                           NaN   \n",
       "\n",
       "   valor_recebido_capital  valor_recebido_total  \n",
       "0                     NaN                2730.0  \n",
       "1                     NaN                1300.0  \n",
       "2                     NaN                8190.0  \n",
       "\n",
       "[3 rows x 58 columns]"
      ]
     },
     "execution_count": 5,
     "metadata": {},
     "output_type": "execute_result"
    }
   ],
   "source": [
    "df_table = bd.read_table(\n",
    "    dataset_id=\"br_capes_bolsas\", \n",
    "    table_id=\"mobilidade_internacional\",\n",
    "    billing_project_id=project_id\n",
    ")\n",
    "df_table.head(3)"
   ]
  },
  {
   "cell_type": "code",
   "execution_count": 13,
   "metadata": {},
   "outputs": [],
   "source": [
    "# # Salvando tabela completa em pickle com compressão para poupar espaço.\n",
    "# # Descomentar célula apenas quando for utilizar:\n",
    "\n",
    "# df_table.to_pickle(\"../data/raw/capes_table.pkl\", compression='bz2')"
   ]
  },
  {
   "cell_type": "markdown",
   "metadata": {},
   "source": [
    "### Tabela filtrada"
   ]
  },
  {
   "cell_type": "code",
   "execution_count": 14,
   "metadata": {},
   "outputs": [
    {
     "data": {
      "text/plain": [
       "'SELECT ano_inicial, mes_inicial, ano_final, mes_final, id_processo_concessao, programa_capes, pais_destino, grande_area_conhecimento, nivel_ensino, uf_instituicao_origem, instituicao_ensino_origem, instituicao_ensino_principal, valor_recebido_total FROM `basedosdados.br_capes_bolsas.mobilidade_internacional`'"
      ]
     },
     "execution_count": 14,
     "metadata": {},
     "output_type": "execute_result"
    }
   ],
   "source": [
    "query_principal = \"\"\"\\\n",
    "SELECT \\\n",
    "ano_inicial, mes_inicial, ano_final, mes_final, \\\n",
    "id_processo_concessao, programa_capes, pais_destino, \\\n",
    "grande_area_conhecimento, nivel_ensino, uf_instituicao_origem, \\\n",
    "instituicao_ensino_origem, instituicao_ensino_principal, \\\n",
    "valor_recebido_total \\\n",
    "FROM \\\n",
    "`basedosdados.br_capes_bolsas.mobilidade_internacional`\\\n",
    "\"\"\"\n",
    "query_principal"
   ]
  },
  {
   "cell_type": "code",
   "execution_count": 11,
   "metadata": {},
   "outputs": [
    {
     "name": "stderr",
     "output_type": "stream",
     "text": [
      "Downloading: 100%|██████████| 146036/146036 [00:22<00:00, 6607.34rows/s]\n"
     ]
    },
    {
     "data": {
      "text/html": [
       "<div>\n",
       "<style scoped>\n",
       "    .dataframe tbody tr th:only-of-type {\n",
       "        vertical-align: middle;\n",
       "    }\n",
       "\n",
       "    .dataframe tbody tr th {\n",
       "        vertical-align: top;\n",
       "    }\n",
       "\n",
       "    .dataframe thead th {\n",
       "        text-align: right;\n",
       "    }\n",
       "</style>\n",
       "<table border=\"1\" class=\"dataframe\">\n",
       "  <thead>\n",
       "    <tr style=\"text-align: right;\">\n",
       "      <th></th>\n",
       "      <th>ano_inicial</th>\n",
       "      <th>mes_inicial</th>\n",
       "      <th>ano_final</th>\n",
       "      <th>mes_final</th>\n",
       "      <th>id_processo_concessao</th>\n",
       "      <th>programa_capes</th>\n",
       "      <th>pais_destino</th>\n",
       "      <th>grande_area_conhecimento</th>\n",
       "      <th>nivel_ensino</th>\n",
       "      <th>uf_instituicao_origem</th>\n",
       "      <th>instituicao_ensino_origem</th>\n",
       "      <th>instituicao_ensino_principal</th>\n",
       "      <th>valor_recebido_total</th>\n",
       "    </tr>\n",
       "  </thead>\n",
       "  <tbody>\n",
       "    <tr>\n",
       "      <th>0</th>\n",
       "      <td>2005</td>\n",
       "      <td>4</td>\n",
       "      <td>2010</td>\n",
       "      <td>3</td>\n",
       "      <td>1898-04-3</td>\n",
       "      <td>DAAD</td>\n",
       "      <td>ALEMANHA</td>\n",
       "      <td>ENGENHARIAS</td>\n",
       "      <td>DOUTORADO PLENO</td>\n",
       "      <td>SÃO PAULO</td>\n",
       "      <td>INSTITUTO TECNOLÓGICO DE AERONÁUTICA</td>\n",
       "      <td>TECHNISCHE UNIVERSITÄT DARMSTADT</td>\n",
       "      <td>1300.0</td>\n",
       "    </tr>\n",
       "    <tr>\n",
       "      <th>1</th>\n",
       "      <td>2005</td>\n",
       "      <td>9</td>\n",
       "      <td>2010</td>\n",
       "      <td>3</td>\n",
       "      <td>2725-04-5</td>\n",
       "      <td>DPE - PROGRAMA DE DOUTORADO PLENO NO EXTERIOR</td>\n",
       "      <td>REINO UNIDO</td>\n",
       "      <td>CIÊNCIAS SOCIAIS APLICADAS</td>\n",
       "      <td>DOUTORADO PLENO</td>\n",
       "      <td>SÃO PAULO</td>\n",
       "      <td>FUNDAÇÃO GETÚLIO VARGAS</td>\n",
       "      <td>UNIVERSITY OF WARWICK</td>\n",
       "      <td>2730.0</td>\n",
       "    </tr>\n",
       "    <tr>\n",
       "      <th>2</th>\n",
       "      <td>2006</td>\n",
       "      <td>10</td>\n",
       "      <td>2010</td>\n",
       "      <td>9</td>\n",
       "      <td>3158-05-5</td>\n",
       "      <td>DPE - PROGRAMA DE DOUTORADO PLENO NO EXTERIOR</td>\n",
       "      <td>REINO UNIDO</td>\n",
       "      <td>CIÊNCIAS SOCIAIS APLICADAS</td>\n",
       "      <td>DOUTORADO PLENO</td>\n",
       "      <td>RIO DE JANEIRO</td>\n",
       "      <td>UNIVERSIDADE FEDERAL DO RIO DE JANEIRO</td>\n",
       "      <td>UNIVERSITY OF CAMBRIDGE</td>\n",
       "      <td>8190.0</td>\n",
       "    </tr>\n",
       "  </tbody>\n",
       "</table>\n",
       "</div>"
      ],
      "text/plain": [
       "   ano_inicial  mes_inicial  ano_final  mes_final id_processo_concessao  \\\n",
       "0         2005            4       2010          3             1898-04-3   \n",
       "1         2005            9       2010          3             2725-04-5   \n",
       "2         2006           10       2010          9             3158-05-5   \n",
       "\n",
       "                                  programa_capes pais_destino  \\\n",
       "0                                           DAAD     ALEMANHA   \n",
       "1  DPE - PROGRAMA DE DOUTORADO PLENO NO EXTERIOR  REINO UNIDO   \n",
       "2  DPE - PROGRAMA DE DOUTORADO PLENO NO EXTERIOR  REINO UNIDO   \n",
       "\n",
       "     grande_area_conhecimento     nivel_ensino uf_instituicao_origem  \\\n",
       "0                 ENGENHARIAS  DOUTORADO PLENO             SÃO PAULO   \n",
       "1  CIÊNCIAS SOCIAIS APLICADAS  DOUTORADO PLENO             SÃO PAULO   \n",
       "2  CIÊNCIAS SOCIAIS APLICADAS  DOUTORADO PLENO        RIO DE JANEIRO   \n",
       "\n",
       "                instituicao_ensino_origem      instituicao_ensino_principal  \\\n",
       "0    INSTITUTO TECNOLÓGICO DE AERONÁUTICA  TECHNISCHE UNIVERSITÄT DARMSTADT   \n",
       "1                 FUNDAÇÃO GETÚLIO VARGAS             UNIVERSITY OF WARWICK   \n",
       "2  UNIVERSIDADE FEDERAL DO RIO DE JANEIRO           UNIVERSITY OF CAMBRIDGE   \n",
       "\n",
       "   valor_recebido_total  \n",
       "0                1300.0  \n",
       "1                2730.0  \n",
       "2                8190.0  "
      ]
     },
     "execution_count": 11,
     "metadata": {},
     "output_type": "execute_result"
    }
   ],
   "source": [
    "df_query = bd.read_sql(\n",
    "    query=query_principal,\n",
    "    billing_project_id=project_id\n",
    ")\n",
    "df_query.head(3)"
   ]
  },
  {
   "cell_type": "code",
   "execution_count": 16,
   "metadata": {},
   "outputs": [],
   "source": [
    "# # Salvando tabela filtrada em pickle com compressão para poupar espaço.\n",
    "# # Descomentar célula apenas quando for utilizar:\n",
    "\n",
    "# df_query.to_pickle(\"../data/raw/capes_query.pkl\", compression='bz2')"
   ]
  }
 ],
 "metadata": {
  "kernelspec": {
   "display_name": "Python 3.7.9 ('.venv': venv)",
   "language": "python",
   "name": "python3"
  },
  "language_info": {
   "codemirror_mode": {
    "name": "ipython",
    "version": 3
   },
   "file_extension": ".py",
   "mimetype": "text/x-python",
   "name": "python",
   "nbconvert_exporter": "python",
   "pygments_lexer": "ipython3",
   "version": "3.7.9"
  },
  "orig_nbformat": 4,
  "vscode": {
   "interpreter": {
    "hash": "8ce819f19e84cb9214ada78a82609d5fc979ca2bc46fd6300cbaca32b8a4db33"
   }
  }
 },
 "nbformat": 4,
 "nbformat_minor": 2
}
