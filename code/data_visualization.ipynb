{
 "cells": [
  {
   "cell_type": "markdown",
   "metadata": {},
   "source": [
    "### Pacotes e dados"
   ]
  },
  {
   "cell_type": "code",
   "execution_count": 1,
   "metadata": {},
   "outputs": [],
   "source": [
    "import pandas as pd\n",
    "import numpy as np\n",
    "import matplotlib.pyplot as plt\n",
    "import seaborn as sns\n",
    "import plotly.express as px\n",
    "import datetime\n",
    "from datetime import datetime\n",
    "from qbstyles import mpl_style; mpl_style(dark=True)"
   ]
  },
  {
   "cell_type": "code",
   "execution_count": 2,
   "metadata": {},
   "outputs": [
    {
     "name": "stdout",
     "output_type": "stream",
     "text": [
      "Shape: (146036, 13)\n"
     ]
    },
    {
     "data": {
      "text/html": [
       "<div>\n",
       "<style scoped>\n",
       "    .dataframe tbody tr th:only-of-type {\n",
       "        vertical-align: middle;\n",
       "    }\n",
       "\n",
       "    .dataframe tbody tr th {\n",
       "        vertical-align: top;\n",
       "    }\n",
       "\n",
       "    .dataframe thead th {\n",
       "        text-align: right;\n",
       "    }\n",
       "</style>\n",
       "<table border=\"1\" class=\"dataframe\">\n",
       "  <thead>\n",
       "    <tr style=\"text-align: right;\">\n",
       "      <th></th>\n",
       "      <th>ano_inicial</th>\n",
       "      <th>mes_inicial</th>\n",
       "      <th>ano_final</th>\n",
       "      <th>mes_final</th>\n",
       "      <th>id_processo_concessao</th>\n",
       "      <th>programa_capes</th>\n",
       "      <th>pais_destino</th>\n",
       "      <th>grande_area_conhecimento</th>\n",
       "      <th>nivel_ensino</th>\n",
       "      <th>uf_instituicao_origem</th>\n",
       "      <th>instituicao_ensino_origem</th>\n",
       "      <th>instituicao_ensino_principal</th>\n",
       "      <th>valor_recebido_total</th>\n",
       "    </tr>\n",
       "  </thead>\n",
       "  <tbody>\n",
       "    <tr>\n",
       "      <th>0</th>\n",
       "      <td>2005</td>\n",
       "      <td>4</td>\n",
       "      <td>2010</td>\n",
       "      <td>3</td>\n",
       "      <td>1898-04-3</td>\n",
       "      <td>DAAD</td>\n",
       "      <td>ALEMANHA</td>\n",
       "      <td>ENGENHARIAS</td>\n",
       "      <td>DOUTORADO PLENO</td>\n",
       "      <td>SÃO PAULO</td>\n",
       "      <td>INSTITUTO TECNOLÓGICO DE AERONÁUTICA</td>\n",
       "      <td>TECHNISCHE UNIVERSITÄT DARMSTADT</td>\n",
       "      <td>1300.0</td>\n",
       "    </tr>\n",
       "    <tr>\n",
       "      <th>1</th>\n",
       "      <td>2005</td>\n",
       "      <td>9</td>\n",
       "      <td>2010</td>\n",
       "      <td>3</td>\n",
       "      <td>2725-04-5</td>\n",
       "      <td>DPE - PROGRAMA DE DOUTORADO PLENO NO EXTERIOR</td>\n",
       "      <td>REINO UNIDO</td>\n",
       "      <td>CIÊNCIAS SOCIAIS APLICADAS</td>\n",
       "      <td>DOUTORADO PLENO</td>\n",
       "      <td>SÃO PAULO</td>\n",
       "      <td>FUNDAÇÃO GETÚLIO VARGAS</td>\n",
       "      <td>UNIVERSITY OF WARWICK</td>\n",
       "      <td>2730.0</td>\n",
       "    </tr>\n",
       "    <tr>\n",
       "      <th>2</th>\n",
       "      <td>2006</td>\n",
       "      <td>10</td>\n",
       "      <td>2010</td>\n",
       "      <td>9</td>\n",
       "      <td>3158-05-5</td>\n",
       "      <td>DPE - PROGRAMA DE DOUTORADO PLENO NO EXTERIOR</td>\n",
       "      <td>REINO UNIDO</td>\n",
       "      <td>CIÊNCIAS SOCIAIS APLICADAS</td>\n",
       "      <td>DOUTORADO PLENO</td>\n",
       "      <td>RIO DE JANEIRO</td>\n",
       "      <td>UNIVERSIDADE FEDERAL DO RIO DE JANEIRO</td>\n",
       "      <td>UNIVERSITY OF CAMBRIDGE</td>\n",
       "      <td>8190.0</td>\n",
       "    </tr>\n",
       "  </tbody>\n",
       "</table>\n",
       "</div>"
      ],
      "text/plain": [
       "   ano_inicial  mes_inicial  ano_final  mes_final id_processo_concessao  \\\n",
       "0         2005            4       2010          3             1898-04-3   \n",
       "1         2005            9       2010          3             2725-04-5   \n",
       "2         2006           10       2010          9             3158-05-5   \n",
       "\n",
       "                                  programa_capes pais_destino  \\\n",
       "0                                           DAAD     ALEMANHA   \n",
       "1  DPE - PROGRAMA DE DOUTORADO PLENO NO EXTERIOR  REINO UNIDO   \n",
       "2  DPE - PROGRAMA DE DOUTORADO PLENO NO EXTERIOR  REINO UNIDO   \n",
       "\n",
       "     grande_area_conhecimento     nivel_ensino uf_instituicao_origem  \\\n",
       "0                 ENGENHARIAS  DOUTORADO PLENO             SÃO PAULO   \n",
       "1  CIÊNCIAS SOCIAIS APLICADAS  DOUTORADO PLENO             SÃO PAULO   \n",
       "2  CIÊNCIAS SOCIAIS APLICADAS  DOUTORADO PLENO        RIO DE JANEIRO   \n",
       "\n",
       "                instituicao_ensino_origem      instituicao_ensino_principal  \\\n",
       "0    INSTITUTO TECNOLÓGICO DE AERONÁUTICA  TECHNISCHE UNIVERSITÄT DARMSTADT   \n",
       "1                 FUNDAÇÃO GETÚLIO VARGAS             UNIVERSITY OF WARWICK   \n",
       "2  UNIVERSIDADE FEDERAL DO RIO DE JANEIRO           UNIVERSITY OF CAMBRIDGE   \n",
       "\n",
       "   valor_recebido_total  \n",
       "0                1300.0  \n",
       "1                2730.0  \n",
       "2                8190.0  "
      ]
     },
     "metadata": {},
     "output_type": "display_data"
    }
   ],
   "source": [
    "df = pd.read_pickle(\"../data/raw/capes_query.pkl\", compression='bz2')\n",
    "print(f\"Shape: {df.shape}\")\n",
    "display(df.head(3))"
   ]
  },
  {
   "cell_type": "code",
   "execution_count": 3,
   "metadata": {},
   "outputs": [
    {
     "data": {
      "text/html": [
       "<div>\n",
       "<style scoped>\n",
       "    .dataframe tbody tr th:only-of-type {\n",
       "        vertical-align: middle;\n",
       "    }\n",
       "\n",
       "    .dataframe tbody tr th {\n",
       "        vertical-align: top;\n",
       "    }\n",
       "\n",
       "    .dataframe thead th {\n",
       "        text-align: right;\n",
       "    }\n",
       "</style>\n",
       "<table border=\"1\" class=\"dataframe\">\n",
       "  <thead>\n",
       "    <tr style=\"text-align: right;\">\n",
       "      <th></th>\n",
       "      <th>ano_inicial</th>\n",
       "      <th>mes_inicial</th>\n",
       "      <th>ano_final</th>\n",
       "      <th>mes_final</th>\n",
       "      <th>id_processo_concessao</th>\n",
       "      <th>programa_capes</th>\n",
       "      <th>pais_destino</th>\n",
       "      <th>grande_area_conhecimento</th>\n",
       "      <th>nivel_ensino</th>\n",
       "      <th>uf_instituicao_origem</th>\n",
       "      <th>instituicao_ensino_origem</th>\n",
       "      <th>instituicao_ensino_principal</th>\n",
       "      <th>valor_recebido_total</th>\n",
       "    </tr>\n",
       "  </thead>\n",
       "  <tbody>\n",
       "    <tr>\n",
       "      <th>801</th>\n",
       "      <td>2011</td>\n",
       "      <td>11</td>\n",
       "      <td>2013</td>\n",
       "      <td>2</td>\n",
       "      <td>0116-11-4</td>\n",
       "      <td>PPDE - PROGRAMA DE PÓS-DOUTORADO NO EXTERIOR</td>\n",
       "      <td>ESTADOS UNIDOS</td>\n",
       "      <td>LINGÜÍSTICA, LETRAS E ARTES</td>\n",
       "      <td>ESTÁGIO PÓS-DOUTORAL</td>\n",
       "      <td>RIO DE JANEIRO</td>\n",
       "      <td>UNIVERSIDADE DO ESTADO DO RIO DE JANEIRO</td>\n",
       "      <td>None</td>\n",
       "      <td>5804.0</td>\n",
       "    </tr>\n",
       "    <tr>\n",
       "      <th>802</th>\n",
       "      <td>2011</td>\n",
       "      <td>11</td>\n",
       "      <td>2013</td>\n",
       "      <td>4</td>\n",
       "      <td>0561-11-8</td>\n",
       "      <td>PPDE - PROGRAMA DE PÓS-DOUTORADO NO EXTERIOR</td>\n",
       "      <td>ALEMANHA</td>\n",
       "      <td>CIÊNCIAS BIOLÓGICAS</td>\n",
       "      <td>ESTÁGIO PÓS-DOUTORAL</td>\n",
       "      <td>SÃO PAULO</td>\n",
       "      <td>UNIVERSIDADE FEDERAL DE SÃO PAULO</td>\n",
       "      <td>None</td>\n",
       "      <td>8400.0</td>\n",
       "    </tr>\n",
       "    <tr>\n",
       "      <th>803</th>\n",
       "      <td>2011</td>\n",
       "      <td>11</td>\n",
       "      <td>2013</td>\n",
       "      <td>4</td>\n",
       "      <td>0561-11-8</td>\n",
       "      <td>PPDE - PROGRAMA DE PÓS-DOUTORADO NO EXTERIOR</td>\n",
       "      <td>ALEMANHA</td>\n",
       "      <td>CIÊNCIAS BIOLÓGICAS</td>\n",
       "      <td>ESTÁGIO PÓS-DOUTORAL</td>\n",
       "      <td>SÃO PAULO</td>\n",
       "      <td>UNIVERSIDADE FEDERAL DE SÃO PAULO</td>\n",
       "      <td>None</td>\n",
       "      <td>1706.0</td>\n",
       "    </tr>\n",
       "    <tr>\n",
       "      <th>804</th>\n",
       "      <td>2011</td>\n",
       "      <td>11</td>\n",
       "      <td>2013</td>\n",
       "      <td>4</td>\n",
       "      <td>3628-11-6</td>\n",
       "      <td>CAPES/COFECUB (COMITÊ FRANCÊS DE AVALIAÇÃO DA ...</td>\n",
       "      <td>FRANÇA</td>\n",
       "      <td>CIÊNCIAS EXATAS E DA TERRA</td>\n",
       "      <td>DOUTORADO SANDUÍCHE</td>\n",
       "      <td>RIO GRANDE DO SUL</td>\n",
       "      <td>UNIVERSIDADE FEDERAL DO RIO GRANDE DO SUL</td>\n",
       "      <td>None</td>\n",
       "      <td>5320.0</td>\n",
       "    </tr>\n",
       "    <tr>\n",
       "      <th>805</th>\n",
       "      <td>2011</td>\n",
       "      <td>11</td>\n",
       "      <td>2013</td>\n",
       "      <td>4</td>\n",
       "      <td>4942-11-6</td>\n",
       "      <td>CAPES/COFECUB (COMITÊ FRANCÊS DE AVALIAÇÃO DA ...</td>\n",
       "      <td>FRANÇA</td>\n",
       "      <td>CIÊNCIAS EXATAS E DA TERRA</td>\n",
       "      <td>DOUTORADO SANDUÍCHE</td>\n",
       "      <td>SÃO PAULO</td>\n",
       "      <td>UNIVERSIDADE DE SÃO PAULO</td>\n",
       "      <td>None</td>\n",
       "      <td>5320.0</td>\n",
       "    </tr>\n",
       "    <tr>\n",
       "      <th>...</th>\n",
       "      <td>...</td>\n",
       "      <td>...</td>\n",
       "      <td>...</td>\n",
       "      <td>...</td>\n",
       "      <td>...</td>\n",
       "      <td>...</td>\n",
       "      <td>...</td>\n",
       "      <td>...</td>\n",
       "      <td>...</td>\n",
       "      <td>...</td>\n",
       "      <td>...</td>\n",
       "      <td>...</td>\n",
       "      <td>...</td>\n",
       "    </tr>\n",
       "    <tr>\n",
       "      <th>146031</th>\n",
       "      <td>2014</td>\n",
       "      <td>8</td>\n",
       "      <td>2018</td>\n",
       "      <td>7</td>\n",
       "      <td>99999.013449/2013-03</td>\n",
       "      <td>DPE - PROGRAMA DE DOUTORADO PLENO NO EXTERIOR</td>\n",
       "      <td>ESTADOS UNIDOS</td>\n",
       "      <td>CIÊNCIAS EXATAS E DA TERRA</td>\n",
       "      <td>DOUTORADO PLENO</td>\n",
       "      <td>DISTRITO FEDERAL</td>\n",
       "      <td>UNIVERSIDADE DE BRASÍLIA</td>\n",
       "      <td>None</td>\n",
       "      <td>33904.0</td>\n",
       "    </tr>\n",
       "    <tr>\n",
       "      <th>146032</th>\n",
       "      <td>2014</td>\n",
       "      <td>8</td>\n",
       "      <td>2018</td>\n",
       "      <td>7</td>\n",
       "      <td>99999.013467/2013-01</td>\n",
       "      <td>DPE - PROGRAMA DE DOUTORADO PLENO NO EXTERIOR</td>\n",
       "      <td>ESTADOS UNIDOS</td>\n",
       "      <td>CIÊNCIAS EXATAS E DA TERRA</td>\n",
       "      <td>DOUTORADO PLENO</td>\n",
       "      <td>SÃO PAULO</td>\n",
       "      <td>UNIVERSIDADE DE SÃO PAULO</td>\n",
       "      <td>None</td>\n",
       "      <td>35508.0</td>\n",
       "    </tr>\n",
       "    <tr>\n",
       "      <th>146033</th>\n",
       "      <td>2014</td>\n",
       "      <td>8</td>\n",
       "      <td>2018</td>\n",
       "      <td>7</td>\n",
       "      <td>99999.013472/2013-05</td>\n",
       "      <td>DPE - PROGRAMA DE DOUTORADO PLENO NO EXTERIOR</td>\n",
       "      <td>ALEMANHA</td>\n",
       "      <td>MULTIDISCIPLINAR</td>\n",
       "      <td>DOUTORADO PLENO</td>\n",
       "      <td>PARANÁ</td>\n",
       "      <td>UNIVERSIDADE FEDERAL DO PARANÁ</td>\n",
       "      <td>None</td>\n",
       "      <td>NaN</td>\n",
       "    </tr>\n",
       "    <tr>\n",
       "      <th>146034</th>\n",
       "      <td>2014</td>\n",
       "      <td>8</td>\n",
       "      <td>2018</td>\n",
       "      <td>5</td>\n",
       "      <td>99999.013478/2013-03</td>\n",
       "      <td>DPE - PROGRAMA DE DOUTORADO PLENO NO EXTERIOR</td>\n",
       "      <td>ESTADOS UNIDOS</td>\n",
       "      <td>CIÊNCIAS BIOLÓGICAS</td>\n",
       "      <td>DOUTORADO PLENO</td>\n",
       "      <td>RIO DE JANEIRO</td>\n",
       "      <td>FUNDACAO OSWALDO CRUZ (FIOCRUZ)</td>\n",
       "      <td>None</td>\n",
       "      <td>11900.0</td>\n",
       "    </tr>\n",
       "    <tr>\n",
       "      <th>146035</th>\n",
       "      <td>2014</td>\n",
       "      <td>8</td>\n",
       "      <td>2017</td>\n",
       "      <td>7</td>\n",
       "      <td>88887.066723/2014-00</td>\n",
       "      <td>BJT/CSF - BOLSA JOVENS TALENTOS - PROGRAMA CIÊ...</td>\n",
       "      <td>BRASIL</td>\n",
       "      <td>CIÊNCIAS BIOLÓGICAS</td>\n",
       "      <td>JOVENS TALENTOS - B</td>\n",
       "      <td>PROVINCIA DE TUCUMAN</td>\n",
       "      <td>UNIVERSIDAD NACIONAL DE TUCUMÁN</td>\n",
       "      <td>None</td>\n",
       "      <td>28700.0</td>\n",
       "    </tr>\n",
       "  </tbody>\n",
       "</table>\n",
       "<p>120155 rows × 13 columns</p>\n",
       "</div>"
      ],
      "text/plain": [
       "        ano_inicial  mes_inicial  ano_final  mes_final id_processo_concessao  \\\n",
       "801            2011           11       2013          2             0116-11-4   \n",
       "802            2011           11       2013          4             0561-11-8   \n",
       "803            2011           11       2013          4             0561-11-8   \n",
       "804            2011           11       2013          4             3628-11-6   \n",
       "805            2011           11       2013          4             4942-11-6   \n",
       "...             ...          ...        ...        ...                   ...   \n",
       "146031         2014            8       2018          7  99999.013449/2013-03   \n",
       "146032         2014            8       2018          7  99999.013467/2013-01   \n",
       "146033         2014            8       2018          7  99999.013472/2013-05   \n",
       "146034         2014            8       2018          5  99999.013478/2013-03   \n",
       "146035         2014            8       2017          7  88887.066723/2014-00   \n",
       "\n",
       "                                           programa_capes    pais_destino  \\\n",
       "801          PPDE - PROGRAMA DE PÓS-DOUTORADO NO EXTERIOR  ESTADOS UNIDOS   \n",
       "802          PPDE - PROGRAMA DE PÓS-DOUTORADO NO EXTERIOR        ALEMANHA   \n",
       "803          PPDE - PROGRAMA DE PÓS-DOUTORADO NO EXTERIOR        ALEMANHA   \n",
       "804     CAPES/COFECUB (COMITÊ FRANCÊS DE AVALIAÇÃO DA ...          FRANÇA   \n",
       "805     CAPES/COFECUB (COMITÊ FRANCÊS DE AVALIAÇÃO DA ...          FRANÇA   \n",
       "...                                                   ...             ...   \n",
       "146031      DPE - PROGRAMA DE DOUTORADO PLENO NO EXTERIOR  ESTADOS UNIDOS   \n",
       "146032      DPE - PROGRAMA DE DOUTORADO PLENO NO EXTERIOR  ESTADOS UNIDOS   \n",
       "146033      DPE - PROGRAMA DE DOUTORADO PLENO NO EXTERIOR        ALEMANHA   \n",
       "146034      DPE - PROGRAMA DE DOUTORADO PLENO NO EXTERIOR  ESTADOS UNIDOS   \n",
       "146035  BJT/CSF - BOLSA JOVENS TALENTOS - PROGRAMA CIÊ...          BRASIL   \n",
       "\n",
       "           grande_area_conhecimento          nivel_ensino  \\\n",
       "801     LINGÜÍSTICA, LETRAS E ARTES  ESTÁGIO PÓS-DOUTORAL   \n",
       "802             CIÊNCIAS BIOLÓGICAS  ESTÁGIO PÓS-DOUTORAL   \n",
       "803             CIÊNCIAS BIOLÓGICAS  ESTÁGIO PÓS-DOUTORAL   \n",
       "804      CIÊNCIAS EXATAS E DA TERRA   DOUTORADO SANDUÍCHE   \n",
       "805      CIÊNCIAS EXATAS E DA TERRA   DOUTORADO SANDUÍCHE   \n",
       "...                             ...                   ...   \n",
       "146031   CIÊNCIAS EXATAS E DA TERRA       DOUTORADO PLENO   \n",
       "146032   CIÊNCIAS EXATAS E DA TERRA       DOUTORADO PLENO   \n",
       "146033             MULTIDISCIPLINAR       DOUTORADO PLENO   \n",
       "146034          CIÊNCIAS BIOLÓGICAS       DOUTORADO PLENO   \n",
       "146035          CIÊNCIAS BIOLÓGICAS   JOVENS TALENTOS - B   \n",
       "\n",
       "       uf_instituicao_origem                  instituicao_ensino_origem  \\\n",
       "801           RIO DE JANEIRO   UNIVERSIDADE DO ESTADO DO RIO DE JANEIRO   \n",
       "802                SÃO PAULO          UNIVERSIDADE FEDERAL DE SÃO PAULO   \n",
       "803                SÃO PAULO          UNIVERSIDADE FEDERAL DE SÃO PAULO   \n",
       "804        RIO GRANDE DO SUL  UNIVERSIDADE FEDERAL DO RIO GRANDE DO SUL   \n",
       "805                SÃO PAULO                  UNIVERSIDADE DE SÃO PAULO   \n",
       "...                      ...                                        ...   \n",
       "146031      DISTRITO FEDERAL                   UNIVERSIDADE DE BRASÍLIA   \n",
       "146032             SÃO PAULO                  UNIVERSIDADE DE SÃO PAULO   \n",
       "146033                PARANÁ             UNIVERSIDADE FEDERAL DO PARANÁ   \n",
       "146034        RIO DE JANEIRO            FUNDACAO OSWALDO CRUZ (FIOCRUZ)   \n",
       "146035  PROVINCIA DE TUCUMAN            UNIVERSIDAD NACIONAL DE TUCUMÁN   \n",
       "\n",
       "       instituicao_ensino_principal  valor_recebido_total  \n",
       "801                            None                5804.0  \n",
       "802                            None                8400.0  \n",
       "803                            None                1706.0  \n",
       "804                            None                5320.0  \n",
       "805                            None                5320.0  \n",
       "...                             ...                   ...  \n",
       "146031                         None               33904.0  \n",
       "146032                         None               35508.0  \n",
       "146033                         None                   NaN  \n",
       "146034                         None               11900.0  \n",
       "146035                         None               28700.0  \n",
       "\n",
       "[120155 rows x 13 columns]"
      ]
     },
     "execution_count": 3,
     "metadata": {},
     "output_type": "execute_result"
    }
   ],
   "source": [
    "df[df[\"instituicao_ensino_principal\"].isnull()]"
   ]
  },
  {
   "cell_type": "markdown",
   "metadata": {},
   "source": [
    "### Tratando nulos"
   ]
  },
  {
   "cell_type": "code",
   "execution_count": 4,
   "metadata": {},
   "outputs": [],
   "source": [
    "def nan_report(data):\n",
    "    list = []\n",
    "    total = 0\n",
    "    for col in data.columns:\n",
    "        nulls = data[col].isnull().sum()\n",
    "        if nulls > 0:\n",
    "            total = total + nulls\n",
    "            frac_nulls = round(100*nulls/data.shape[0], 2)\n",
    "            print(f\"Nulos em {col}:\", nulls, \"\\nPorcentagem:\", frac_nulls, \"%\\n\")\n",
    "        else:\n",
    "            list.append(col)\n",
    "    if total == 0:\n",
    "        print(\"Dataframe sem dados faltantes!\")\n",
    "    else:\n",
    "        frac_total = round(100*total/(data.shape[0]*data.shape[1]), 2)\n",
    "        print(\"TOTAL:\", total, \"\\nPorcentagem:\", frac_total, \"%\\n\")\n",
    "        print(f\"Colunas sem nulos:\\n{list}\")"
   ]
  },
  {
   "cell_type": "code",
   "execution_count": 5,
   "metadata": {},
   "outputs": [
    {
     "name": "stdout",
     "output_type": "stream",
     "text": [
      "Nulos em grande_area_conhecimento: 5239 \n",
      "Porcentagem: 3.59 %\n",
      "\n",
      "Nulos em uf_instituicao_origem: 3595 \n",
      "Porcentagem: 2.46 %\n",
      "\n",
      "Nulos em instituicao_ensino_origem: 2881 \n",
      "Porcentagem: 1.97 %\n",
      "\n",
      "Nulos em instituicao_ensino_principal: 120155 \n",
      "Porcentagem: 82.28 %\n",
      "\n",
      "Nulos em valor_recebido_total: 10577 \n",
      "Porcentagem: 7.24 %\n",
      "\n",
      "TOTAL: 142447 \n",
      "Porcentagem: 7.5 %\n",
      "\n",
      "Colunas sem nulos:\n",
      "['ano_inicial', 'mes_inicial', 'ano_final', 'mes_final', 'id_processo_concessao', 'programa_capes', 'pais_destino', 'nivel_ensino']\n"
     ]
    }
   ],
   "source": [
    "nan_report(df)"
   ]
  },
  {
   "cell_type": "markdown",
   "metadata": {},
   "source": [
    "A coluna `instituicao_ensino_principal` possui mais de 80% de dados faltantes. Por isso será eliminada."
   ]
  },
  {
   "cell_type": "code",
   "execution_count": 6,
   "metadata": {},
   "outputs": [],
   "source": [
    "df.drop(\"instituicao_ensino_principal\", axis=1, inplace=True)"
   ]
  },
  {
   "cell_type": "code",
   "execution_count": 7,
   "metadata": {},
   "outputs": [
    {
     "data": {
      "text/html": [
       "<div>\n",
       "<style scoped>\n",
       "    .dataframe tbody tr th:only-of-type {\n",
       "        vertical-align: middle;\n",
       "    }\n",
       "\n",
       "    .dataframe tbody tr th {\n",
       "        vertical-align: top;\n",
       "    }\n",
       "\n",
       "    .dataframe thead th {\n",
       "        text-align: right;\n",
       "    }\n",
       "</style>\n",
       "<table border=\"1\" class=\"dataframe\">\n",
       "  <thead>\n",
       "    <tr style=\"text-align: right;\">\n",
       "      <th></th>\n",
       "      <th>ano_inicial</th>\n",
       "      <th>mes_inicial</th>\n",
       "      <th>ano_final</th>\n",
       "      <th>mes_final</th>\n",
       "      <th>id_processo_concessao</th>\n",
       "      <th>programa_capes</th>\n",
       "      <th>pais_destino</th>\n",
       "      <th>grande_area_conhecimento</th>\n",
       "      <th>nivel_ensino</th>\n",
       "      <th>uf_instituicao_origem</th>\n",
       "      <th>instituicao_ensino_origem</th>\n",
       "      <th>valor_recebido_total</th>\n",
       "    </tr>\n",
       "  </thead>\n",
       "  <tbody>\n",
       "    <tr>\n",
       "      <th>0</th>\n",
       "      <td>2005</td>\n",
       "      <td>4</td>\n",
       "      <td>2010</td>\n",
       "      <td>3</td>\n",
       "      <td>1898-04-3</td>\n",
       "      <td>DAAD</td>\n",
       "      <td>ALEMANHA</td>\n",
       "      <td>ENGENHARIAS</td>\n",
       "      <td>DOUTORADO PLENO</td>\n",
       "      <td>SÃO PAULO</td>\n",
       "      <td>INSTITUTO TECNOLÓGICO DE AERONÁUTICA</td>\n",
       "      <td>1300.0</td>\n",
       "    </tr>\n",
       "    <tr>\n",
       "      <th>1</th>\n",
       "      <td>2005</td>\n",
       "      <td>9</td>\n",
       "      <td>2010</td>\n",
       "      <td>3</td>\n",
       "      <td>2725-04-5</td>\n",
       "      <td>DPE - PROGRAMA DE DOUTORADO PLENO NO EXTERIOR</td>\n",
       "      <td>REINO UNIDO</td>\n",
       "      <td>CIÊNCIAS SOCIAIS APLICADAS</td>\n",
       "      <td>DOUTORADO PLENO</td>\n",
       "      <td>SÃO PAULO</td>\n",
       "      <td>FUNDAÇÃO GETÚLIO VARGAS</td>\n",
       "      <td>2730.0</td>\n",
       "    </tr>\n",
       "    <tr>\n",
       "      <th>2</th>\n",
       "      <td>2006</td>\n",
       "      <td>10</td>\n",
       "      <td>2010</td>\n",
       "      <td>9</td>\n",
       "      <td>3158-05-5</td>\n",
       "      <td>DPE - PROGRAMA DE DOUTORADO PLENO NO EXTERIOR</td>\n",
       "      <td>REINO UNIDO</td>\n",
       "      <td>CIÊNCIAS SOCIAIS APLICADAS</td>\n",
       "      <td>DOUTORADO PLENO</td>\n",
       "      <td>RIO DE JANEIRO</td>\n",
       "      <td>UNIVERSIDADE FEDERAL DO RIO DE JANEIRO</td>\n",
       "      <td>8190.0</td>\n",
       "    </tr>\n",
       "    <tr>\n",
       "      <th>3</th>\n",
       "      <td>2006</td>\n",
       "      <td>10</td>\n",
       "      <td>2010</td>\n",
       "      <td>7</td>\n",
       "      <td>2520-05-2</td>\n",
       "      <td>DOUTORADO PLENO NOS EUA - CAPES/FULBRIGHT</td>\n",
       "      <td>ESTADOS UNIDOS</td>\n",
       "      <td>CIÊNCIAS SOCIAIS APLICADAS</td>\n",
       "      <td>DOUTORADO PLENO</td>\n",
       "      <td>DISTRITO FEDERAL</td>\n",
       "      <td>BANCO CENTRAL DO BRASIL</td>\n",
       "      <td>NaN</td>\n",
       "    </tr>\n",
       "    <tr>\n",
       "      <th>4</th>\n",
       "      <td>2006</td>\n",
       "      <td>10</td>\n",
       "      <td>2010</td>\n",
       "      <td>7</td>\n",
       "      <td>4199-05-7</td>\n",
       "      <td>DPE - PROGRAMA DE DOUTORADO PLENO NO EXTERIOR</td>\n",
       "      <td>REINO UNIDO</td>\n",
       "      <td>CIÊNCIAS SOCIAIS APLICADAS</td>\n",
       "      <td>DOUTORADO PLENO</td>\n",
       "      <td>SÃO PAULO</td>\n",
       "      <td>FACULDADES INTEGRADAS ALCÂNTARA MACHADO</td>\n",
       "      <td>6370.0</td>\n",
       "    </tr>\n",
       "    <tr>\n",
       "      <th>...</th>\n",
       "      <td>...</td>\n",
       "      <td>...</td>\n",
       "      <td>...</td>\n",
       "      <td>...</td>\n",
       "      <td>...</td>\n",
       "      <td>...</td>\n",
       "      <td>...</td>\n",
       "      <td>...</td>\n",
       "      <td>...</td>\n",
       "      <td>...</td>\n",
       "      <td>...</td>\n",
       "      <td>...</td>\n",
       "    </tr>\n",
       "    <tr>\n",
       "      <th>146031</th>\n",
       "      <td>2014</td>\n",
       "      <td>8</td>\n",
       "      <td>2018</td>\n",
       "      <td>7</td>\n",
       "      <td>99999.013449/2013-03</td>\n",
       "      <td>DPE - PROGRAMA DE DOUTORADO PLENO NO EXTERIOR</td>\n",
       "      <td>ESTADOS UNIDOS</td>\n",
       "      <td>CIÊNCIAS EXATAS E DA TERRA</td>\n",
       "      <td>DOUTORADO PLENO</td>\n",
       "      <td>DISTRITO FEDERAL</td>\n",
       "      <td>UNIVERSIDADE DE BRASÍLIA</td>\n",
       "      <td>33904.0</td>\n",
       "    </tr>\n",
       "    <tr>\n",
       "      <th>146032</th>\n",
       "      <td>2014</td>\n",
       "      <td>8</td>\n",
       "      <td>2018</td>\n",
       "      <td>7</td>\n",
       "      <td>99999.013467/2013-01</td>\n",
       "      <td>DPE - PROGRAMA DE DOUTORADO PLENO NO EXTERIOR</td>\n",
       "      <td>ESTADOS UNIDOS</td>\n",
       "      <td>CIÊNCIAS EXATAS E DA TERRA</td>\n",
       "      <td>DOUTORADO PLENO</td>\n",
       "      <td>SÃO PAULO</td>\n",
       "      <td>UNIVERSIDADE DE SÃO PAULO</td>\n",
       "      <td>35508.0</td>\n",
       "    </tr>\n",
       "    <tr>\n",
       "      <th>146033</th>\n",
       "      <td>2014</td>\n",
       "      <td>8</td>\n",
       "      <td>2018</td>\n",
       "      <td>7</td>\n",
       "      <td>99999.013472/2013-05</td>\n",
       "      <td>DPE - PROGRAMA DE DOUTORADO PLENO NO EXTERIOR</td>\n",
       "      <td>ALEMANHA</td>\n",
       "      <td>MULTIDISCIPLINAR</td>\n",
       "      <td>DOUTORADO PLENO</td>\n",
       "      <td>PARANÁ</td>\n",
       "      <td>UNIVERSIDADE FEDERAL DO PARANÁ</td>\n",
       "      <td>NaN</td>\n",
       "    </tr>\n",
       "    <tr>\n",
       "      <th>146034</th>\n",
       "      <td>2014</td>\n",
       "      <td>8</td>\n",
       "      <td>2018</td>\n",
       "      <td>5</td>\n",
       "      <td>99999.013478/2013-03</td>\n",
       "      <td>DPE - PROGRAMA DE DOUTORADO PLENO NO EXTERIOR</td>\n",
       "      <td>ESTADOS UNIDOS</td>\n",
       "      <td>CIÊNCIAS BIOLÓGICAS</td>\n",
       "      <td>DOUTORADO PLENO</td>\n",
       "      <td>RIO DE JANEIRO</td>\n",
       "      <td>FUNDACAO OSWALDO CRUZ (FIOCRUZ)</td>\n",
       "      <td>11900.0</td>\n",
       "    </tr>\n",
       "    <tr>\n",
       "      <th>146035</th>\n",
       "      <td>2014</td>\n",
       "      <td>8</td>\n",
       "      <td>2017</td>\n",
       "      <td>7</td>\n",
       "      <td>88887.066723/2014-00</td>\n",
       "      <td>BJT/CSF - BOLSA JOVENS TALENTOS - PROGRAMA CIÊ...</td>\n",
       "      <td>BRASIL</td>\n",
       "      <td>CIÊNCIAS BIOLÓGICAS</td>\n",
       "      <td>JOVENS TALENTOS - B</td>\n",
       "      <td>PROVINCIA DE TUCUMAN</td>\n",
       "      <td>UNIVERSIDAD NACIONAL DE TUCUMÁN</td>\n",
       "      <td>28700.0</td>\n",
       "    </tr>\n",
       "  </tbody>\n",
       "</table>\n",
       "<p>146036 rows × 12 columns</p>\n",
       "</div>"
      ],
      "text/plain": [
       "        ano_inicial  mes_inicial  ano_final  mes_final id_processo_concessao  \\\n",
       "0              2005            4       2010          3             1898-04-3   \n",
       "1              2005            9       2010          3             2725-04-5   \n",
       "2              2006           10       2010          9             3158-05-5   \n",
       "3              2006           10       2010          7             2520-05-2   \n",
       "4              2006           10       2010          7             4199-05-7   \n",
       "...             ...          ...        ...        ...                   ...   \n",
       "146031         2014            8       2018          7  99999.013449/2013-03   \n",
       "146032         2014            8       2018          7  99999.013467/2013-01   \n",
       "146033         2014            8       2018          7  99999.013472/2013-05   \n",
       "146034         2014            8       2018          5  99999.013478/2013-03   \n",
       "146035         2014            8       2017          7  88887.066723/2014-00   \n",
       "\n",
       "                                           programa_capes    pais_destino  \\\n",
       "0                                                    DAAD        ALEMANHA   \n",
       "1           DPE - PROGRAMA DE DOUTORADO PLENO NO EXTERIOR     REINO UNIDO   \n",
       "2           DPE - PROGRAMA DE DOUTORADO PLENO NO EXTERIOR     REINO UNIDO   \n",
       "3               DOUTORADO PLENO NOS EUA - CAPES/FULBRIGHT  ESTADOS UNIDOS   \n",
       "4           DPE - PROGRAMA DE DOUTORADO PLENO NO EXTERIOR     REINO UNIDO   \n",
       "...                                                   ...             ...   \n",
       "146031      DPE - PROGRAMA DE DOUTORADO PLENO NO EXTERIOR  ESTADOS UNIDOS   \n",
       "146032      DPE - PROGRAMA DE DOUTORADO PLENO NO EXTERIOR  ESTADOS UNIDOS   \n",
       "146033      DPE - PROGRAMA DE DOUTORADO PLENO NO EXTERIOR        ALEMANHA   \n",
       "146034      DPE - PROGRAMA DE DOUTORADO PLENO NO EXTERIOR  ESTADOS UNIDOS   \n",
       "146035  BJT/CSF - BOLSA JOVENS TALENTOS - PROGRAMA CIÊ...          BRASIL   \n",
       "\n",
       "          grande_area_conhecimento         nivel_ensino uf_instituicao_origem  \\\n",
       "0                      ENGENHARIAS      DOUTORADO PLENO             SÃO PAULO   \n",
       "1       CIÊNCIAS SOCIAIS APLICADAS      DOUTORADO PLENO             SÃO PAULO   \n",
       "2       CIÊNCIAS SOCIAIS APLICADAS      DOUTORADO PLENO        RIO DE JANEIRO   \n",
       "3       CIÊNCIAS SOCIAIS APLICADAS      DOUTORADO PLENO      DISTRITO FEDERAL   \n",
       "4       CIÊNCIAS SOCIAIS APLICADAS      DOUTORADO PLENO             SÃO PAULO   \n",
       "...                            ...                  ...                   ...   \n",
       "146031  CIÊNCIAS EXATAS E DA TERRA      DOUTORADO PLENO      DISTRITO FEDERAL   \n",
       "146032  CIÊNCIAS EXATAS E DA TERRA      DOUTORADO PLENO             SÃO PAULO   \n",
       "146033            MULTIDISCIPLINAR      DOUTORADO PLENO                PARANÁ   \n",
       "146034         CIÊNCIAS BIOLÓGICAS      DOUTORADO PLENO        RIO DE JANEIRO   \n",
       "146035         CIÊNCIAS BIOLÓGICAS  JOVENS TALENTOS - B  PROVINCIA DE TUCUMAN   \n",
       "\n",
       "                      instituicao_ensino_origem  valor_recebido_total  \n",
       "0          INSTITUTO TECNOLÓGICO DE AERONÁUTICA                1300.0  \n",
       "1                       FUNDAÇÃO GETÚLIO VARGAS                2730.0  \n",
       "2        UNIVERSIDADE FEDERAL DO RIO DE JANEIRO                8190.0  \n",
       "3                       BANCO CENTRAL DO BRASIL                   NaN  \n",
       "4       FACULDADES INTEGRADAS ALCÂNTARA MACHADO                6370.0  \n",
       "...                                         ...                   ...  \n",
       "146031                 UNIVERSIDADE DE BRASÍLIA               33904.0  \n",
       "146032                UNIVERSIDADE DE SÃO PAULO               35508.0  \n",
       "146033           UNIVERSIDADE FEDERAL DO PARANÁ                   NaN  \n",
       "146034          FUNDACAO OSWALDO CRUZ (FIOCRUZ)               11900.0  \n",
       "146035          UNIVERSIDAD NACIONAL DE TUCUMÁN               28700.0  \n",
       "\n",
       "[146036 rows x 12 columns]"
      ]
     },
     "execution_count": 7,
     "metadata": {},
     "output_type": "execute_result"
    }
   ],
   "source": [
    "df"
   ]
  },
  {
   "cell_type": "code",
   "execution_count": 8,
   "metadata": {},
   "outputs": [
    {
     "name": "stdout",
     "output_type": "stream",
     "text": [
      "<class 'pandas.core.frame.DataFrame'>\n",
      "RangeIndex: 146036 entries, 0 to 146035\n",
      "Data columns (total 12 columns):\n",
      " #   Column                     Non-Null Count   Dtype  \n",
      "---  ------                     --------------   -----  \n",
      " 0   ano_inicial                146036 non-null  Int64  \n",
      " 1   mes_inicial                146036 non-null  Int64  \n",
      " 2   ano_final                  146036 non-null  Int64  \n",
      " 3   mes_final                  146036 non-null  Int64  \n",
      " 4   id_processo_concessao      146036 non-null  object \n",
      " 5   programa_capes             146036 non-null  object \n",
      " 6   pais_destino               146036 non-null  object \n",
      " 7   grande_area_conhecimento   140797 non-null  object \n",
      " 8   nivel_ensino               146036 non-null  object \n",
      " 9   uf_instituicao_origem      142441 non-null  object \n",
      " 10  instituicao_ensino_origem  143155 non-null  object \n",
      " 11  valor_recebido_total       135459 non-null  float64\n",
      "dtypes: Int64(4), float64(1), object(7)\n",
      "memory usage: 13.9+ MB\n"
     ]
    }
   ],
   "source": [
    "df.info()"
   ]
  },
  {
   "cell_type": "markdown",
   "metadata": {},
   "source": [
    "### Quantidades por programa"
   ]
  },
  {
   "cell_type": "code",
   "execution_count": 9,
   "metadata": {},
   "outputs": [
    {
     "data": {
      "text/html": [
       "<div>\n",
       "<style scoped>\n",
       "    .dataframe tbody tr th:only-of-type {\n",
       "        vertical-align: middle;\n",
       "    }\n",
       "\n",
       "    .dataframe tbody tr th {\n",
       "        vertical-align: top;\n",
       "    }\n",
       "\n",
       "    .dataframe thead th {\n",
       "        text-align: right;\n",
       "    }\n",
       "</style>\n",
       "<table border=\"1\" class=\"dataframe\">\n",
       "  <thead>\n",
       "    <tr style=\"text-align: right;\">\n",
       "      <th></th>\n",
       "      <th>programa_capes</th>\n",
       "      <th>quantidade</th>\n",
       "      <th>porcentagem</th>\n",
       "    </tr>\n",
       "  </thead>\n",
       "  <tbody>\n",
       "    <tr>\n",
       "      <th>0</th>\n",
       "      <td>GS/CSF - GRADUAÇÃO SANDUÍCHE - PROGRAMA CIÊNCI...</td>\n",
       "      <td>63292</td>\n",
       "      <td>43.339998</td>\n",
       "    </tr>\n",
       "    <tr>\n",
       "      <th>1</th>\n",
       "      <td>PDSE - PROGRAMA DE DOUTORADO SANDUÍCHE NO EXTE...</td>\n",
       "      <td>24277</td>\n",
       "      <td>16.623983</td>\n",
       "    </tr>\n",
       "    <tr>\n",
       "      <th>2</th>\n",
       "      <td>BRAFITEC - BRASIL FRANÇA ENGENHARIA TECNOLOGIA</td>\n",
       "      <td>11285</td>\n",
       "      <td>7.727547</td>\n",
       "    </tr>\n",
       "    <tr>\n",
       "      <th>3</th>\n",
       "      <td>DPE - PROGRAMA DE DOUTORADO PLENO NO EXTERIOR</td>\n",
       "      <td>6035</td>\n",
       "      <td>4.132543</td>\n",
       "    </tr>\n",
       "    <tr>\n",
       "      <th>4</th>\n",
       "      <td>PPDE - PROGRAMA DE PÓS-DOUTORADO NO EXTERIOR</td>\n",
       "      <td>4370</td>\n",
       "      <td>2.992413</td>\n",
       "    </tr>\n",
       "    <tr>\n",
       "      <th>...</th>\n",
       "      <td>...</td>\n",
       "      <td>...</td>\n",
       "      <td>...</td>\n",
       "    </tr>\n",
       "    <tr>\n",
       "      <th>131</th>\n",
       "      <td>CÁTEDRA BRASIL NA UNIVERSIDADE NACIONAL DA COL...</td>\n",
       "      <td>1</td>\n",
       "      <td>0.000685</td>\n",
       "    </tr>\n",
       "    <tr>\n",
       "      <th>132</th>\n",
       "      <td>GRANDE PRÊMIO CAPES DE TESE</td>\n",
       "      <td>1</td>\n",
       "      <td>0.000685</td>\n",
       "    </tr>\n",
       "    <tr>\n",
       "      <th>133</th>\n",
       "      <td>CÁTEDRA BONN EM CIÊNCIAS SOCIAIS E HUMANAS - U...</td>\n",
       "      <td>1</td>\n",
       "      <td>0.000685</td>\n",
       "    </tr>\n",
       "    <tr>\n",
       "      <th>134</th>\n",
       "      <td>PROGRAMA CAPES/IIASA DE PÓS-DOUTORADO</td>\n",
       "      <td>1</td>\n",
       "      <td>0.000685</td>\n",
       "    </tr>\n",
       "    <tr>\n",
       "      <th>135</th>\n",
       "      <td>ESTÁGIO DE DOUTORANDO JÚLIO REDECKER - CAPES/ ...</td>\n",
       "      <td>1</td>\n",
       "      <td>0.000685</td>\n",
       "    </tr>\n",
       "  </tbody>\n",
       "</table>\n",
       "<p>136 rows × 3 columns</p>\n",
       "</div>"
      ],
      "text/plain": [
       "                                        programa_capes  quantidade  \\\n",
       "0    GS/CSF - GRADUAÇÃO SANDUÍCHE - PROGRAMA CIÊNCI...       63292   \n",
       "1    PDSE - PROGRAMA DE DOUTORADO SANDUÍCHE NO EXTE...       24277   \n",
       "2       BRAFITEC - BRASIL FRANÇA ENGENHARIA TECNOLOGIA       11285   \n",
       "3        DPE - PROGRAMA DE DOUTORADO PLENO NO EXTERIOR        6035   \n",
       "4         PPDE - PROGRAMA DE PÓS-DOUTORADO NO EXTERIOR        4370   \n",
       "..                                                 ...         ...   \n",
       "131  CÁTEDRA BRASIL NA UNIVERSIDADE NACIONAL DA COL...           1   \n",
       "132                        GRANDE PRÊMIO CAPES DE TESE           1   \n",
       "133  CÁTEDRA BONN EM CIÊNCIAS SOCIAIS E HUMANAS - U...           1   \n",
       "134              PROGRAMA CAPES/IIASA DE PÓS-DOUTORADO           1   \n",
       "135  ESTÁGIO DE DOUTORANDO JÚLIO REDECKER - CAPES/ ...           1   \n",
       "\n",
       "     porcentagem  \n",
       "0      43.339998  \n",
       "1      16.623983  \n",
       "2       7.727547  \n",
       "3       4.132543  \n",
       "4       2.992413  \n",
       "..           ...  \n",
       "131     0.000685  \n",
       "132     0.000685  \n",
       "133     0.000685  \n",
       "134     0.000685  \n",
       "135     0.000685  \n",
       "\n",
       "[136 rows x 3 columns]"
      ]
     },
     "execution_count": 9,
     "metadata": {},
     "output_type": "execute_result"
    }
   ],
   "source": [
    "df_prog = df[\"programa_capes\"].value_counts().reset_index().rename(\n",
    "    columns={\"index\":\"programa_capes\", \"programa_capes\":\"quantidade\"}\n",
    ")\n",
    "df_prog[\"porcentagem\"] = (df_prog[\"quantidade\"]*100/df_prog[\"quantidade\"].sum())\n",
    "df_prog"
   ]
  },
  {
   "cell_type": "code",
   "execution_count": 10,
   "metadata": {},
   "outputs": [
    {
     "data": {
      "text/html": [
       "<div>\n",
       "<style scoped>\n",
       "    .dataframe tbody tr th:only-of-type {\n",
       "        vertical-align: middle;\n",
       "    }\n",
       "\n",
       "    .dataframe tbody tr th {\n",
       "        vertical-align: top;\n",
       "    }\n",
       "\n",
       "    .dataframe thead th {\n",
       "        text-align: right;\n",
       "    }\n",
       "</style>\n",
       "<table border=\"1\" class=\"dataframe\">\n",
       "  <thead>\n",
       "    <tr style=\"text-align: right;\">\n",
       "      <th></th>\n",
       "      <th>programa_capes</th>\n",
       "      <th>quantidade</th>\n",
       "      <th>porcentagem</th>\n",
       "    </tr>\n",
       "  </thead>\n",
       "  <tbody>\n",
       "    <tr>\n",
       "      <th>5</th>\n",
       "      <td>PLI - PROGRAMA DE LICENCIATURAS INTERNACIONAIS...</td>\n",
       "      <td>3602</td>\n",
       "      <td>2.466515</td>\n",
       "    </tr>\n",
       "    <tr>\n",
       "      <th>6</th>\n",
       "      <td>PVE/CSF - PESQUISADOR VISITANTE ESPECIAL - PRO...</td>\n",
       "      <td>2779</td>\n",
       "      <td>1.902955</td>\n",
       "    </tr>\n",
       "    <tr>\n",
       "      <th>7</th>\n",
       "      <td>PDEE - ESTÁGIO DE DOUTORANDO</td>\n",
       "      <td>2773</td>\n",
       "      <td>1.898847</td>\n",
       "    </tr>\n",
       "    <tr>\n",
       "      <th>8</th>\n",
       "      <td>ES - PROGRAMA DE ESTÁGIO SÊNIOR NO EXTERIOR</td>\n",
       "      <td>2734</td>\n",
       "      <td>1.872141</td>\n",
       "    </tr>\n",
       "    <tr>\n",
       "      <th>9</th>\n",
       "      <td>PRINT - PROGRAMA INSTITUCIONAL DE INTERNACIONA...</td>\n",
       "      <td>2016</td>\n",
       "      <td>1.380482</td>\n",
       "    </tr>\n",
       "    <tr>\n",
       "      <th>...</th>\n",
       "      <td>...</td>\n",
       "      <td>...</td>\n",
       "      <td>...</td>\n",
       "    </tr>\n",
       "    <tr>\n",
       "      <th>131</th>\n",
       "      <td>CÁTEDRA BRASIL NA UNIVERSIDADE NACIONAL DA COL...</td>\n",
       "      <td>1</td>\n",
       "      <td>0.000685</td>\n",
       "    </tr>\n",
       "    <tr>\n",
       "      <th>132</th>\n",
       "      <td>GRANDE PRÊMIO CAPES DE TESE</td>\n",
       "      <td>1</td>\n",
       "      <td>0.000685</td>\n",
       "    </tr>\n",
       "    <tr>\n",
       "      <th>133</th>\n",
       "      <td>CÁTEDRA BONN EM CIÊNCIAS SOCIAIS E HUMANAS - U...</td>\n",
       "      <td>1</td>\n",
       "      <td>0.000685</td>\n",
       "    </tr>\n",
       "    <tr>\n",
       "      <th>134</th>\n",
       "      <td>PROGRAMA CAPES/IIASA DE PÓS-DOUTORADO</td>\n",
       "      <td>1</td>\n",
       "      <td>0.000685</td>\n",
       "    </tr>\n",
       "    <tr>\n",
       "      <th>135</th>\n",
       "      <td>ESTÁGIO DE DOUTORANDO JÚLIO REDECKER - CAPES/ ...</td>\n",
       "      <td>1</td>\n",
       "      <td>0.000685</td>\n",
       "    </tr>\n",
       "  </tbody>\n",
       "</table>\n",
       "<p>131 rows × 3 columns</p>\n",
       "</div>"
      ],
      "text/plain": [
       "                                        programa_capes  quantidade  \\\n",
       "5    PLI - PROGRAMA DE LICENCIATURAS INTERNACIONAIS...        3602   \n",
       "6    PVE/CSF - PESQUISADOR VISITANTE ESPECIAL - PRO...        2779   \n",
       "7                         PDEE - ESTÁGIO DE DOUTORANDO        2773   \n",
       "8          ES - PROGRAMA DE ESTÁGIO SÊNIOR NO EXTERIOR        2734   \n",
       "9    PRINT - PROGRAMA INSTITUCIONAL DE INTERNACIONA...        2016   \n",
       "..                                                 ...         ...   \n",
       "131  CÁTEDRA BRASIL NA UNIVERSIDADE NACIONAL DA COL...           1   \n",
       "132                        GRANDE PRÊMIO CAPES DE TESE           1   \n",
       "133  CÁTEDRA BONN EM CIÊNCIAS SOCIAIS E HUMANAS - U...           1   \n",
       "134              PROGRAMA CAPES/IIASA DE PÓS-DOUTORADO           1   \n",
       "135  ESTÁGIO DE DOUTORANDO JÚLIO REDECKER - CAPES/ ...           1   \n",
       "\n",
       "     porcentagem  \n",
       "5       2.466515  \n",
       "6       1.902955  \n",
       "7       1.898847  \n",
       "8       1.872141  \n",
       "9       1.380482  \n",
       "..           ...  \n",
       "131     0.000685  \n",
       "132     0.000685  \n",
       "133     0.000685  \n",
       "134     0.000685  \n",
       "135     0.000685  \n",
       "\n",
       "[131 rows x 3 columns]"
      ]
     },
     "execution_count": 10,
     "metadata": {},
     "output_type": "execute_result"
    }
   ],
   "source": [
    "df_prog_outros = df_prog.iloc[5:]\n",
    "df_prog_outros"
   ]
  },
  {
   "cell_type": "code",
   "execution_count": 11,
   "metadata": {},
   "outputs": [
    {
     "name": "stdout",
     "output_type": "stream",
     "text": [
      "Quantidade de 'outros': 36777.  Porcentagem de 'outros': 25.18%\n"
     ]
    }
   ],
   "source": [
    "quantidade_outros = df_prog_outros[\"quantidade\"].sum()\n",
    "porcentagem_outros = quantidade_outros*100/df_prog[\"quantidade\"].sum()\n",
    "print(f\"Quantidade de 'outros': {quantidade_outros}.  Porcentagem de 'outros': {round(porcentagem_outros, 2)}%\")"
   ]
  },
  {
   "cell_type": "code",
   "execution_count": 12,
   "metadata": {},
   "outputs": [
    {
     "data": {
      "text/html": [
       "<div>\n",
       "<style scoped>\n",
       "    .dataframe tbody tr th:only-of-type {\n",
       "        vertical-align: middle;\n",
       "    }\n",
       "\n",
       "    .dataframe tbody tr th {\n",
       "        vertical-align: top;\n",
       "    }\n",
       "\n",
       "    .dataframe thead th {\n",
       "        text-align: right;\n",
       "    }\n",
       "</style>\n",
       "<table border=\"1\" class=\"dataframe\">\n",
       "  <thead>\n",
       "    <tr style=\"text-align: right;\">\n",
       "      <th></th>\n",
       "      <th>programa_capes</th>\n",
       "      <th>quantidade</th>\n",
       "      <th>porcentagem</th>\n",
       "    </tr>\n",
       "  </thead>\n",
       "  <tbody>\n",
       "    <tr>\n",
       "      <th>0</th>\n",
       "      <td>OUTROS</td>\n",
       "      <td>36777</td>\n",
       "      <td>25.183516</td>\n",
       "    </tr>\n",
       "  </tbody>\n",
       "</table>\n",
       "</div>"
      ],
      "text/plain": [
       "  programa_capes  quantidade  porcentagem\n",
       "0         OUTROS       36777    25.183516"
      ]
     },
     "execution_count": 12,
     "metadata": {},
     "output_type": "execute_result"
    }
   ],
   "source": [
    "df_prog_outros = pd.DataFrame({\n",
    "    \"programa_capes\":[\"OUTROS\"], \n",
    "    \"quantidade\":[quantidade_outros],\n",
    "    \"porcentagem\":[porcentagem_outros]\n",
    "})\n",
    "df_prog_outros"
   ]
  },
  {
   "cell_type": "code",
   "execution_count": 13,
   "metadata": {},
   "outputs": [
    {
     "data": {
      "text/html": [
       "<div>\n",
       "<style scoped>\n",
       "    .dataframe tbody tr th:only-of-type {\n",
       "        vertical-align: middle;\n",
       "    }\n",
       "\n",
       "    .dataframe tbody tr th {\n",
       "        vertical-align: top;\n",
       "    }\n",
       "\n",
       "    .dataframe thead th {\n",
       "        text-align: right;\n",
       "    }\n",
       "</style>\n",
       "<table border=\"1\" class=\"dataframe\">\n",
       "  <thead>\n",
       "    <tr style=\"text-align: right;\">\n",
       "      <th></th>\n",
       "      <th>programa_capes</th>\n",
       "      <th>quantidade</th>\n",
       "      <th>porcentagem</th>\n",
       "      <th>porcentagem_str</th>\n",
       "    </tr>\n",
       "  </thead>\n",
       "  <tbody>\n",
       "    <tr>\n",
       "      <th>0</th>\n",
       "      <td>GS/CSF - GRADUAÇÃO SANDUÍCHE - PROGRAMA CIÊNCI...</td>\n",
       "      <td>63292</td>\n",
       "      <td>43.34</td>\n",
       "      <td>43.34%</td>\n",
       "    </tr>\n",
       "    <tr>\n",
       "      <th>1</th>\n",
       "      <td>PDSE - PROGRAMA DE DOUTORADO SANDUÍCHE NO EXTE...</td>\n",
       "      <td>24277</td>\n",
       "      <td>16.62</td>\n",
       "      <td>16.62%</td>\n",
       "    </tr>\n",
       "    <tr>\n",
       "      <th>2</th>\n",
       "      <td>BRAFITEC - BRASIL FRANÇA ENGENHARIA TECNOLOGIA</td>\n",
       "      <td>11285</td>\n",
       "      <td>7.73</td>\n",
       "      <td>7.73%</td>\n",
       "    </tr>\n",
       "    <tr>\n",
       "      <th>3</th>\n",
       "      <td>DPE - PROGRAMA DE DOUTORADO PLENO NO EXTERIOR</td>\n",
       "      <td>6035</td>\n",
       "      <td>4.13</td>\n",
       "      <td>4.13%</td>\n",
       "    </tr>\n",
       "    <tr>\n",
       "      <th>4</th>\n",
       "      <td>PPDE - PROGRAMA DE PÓS-DOUTORADO NO EXTERIOR</td>\n",
       "      <td>4370</td>\n",
       "      <td>2.99</td>\n",
       "      <td>2.99%</td>\n",
       "    </tr>\n",
       "    <tr>\n",
       "      <th>5</th>\n",
       "      <td>OUTROS</td>\n",
       "      <td>36777</td>\n",
       "      <td>25.18</td>\n",
       "      <td>25.18%</td>\n",
       "    </tr>\n",
       "  </tbody>\n",
       "</table>\n",
       "</div>"
      ],
      "text/plain": [
       "                                      programa_capes  quantidade  porcentagem  \\\n",
       "0  GS/CSF - GRADUAÇÃO SANDUÍCHE - PROGRAMA CIÊNCI...       63292        43.34   \n",
       "1  PDSE - PROGRAMA DE DOUTORADO SANDUÍCHE NO EXTE...       24277        16.62   \n",
       "2     BRAFITEC - BRASIL FRANÇA ENGENHARIA TECNOLOGIA       11285         7.73   \n",
       "3      DPE - PROGRAMA DE DOUTORADO PLENO NO EXTERIOR        6035         4.13   \n",
       "4       PPDE - PROGRAMA DE PÓS-DOUTORADO NO EXTERIOR        4370         2.99   \n",
       "5                                             OUTROS       36777        25.18   \n",
       "\n",
       "  porcentagem_str  \n",
       "0          43.34%  \n",
       "1          16.62%  \n",
       "2           7.73%  \n",
       "3           4.13%  \n",
       "4           2.99%  \n",
       "5          25.18%  "
      ]
     },
     "execution_count": 13,
     "metadata": {},
     "output_type": "execute_result"
    }
   ],
   "source": [
    "df_prog_princ = df_prog.iloc[:5]\n",
    "df_prog_viz = pd.concat([df_prog_princ,df_prog_outros], axis=0, ignore_index=True)\n",
    "df_prog_viz[\"porcentagem\"] = df_prog_viz[\"porcentagem\"].map(lambda x:round(x,2))\n",
    "df_prog_viz[\"porcentagem_str\"] = df_prog_viz[\"porcentagem\"].astype(str)+\"%\" \n",
    "df_prog_viz"
   ]
  },
  {
   "cell_type": "code",
   "execution_count": 14,
   "metadata": {},
   "outputs": [
    {
     "data": {
      "application/vnd.plotly.v1+json": {
       "config": {
        "plotlyServerURL": "https://plot.ly"
       },
       "data": [
        {
         "alignmentgroup": "True",
         "hovertemplate": "porcentagem=%{x}<br>programa_capes=%{y}<br>porcentagem_str=%{text}<extra></extra>",
         "legendgroup": "",
         "marker": {
          "color": "#636efa",
          "pattern": {
           "shape": ""
          }
         },
         "name": "",
         "offsetgroup": "",
         "orientation": "h",
         "showlegend": false,
         "text": [
          "25.18%",
          "2.99%",
          "4.13%",
          "7.73%",
          "16.62%",
          "43.34%"
         ],
         "textposition": "auto",
         "type": "bar",
         "x": [
          25.18,
          2.99,
          4.13,
          7.73,
          16.62,
          43.34
         ],
         "xaxis": "x",
         "y": [
          "OUTROS",
          "PPDE - PROGRAMA DE PÓS-DOUTORADO NO EXTERIOR",
          "DPE - PROGRAMA DE DOUTORADO PLENO NO EXTERIOR",
          "BRAFITEC - BRASIL FRANÇA ENGENHARIA TECNOLOGIA",
          "PDSE - PROGRAMA DE DOUTORADO SANDUÍCHE NO EXTERIOR",
          "GS/CSF - GRADUAÇÃO SANDUÍCHE - PROGRAMA CIÊNCIA SEM FRONTEIRAS"
         ],
         "yaxis": "y"
        }
       ],
       "layout": {
        "barmode": "relative",
        "height": 500,
        "legend": {
         "tracegroupgap": 0
        },
        "template": {
         "data": {
          "bar": [
           {
            "error_x": {
             "color": "#f2f5fa"
            },
            "error_y": {
             "color": "#f2f5fa"
            },
            "marker": {
             "line": {
              "color": "rgb(17,17,17)",
              "width": 0.5
             },
             "pattern": {
              "fillmode": "overlay",
              "size": 10,
              "solidity": 0.2
             }
            },
            "type": "bar"
           }
          ],
          "barpolar": [
           {
            "marker": {
             "line": {
              "color": "rgb(17,17,17)",
              "width": 0.5
             },
             "pattern": {
              "fillmode": "overlay",
              "size": 10,
              "solidity": 0.2
             }
            },
            "type": "barpolar"
           }
          ],
          "carpet": [
           {
            "aaxis": {
             "endlinecolor": "#A2B1C6",
             "gridcolor": "#506784",
             "linecolor": "#506784",
             "minorgridcolor": "#506784",
             "startlinecolor": "#A2B1C6"
            },
            "baxis": {
             "endlinecolor": "#A2B1C6",
             "gridcolor": "#506784",
             "linecolor": "#506784",
             "minorgridcolor": "#506784",
             "startlinecolor": "#A2B1C6"
            },
            "type": "carpet"
           }
          ],
          "choropleth": [
           {
            "colorbar": {
             "outlinewidth": 0,
             "ticks": ""
            },
            "type": "choropleth"
           }
          ],
          "contour": [
           {
            "colorbar": {
             "outlinewidth": 0,
             "ticks": ""
            },
            "colorscale": [
             [
              0,
              "#0d0887"
             ],
             [
              0.1111111111111111,
              "#46039f"
             ],
             [
              0.2222222222222222,
              "#7201a8"
             ],
             [
              0.3333333333333333,
              "#9c179e"
             ],
             [
              0.4444444444444444,
              "#bd3786"
             ],
             [
              0.5555555555555556,
              "#d8576b"
             ],
             [
              0.6666666666666666,
              "#ed7953"
             ],
             [
              0.7777777777777778,
              "#fb9f3a"
             ],
             [
              0.8888888888888888,
              "#fdca26"
             ],
             [
              1,
              "#f0f921"
             ]
            ],
            "type": "contour"
           }
          ],
          "contourcarpet": [
           {
            "colorbar": {
             "outlinewidth": 0,
             "ticks": ""
            },
            "type": "contourcarpet"
           }
          ],
          "heatmap": [
           {
            "colorbar": {
             "outlinewidth": 0,
             "ticks": ""
            },
            "colorscale": [
             [
              0,
              "#0d0887"
             ],
             [
              0.1111111111111111,
              "#46039f"
             ],
             [
              0.2222222222222222,
              "#7201a8"
             ],
             [
              0.3333333333333333,
              "#9c179e"
             ],
             [
              0.4444444444444444,
              "#bd3786"
             ],
             [
              0.5555555555555556,
              "#d8576b"
             ],
             [
              0.6666666666666666,
              "#ed7953"
             ],
             [
              0.7777777777777778,
              "#fb9f3a"
             ],
             [
              0.8888888888888888,
              "#fdca26"
             ],
             [
              1,
              "#f0f921"
             ]
            ],
            "type": "heatmap"
           }
          ],
          "heatmapgl": [
           {
            "colorbar": {
             "outlinewidth": 0,
             "ticks": ""
            },
            "colorscale": [
             [
              0,
              "#0d0887"
             ],
             [
              0.1111111111111111,
              "#46039f"
             ],
             [
              0.2222222222222222,
              "#7201a8"
             ],
             [
              0.3333333333333333,
              "#9c179e"
             ],
             [
              0.4444444444444444,
              "#bd3786"
             ],
             [
              0.5555555555555556,
              "#d8576b"
             ],
             [
              0.6666666666666666,
              "#ed7953"
             ],
             [
              0.7777777777777778,
              "#fb9f3a"
             ],
             [
              0.8888888888888888,
              "#fdca26"
             ],
             [
              1,
              "#f0f921"
             ]
            ],
            "type": "heatmapgl"
           }
          ],
          "histogram": [
           {
            "marker": {
             "pattern": {
              "fillmode": "overlay",
              "size": 10,
              "solidity": 0.2
             }
            },
            "type": "histogram"
           }
          ],
          "histogram2d": [
           {
            "colorbar": {
             "outlinewidth": 0,
             "ticks": ""
            },
            "colorscale": [
             [
              0,
              "#0d0887"
             ],
             [
              0.1111111111111111,
              "#46039f"
             ],
             [
              0.2222222222222222,
              "#7201a8"
             ],
             [
              0.3333333333333333,
              "#9c179e"
             ],
             [
              0.4444444444444444,
              "#bd3786"
             ],
             [
              0.5555555555555556,
              "#d8576b"
             ],
             [
              0.6666666666666666,
              "#ed7953"
             ],
             [
              0.7777777777777778,
              "#fb9f3a"
             ],
             [
              0.8888888888888888,
              "#fdca26"
             ],
             [
              1,
              "#f0f921"
             ]
            ],
            "type": "histogram2d"
           }
          ],
          "histogram2dcontour": [
           {
            "colorbar": {
             "outlinewidth": 0,
             "ticks": ""
            },
            "colorscale": [
             [
              0,
              "#0d0887"
             ],
             [
              0.1111111111111111,
              "#46039f"
             ],
             [
              0.2222222222222222,
              "#7201a8"
             ],
             [
              0.3333333333333333,
              "#9c179e"
             ],
             [
              0.4444444444444444,
              "#bd3786"
             ],
             [
              0.5555555555555556,
              "#d8576b"
             ],
             [
              0.6666666666666666,
              "#ed7953"
             ],
             [
              0.7777777777777778,
              "#fb9f3a"
             ],
             [
              0.8888888888888888,
              "#fdca26"
             ],
             [
              1,
              "#f0f921"
             ]
            ],
            "type": "histogram2dcontour"
           }
          ],
          "mesh3d": [
           {
            "colorbar": {
             "outlinewidth": 0,
             "ticks": ""
            },
            "type": "mesh3d"
           }
          ],
          "parcoords": [
           {
            "line": {
             "colorbar": {
              "outlinewidth": 0,
              "ticks": ""
             }
            },
            "type": "parcoords"
           }
          ],
          "pie": [
           {
            "automargin": true,
            "type": "pie"
           }
          ],
          "scatter": [
           {
            "marker": {
             "line": {
              "color": "#283442"
             }
            },
            "type": "scatter"
           }
          ],
          "scatter3d": [
           {
            "line": {
             "colorbar": {
              "outlinewidth": 0,
              "ticks": ""
             }
            },
            "marker": {
             "colorbar": {
              "outlinewidth": 0,
              "ticks": ""
             }
            },
            "type": "scatter3d"
           }
          ],
          "scattercarpet": [
           {
            "marker": {
             "colorbar": {
              "outlinewidth": 0,
              "ticks": ""
             }
            },
            "type": "scattercarpet"
           }
          ],
          "scattergeo": [
           {
            "marker": {
             "colorbar": {
              "outlinewidth": 0,
              "ticks": ""
             }
            },
            "type": "scattergeo"
           }
          ],
          "scattergl": [
           {
            "marker": {
             "line": {
              "color": "#283442"
             }
            },
            "type": "scattergl"
           }
          ],
          "scattermapbox": [
           {
            "marker": {
             "colorbar": {
              "outlinewidth": 0,
              "ticks": ""
             }
            },
            "type": "scattermapbox"
           }
          ],
          "scatterpolar": [
           {
            "marker": {
             "colorbar": {
              "outlinewidth": 0,
              "ticks": ""
             }
            },
            "type": "scatterpolar"
           }
          ],
          "scatterpolargl": [
           {
            "marker": {
             "colorbar": {
              "outlinewidth": 0,
              "ticks": ""
             }
            },
            "type": "scatterpolargl"
           }
          ],
          "scatterternary": [
           {
            "marker": {
             "colorbar": {
              "outlinewidth": 0,
              "ticks": ""
             }
            },
            "type": "scatterternary"
           }
          ],
          "surface": [
           {
            "colorbar": {
             "outlinewidth": 0,
             "ticks": ""
            },
            "colorscale": [
             [
              0,
              "#0d0887"
             ],
             [
              0.1111111111111111,
              "#46039f"
             ],
             [
              0.2222222222222222,
              "#7201a8"
             ],
             [
              0.3333333333333333,
              "#9c179e"
             ],
             [
              0.4444444444444444,
              "#bd3786"
             ],
             [
              0.5555555555555556,
              "#d8576b"
             ],
             [
              0.6666666666666666,
              "#ed7953"
             ],
             [
              0.7777777777777778,
              "#fb9f3a"
             ],
             [
              0.8888888888888888,
              "#fdca26"
             ],
             [
              1,
              "#f0f921"
             ]
            ],
            "type": "surface"
           }
          ],
          "table": [
           {
            "cells": {
             "fill": {
              "color": "#506784"
             },
             "line": {
              "color": "rgb(17,17,17)"
             }
            },
            "header": {
             "fill": {
              "color": "#2a3f5f"
             },
             "line": {
              "color": "rgb(17,17,17)"
             }
            },
            "type": "table"
           }
          ]
         },
         "layout": {
          "annotationdefaults": {
           "arrowcolor": "#f2f5fa",
           "arrowhead": 0,
           "arrowwidth": 1
          },
          "autotypenumbers": "strict",
          "coloraxis": {
           "colorbar": {
            "outlinewidth": 0,
            "ticks": ""
           }
          },
          "colorscale": {
           "diverging": [
            [
             0,
             "#8e0152"
            ],
            [
             0.1,
             "#c51b7d"
            ],
            [
             0.2,
             "#de77ae"
            ],
            [
             0.3,
             "#f1b6da"
            ],
            [
             0.4,
             "#fde0ef"
            ],
            [
             0.5,
             "#f7f7f7"
            ],
            [
             0.6,
             "#e6f5d0"
            ],
            [
             0.7,
             "#b8e186"
            ],
            [
             0.8,
             "#7fbc41"
            ],
            [
             0.9,
             "#4d9221"
            ],
            [
             1,
             "#276419"
            ]
           ],
           "sequential": [
            [
             0,
             "#0d0887"
            ],
            [
             0.1111111111111111,
             "#46039f"
            ],
            [
             0.2222222222222222,
             "#7201a8"
            ],
            [
             0.3333333333333333,
             "#9c179e"
            ],
            [
             0.4444444444444444,
             "#bd3786"
            ],
            [
             0.5555555555555556,
             "#d8576b"
            ],
            [
             0.6666666666666666,
             "#ed7953"
            ],
            [
             0.7777777777777778,
             "#fb9f3a"
            ],
            [
             0.8888888888888888,
             "#fdca26"
            ],
            [
             1,
             "#f0f921"
            ]
           ],
           "sequentialminus": [
            [
             0,
             "#0d0887"
            ],
            [
             0.1111111111111111,
             "#46039f"
            ],
            [
             0.2222222222222222,
             "#7201a8"
            ],
            [
             0.3333333333333333,
             "#9c179e"
            ],
            [
             0.4444444444444444,
             "#bd3786"
            ],
            [
             0.5555555555555556,
             "#d8576b"
            ],
            [
             0.6666666666666666,
             "#ed7953"
            ],
            [
             0.7777777777777778,
             "#fb9f3a"
            ],
            [
             0.8888888888888888,
             "#fdca26"
            ],
            [
             1,
             "#f0f921"
            ]
           ]
          },
          "colorway": [
           "#636efa",
           "#EF553B",
           "#00cc96",
           "#ab63fa",
           "#FFA15A",
           "#19d3f3",
           "#FF6692",
           "#B6E880",
           "#FF97FF",
           "#FECB52"
          ],
          "font": {
           "color": "#f2f5fa"
          },
          "geo": {
           "bgcolor": "rgb(17,17,17)",
           "lakecolor": "rgb(17,17,17)",
           "landcolor": "rgb(17,17,17)",
           "showlakes": true,
           "showland": true,
           "subunitcolor": "#506784"
          },
          "hoverlabel": {
           "align": "left"
          },
          "hovermode": "closest",
          "mapbox": {
           "style": "dark"
          },
          "paper_bgcolor": "rgb(17,17,17)",
          "plot_bgcolor": "rgb(17,17,17)",
          "polar": {
           "angularaxis": {
            "gridcolor": "#506784",
            "linecolor": "#506784",
            "ticks": ""
           },
           "bgcolor": "rgb(17,17,17)",
           "radialaxis": {
            "gridcolor": "#506784",
            "linecolor": "#506784",
            "ticks": ""
           }
          },
          "scene": {
           "xaxis": {
            "backgroundcolor": "rgb(17,17,17)",
            "gridcolor": "#506784",
            "gridwidth": 2,
            "linecolor": "#506784",
            "showbackground": true,
            "ticks": "",
            "zerolinecolor": "#C8D4E3"
           },
           "yaxis": {
            "backgroundcolor": "rgb(17,17,17)",
            "gridcolor": "#506784",
            "gridwidth": 2,
            "linecolor": "#506784",
            "showbackground": true,
            "ticks": "",
            "zerolinecolor": "#C8D4E3"
           },
           "zaxis": {
            "backgroundcolor": "rgb(17,17,17)",
            "gridcolor": "#506784",
            "gridwidth": 2,
            "linecolor": "#506784",
            "showbackground": true,
            "ticks": "",
            "zerolinecolor": "#C8D4E3"
           }
          },
          "shapedefaults": {
           "line": {
            "color": "#f2f5fa"
           }
          },
          "sliderdefaults": {
           "bgcolor": "#C8D4E3",
           "bordercolor": "rgb(17,17,17)",
           "borderwidth": 1,
           "tickwidth": 0
          },
          "ternary": {
           "aaxis": {
            "gridcolor": "#506784",
            "linecolor": "#506784",
            "ticks": ""
           },
           "baxis": {
            "gridcolor": "#506784",
            "linecolor": "#506784",
            "ticks": ""
           },
           "bgcolor": "rgb(17,17,17)",
           "caxis": {
            "gridcolor": "#506784",
            "linecolor": "#506784",
            "ticks": ""
           }
          },
          "title": {
           "x": 0.05
          },
          "updatemenudefaults": {
           "bgcolor": "#506784",
           "borderwidth": 0
          },
          "xaxis": {
           "automargin": true,
           "gridcolor": "#283442",
           "linecolor": "#506784",
           "ticks": "",
           "title": {
            "standoff": 15
           },
           "zerolinecolor": "#283442",
           "zerolinewidth": 2
          },
          "yaxis": {
           "automargin": true,
           "gridcolor": "#283442",
           "linecolor": "#506784",
           "ticks": "",
           "title": {
            "standoff": 15
           },
           "zerolinecolor": "#283442",
           "zerolinewidth": 2
          }
         }
        },
        "title": {
         "text": "Os 5 Principais Programas da CAPES em Porcentagem do Total de Bolsas Concedidas"
        },
        "xaxis": {
         "anchor": "y",
         "domain": [
          0,
          1
         ],
         "title": {
          "text": "porcentagem"
         }
        },
        "yaxis": {
         "anchor": "x",
         "domain": [
          0,
          1
         ],
         "title": {
          "text": "programa_capes"
         }
        }
       }
      }
     },
     "metadata": {},
     "output_type": "display_data"
    }
   ],
   "source": [
    "px.bar(\n",
    "    df_prog_viz[::-1], \n",
    "    y=\"programa_capes\", x=\"porcentagem\", text=\"porcentagem_str\", \n",
    "    orientation=\"h\", template=\"plotly_dark\", height=500,\n",
    "    title=\"Os 5 Principais Programas da CAPES em Porcentagem do Total de Bolsas Concedidas\"\n",
    ")"
   ]
  },
  {
   "cell_type": "code",
   "execution_count": 15,
   "metadata": {},
   "outputs": [
    {
     "data": {
      "text/plain": [
       "GRADUAÇÃO SANDUÍCHE                            85548\n",
       "DOUTORADO SANDUÍCHE                            34089\n",
       "DOUTORADO PLENO                                 8653\n",
       "ESTÁGIO PÓS-DOUTORAL                            6789\n",
       "ESTÁGIO SÊNIOR                                  2962\n",
       "PÓS-DOUTORADO                                   1535\n",
       "PESQUISADOR VISITANTE ESPECIAL                  1179\n",
       "CAPACITAÇÃO PROFESSORES DA EDUCAÇÃO BÁSICA       783\n",
       "MESTRADO PROFISSIONAL NOS EUA                    560\n",
       "PROFESSOR VISITANTE                              483\n",
       "MESTRADO SANDUÍCHE                               470\n",
       "PROFESSOR VISITANTE SÊNIOR                       426\n",
       "INICIAÇÃO CIENTÍFICA                             343\n",
       "PROFESSOR VISITANTE JÚNIOR                       316\n",
       "JOVENS TALENTOS - A                              289\n",
       "ESTÁGIO DOCENTE                                  194\n",
       "PROFESSOR VISITANTE DO EXTERIOR SÊNIOR           149\n",
       "ESTÁGIO                                          143\n",
       "JOVENS TALENTOS - B                              127\n",
       "ESPECIALIZAÇÃO UAB-MOÇAMBIQUE                    113\n",
       "PROFESSOR VISITANTE DO EXTERIOR PLENO            112\n",
       "DOUTOR SÊNIOR                                     89\n",
       "MESTRADO                                          74\n",
       "TIMOR LESTE BOLSISTA                              72\n",
       "PROFESSOR CONVIDADO                               68\n",
       "CAPACITAÇÃO                                       56\n",
       "GRADUAÇÃO                                         54\n",
       "ESCOLA DE ALTOS ESTUDOS                           45\n",
       "DOUTOR PLENO                                      40\n",
       "INICIAÇÃO TECNOLÓGICA E INDUSTRIAL                37\n",
       "PROFESSOR/PESQUISADOR VISITANTE NO EXTERIOR       33\n",
       "DOUTOR JÚNIOR                                     31\n",
       "CÁTEDRA                                           31\n",
       "APERFEIÇOAMENTO                                   25\n",
       "JOVEM TALENTO                                     25\n",
       "MESTRADO PROFISSIONAL                             23\n",
       "CÁTEDRA EUROPA                                    21\n",
       "JOVEM DOUTOR                                      21\n",
       "TIMOR LESTE TUTOR                                 14\n",
       "ARTICULADOR PEDAGÓGICO                             6\n",
       "CÁTEDRA ESTADOS UNIDOS                             5\n",
       "CÁTEDRA  HARVARD                                   1\n",
       "APRIMORAMENTO                                      1\n",
       "MESTRADO PROFISSIONAL NO EXTERIOR                  1\n",
       "Name: nivel_ensino, dtype: int64"
      ]
     },
     "execution_count": 15,
     "metadata": {},
     "output_type": "execute_result"
    }
   ],
   "source": [
    "df.nivel_ensino.value_counts()"
   ]
  },
  {
   "cell_type": "markdown",
   "metadata": {},
   "source": [
    "### Investimentos por grande área ao longo do tempo"
   ]
  },
  {
   "cell_type": "code",
   "execution_count": 16,
   "metadata": {},
   "outputs": [
    {
     "data": {
      "text/html": [
       "<div>\n",
       "<style scoped>\n",
       "    .dataframe tbody tr th:only-of-type {\n",
       "        vertical-align: middle;\n",
       "    }\n",
       "\n",
       "    .dataframe tbody tr th {\n",
       "        vertical-align: top;\n",
       "    }\n",
       "\n",
       "    .dataframe thead th {\n",
       "        text-align: right;\n",
       "    }\n",
       "</style>\n",
       "<table border=\"1\" class=\"dataframe\">\n",
       "  <thead>\n",
       "    <tr style=\"text-align: right;\">\n",
       "      <th></th>\n",
       "      <th>ano_inicial</th>\n",
       "      <th>mes_inicial</th>\n",
       "      <th>grande_area_conhecimento</th>\n",
       "      <th>valor_recebido_total</th>\n",
       "    </tr>\n",
       "  </thead>\n",
       "  <tbody>\n",
       "    <tr>\n",
       "      <th>0</th>\n",
       "      <td>2005</td>\n",
       "      <td>4</td>\n",
       "      <td>ENGENHARIAS</td>\n",
       "      <td>1300.0</td>\n",
       "    </tr>\n",
       "    <tr>\n",
       "      <th>1</th>\n",
       "      <td>2005</td>\n",
       "      <td>9</td>\n",
       "      <td>CIÊNCIAS SOCIAIS APLICADAS</td>\n",
       "      <td>2730.0</td>\n",
       "    </tr>\n",
       "    <tr>\n",
       "      <th>2</th>\n",
       "      <td>2006</td>\n",
       "      <td>10</td>\n",
       "      <td>CIÊNCIAS SOCIAIS APLICADAS</td>\n",
       "      <td>8190.0</td>\n",
       "    </tr>\n",
       "    <tr>\n",
       "      <th>3</th>\n",
       "      <td>2006</td>\n",
       "      <td>10</td>\n",
       "      <td>CIÊNCIAS SOCIAIS APLICADAS</td>\n",
       "      <td>NaN</td>\n",
       "    </tr>\n",
       "    <tr>\n",
       "      <th>4</th>\n",
       "      <td>2006</td>\n",
       "      <td>10</td>\n",
       "      <td>CIÊNCIAS SOCIAIS APLICADAS</td>\n",
       "      <td>6370.0</td>\n",
       "    </tr>\n",
       "    <tr>\n",
       "      <th>...</th>\n",
       "      <td>...</td>\n",
       "      <td>...</td>\n",
       "      <td>...</td>\n",
       "      <td>...</td>\n",
       "    </tr>\n",
       "    <tr>\n",
       "      <th>146031</th>\n",
       "      <td>2014</td>\n",
       "      <td>8</td>\n",
       "      <td>CIÊNCIAS EXATAS E DA TERRA</td>\n",
       "      <td>33904.0</td>\n",
       "    </tr>\n",
       "    <tr>\n",
       "      <th>146032</th>\n",
       "      <td>2014</td>\n",
       "      <td>8</td>\n",
       "      <td>CIÊNCIAS EXATAS E DA TERRA</td>\n",
       "      <td>35508.0</td>\n",
       "    </tr>\n",
       "    <tr>\n",
       "      <th>146033</th>\n",
       "      <td>2014</td>\n",
       "      <td>8</td>\n",
       "      <td>MULTIDISCIPLINAR</td>\n",
       "      <td>NaN</td>\n",
       "    </tr>\n",
       "    <tr>\n",
       "      <th>146034</th>\n",
       "      <td>2014</td>\n",
       "      <td>8</td>\n",
       "      <td>CIÊNCIAS BIOLÓGICAS</td>\n",
       "      <td>11900.0</td>\n",
       "    </tr>\n",
       "    <tr>\n",
       "      <th>146035</th>\n",
       "      <td>2014</td>\n",
       "      <td>8</td>\n",
       "      <td>CIÊNCIAS BIOLÓGICAS</td>\n",
       "      <td>28700.0</td>\n",
       "    </tr>\n",
       "  </tbody>\n",
       "</table>\n",
       "<p>146036 rows × 4 columns</p>\n",
       "</div>"
      ],
      "text/plain": [
       "        ano_inicial  mes_inicial    grande_area_conhecimento  \\\n",
       "0              2005            4                 ENGENHARIAS   \n",
       "1              2005            9  CIÊNCIAS SOCIAIS APLICADAS   \n",
       "2              2006           10  CIÊNCIAS SOCIAIS APLICADAS   \n",
       "3              2006           10  CIÊNCIAS SOCIAIS APLICADAS   \n",
       "4              2006           10  CIÊNCIAS SOCIAIS APLICADAS   \n",
       "...             ...          ...                         ...   \n",
       "146031         2014            8  CIÊNCIAS EXATAS E DA TERRA   \n",
       "146032         2014            8  CIÊNCIAS EXATAS E DA TERRA   \n",
       "146033         2014            8            MULTIDISCIPLINAR   \n",
       "146034         2014            8         CIÊNCIAS BIOLÓGICAS   \n",
       "146035         2014            8         CIÊNCIAS BIOLÓGICAS   \n",
       "\n",
       "        valor_recebido_total  \n",
       "0                     1300.0  \n",
       "1                     2730.0  \n",
       "2                     8190.0  \n",
       "3                        NaN  \n",
       "4                     6370.0  \n",
       "...                      ...  \n",
       "146031               33904.0  \n",
       "146032               35508.0  \n",
       "146033                   NaN  \n",
       "146034               11900.0  \n",
       "146035               28700.0  \n",
       "\n",
       "[146036 rows x 4 columns]"
      ]
     },
     "execution_count": 16,
     "metadata": {},
     "output_type": "execute_result"
    }
   ],
   "source": [
    "# Primeiro devemos restringir as informações apenas ao necessário.\n",
    "# Por isso utilizaremos apenas o ano e mês inicial, a grande área e o valor recebido:\n",
    "\n",
    "df_invest = df[[\"ano_inicial\", \"mes_inicial\", \"grande_area_conhecimento\", \"valor_recebido_total\"]]\n",
    "df_invest"
   ]
  },
  {
   "cell_type": "code",
   "execution_count": 17,
   "metadata": {},
   "outputs": [
    {
     "name": "stderr",
     "output_type": "stream",
     "text": [
      "c:\\Users\\Vinicius\\Desktop\\case_viz\\.venv\\lib\\site-packages\\ipykernel_launcher.py:2: SettingWithCopyWarning:\n",
      "\n",
      "\n",
      "A value is trying to be set on a copy of a slice from a DataFrame\n",
      "\n",
      "See the caveats in the documentation: https://pandas.pydata.org/pandas-docs/stable/user_guide/indexing.html#returning-a-view-versus-a-copy\n",
      "\n"
     ]
    }
   ],
   "source": [
    "# Agora devemos retirar as linhas que tenham ao menos uma informação faltante:\n",
    "df_invest.dropna(inplace=True)"
   ]
  },
  {
   "cell_type": "code",
   "execution_count": 18,
   "metadata": {},
   "outputs": [
    {
     "name": "stderr",
     "output_type": "stream",
     "text": [
      "c:\\Users\\Vinicius\\Desktop\\case_viz\\.venv\\lib\\site-packages\\ipykernel_launcher.py:3: SettingWithCopyWarning:\n",
      "\n",
      "\n",
      "A value is trying to be set on a copy of a slice from a DataFrame.\n",
      "Try using .loc[row_indexer,col_indexer] = value instead\n",
      "\n",
      "See the caveats in the documentation: https://pandas.pydata.org/pandas-docs/stable/user_guide/indexing.html#returning-a-view-versus-a-copy\n",
      "\n",
      "c:\\Users\\Vinicius\\Desktop\\case_viz\\.venv\\lib\\site-packages\\ipykernel_launcher.py:4: SettingWithCopyWarning:\n",
      "\n",
      "\n",
      "A value is trying to be set on a copy of a slice from a DataFrame.\n",
      "Try using .loc[row_indexer,col_indexer] = value instead\n",
      "\n",
      "See the caveats in the documentation: https://pandas.pydata.org/pandas-docs/stable/user_guide/indexing.html#returning-a-view-versus-a-copy\n",
      "\n"
     ]
    }
   ],
   "source": [
    "df_invest[\"date\"] = \\\n",
    "    df_invest[\"ano_inicial\"].astype(str)+\"-\"\\\n",
    "    +df_invest[\"mes_inicial\"].astype(str).map(lambda x: \"{:0>2}\".format(x))+\"-01\"\n",
    "df_invest[\"date\"] = df_invest[\"date\"].map(lambda x: datetime.fromisoformat(x))"
   ]
  },
  {
   "cell_type": "code",
   "execution_count": 19,
   "metadata": {},
   "outputs": [
    {
     "data": {
      "text/html": [
       "<div>\n",
       "<style scoped>\n",
       "    .dataframe tbody tr th:only-of-type {\n",
       "        vertical-align: middle;\n",
       "    }\n",
       "\n",
       "    .dataframe tbody tr th {\n",
       "        vertical-align: top;\n",
       "    }\n",
       "\n",
       "    .dataframe thead th {\n",
       "        text-align: right;\n",
       "    }\n",
       "</style>\n",
       "<table border=\"1\" class=\"dataframe\">\n",
       "  <thead>\n",
       "    <tr style=\"text-align: right;\">\n",
       "      <th></th>\n",
       "      <th>ano</th>\n",
       "      <th>mes</th>\n",
       "      <th>grande_area</th>\n",
       "      <th>recebido</th>\n",
       "      <th>data</th>\n",
       "    </tr>\n",
       "  </thead>\n",
       "  <tbody>\n",
       "    <tr>\n",
       "      <th>0</th>\n",
       "      <td>2005</td>\n",
       "      <td>4</td>\n",
       "      <td>ENGENHARIAS</td>\n",
       "      <td>1300.0</td>\n",
       "      <td>2005-04-01</td>\n",
       "    </tr>\n",
       "    <tr>\n",
       "      <th>1</th>\n",
       "      <td>2005</td>\n",
       "      <td>9</td>\n",
       "      <td>CIÊNCIAS SOCIAIS APLICADAS</td>\n",
       "      <td>2730.0</td>\n",
       "      <td>2005-09-01</td>\n",
       "    </tr>\n",
       "    <tr>\n",
       "      <th>2</th>\n",
       "      <td>2006</td>\n",
       "      <td>3</td>\n",
       "      <td>CIÊNCIAS AGRÁRIAS</td>\n",
       "      <td>3600.0</td>\n",
       "      <td>2006-03-01</td>\n",
       "    </tr>\n",
       "    <tr>\n",
       "      <th>3</th>\n",
       "      <td>2006</td>\n",
       "      <td>3</td>\n",
       "      <td>CIÊNCIAS AGRÁRIAS</td>\n",
       "      <td>3600.0</td>\n",
       "      <td>2006-03-01</td>\n",
       "    </tr>\n",
       "    <tr>\n",
       "      <th>4</th>\n",
       "      <td>2006</td>\n",
       "      <td>3</td>\n",
       "      <td>CIÊNCIAS AGRÁRIAS</td>\n",
       "      <td>3600.0</td>\n",
       "      <td>2006-03-01</td>\n",
       "    </tr>\n",
       "    <tr>\n",
       "      <th>...</th>\n",
       "      <td>...</td>\n",
       "      <td>...</td>\n",
       "      <td>...</td>\n",
       "      <td>...</td>\n",
       "      <td>...</td>\n",
       "    </tr>\n",
       "    <tr>\n",
       "      <th>131238</th>\n",
       "      <td>2019</td>\n",
       "      <td>12</td>\n",
       "      <td>MULTIDISCIPLINAR</td>\n",
       "      <td>4960.0</td>\n",
       "      <td>2019-12-01</td>\n",
       "    </tr>\n",
       "    <tr>\n",
       "      <th>131239</th>\n",
       "      <td>2019</td>\n",
       "      <td>12</td>\n",
       "      <td>MULTIDISCIPLINAR</td>\n",
       "      <td>3140.0</td>\n",
       "      <td>2019-12-01</td>\n",
       "    </tr>\n",
       "    <tr>\n",
       "      <th>131240</th>\n",
       "      <td>2019</td>\n",
       "      <td>12</td>\n",
       "      <td>MULTIDISCIPLINAR</td>\n",
       "      <td>3680.0</td>\n",
       "      <td>2019-12-01</td>\n",
       "    </tr>\n",
       "    <tr>\n",
       "      <th>131241</th>\n",
       "      <td>2019</td>\n",
       "      <td>12</td>\n",
       "      <td>MULTIDISCIPLINAR</td>\n",
       "      <td>3680.0</td>\n",
       "      <td>2019-12-01</td>\n",
       "    </tr>\n",
       "    <tr>\n",
       "      <th>131242</th>\n",
       "      <td>2019</td>\n",
       "      <td>12</td>\n",
       "      <td>MULTIDISCIPLINAR</td>\n",
       "      <td>9600.0</td>\n",
       "      <td>2019-12-01</td>\n",
       "    </tr>\n",
       "  </tbody>\n",
       "</table>\n",
       "<p>131243 rows × 5 columns</p>\n",
       "</div>"
      ],
      "text/plain": [
       "         ano  mes                 grande_area  recebido       data\n",
       "0       2005    4                 ENGENHARIAS    1300.0 2005-04-01\n",
       "1       2005    9  CIÊNCIAS SOCIAIS APLICADAS    2730.0 2005-09-01\n",
       "2       2006    3           CIÊNCIAS AGRÁRIAS    3600.0 2006-03-01\n",
       "3       2006    3           CIÊNCIAS AGRÁRIAS    3600.0 2006-03-01\n",
       "4       2006    3           CIÊNCIAS AGRÁRIAS    3600.0 2006-03-01\n",
       "...      ...  ...                         ...       ...        ...\n",
       "131238  2019   12            MULTIDISCIPLINAR    4960.0 2019-12-01\n",
       "131239  2019   12            MULTIDISCIPLINAR    3140.0 2019-12-01\n",
       "131240  2019   12            MULTIDISCIPLINAR    3680.0 2019-12-01\n",
       "131241  2019   12            MULTIDISCIPLINAR    3680.0 2019-12-01\n",
       "131242  2019   12            MULTIDISCIPLINAR    9600.0 2019-12-01\n",
       "\n",
       "[131243 rows x 5 columns]"
      ]
     },
     "execution_count": 19,
     "metadata": {},
     "output_type": "execute_result"
    }
   ],
   "source": [
    "df_invest = df_invest.rename(columns={\n",
    "    \"ano_inicial\":\"ano\",\n",
    "    \"mes_inicial\":\"mes\",\n",
    "    \"grande_area_conhecimento\":\"grande_area\",\n",
    "    \"valor_recebido_total\":\"recebido\",\n",
    "    \"date\":\"data\"\n",
    "}).sort_values([\"data\",\"grande_area\"], ignore_index=True)\n",
    "df_invest"
   ]
  },
  {
   "cell_type": "code",
   "execution_count": 20,
   "metadata": {},
   "outputs": [
    {
     "data": {
      "text/html": [
       "<div>\n",
       "<style scoped>\n",
       "    .dataframe tbody tr th:only-of-type {\n",
       "        vertical-align: middle;\n",
       "    }\n",
       "\n",
       "    .dataframe tbody tr th {\n",
       "        vertical-align: top;\n",
       "    }\n",
       "\n",
       "    .dataframe thead th {\n",
       "        text-align: right;\n",
       "    }\n",
       "</style>\n",
       "<table border=\"1\" class=\"dataframe\">\n",
       "  <thead>\n",
       "    <tr style=\"text-align: right;\">\n",
       "      <th></th>\n",
       "      <th>data</th>\n",
       "      <th>grande_area</th>\n",
       "      <th>recebido</th>\n",
       "    </tr>\n",
       "  </thead>\n",
       "  <tbody>\n",
       "    <tr>\n",
       "      <th>0</th>\n",
       "      <td>2005-04-01</td>\n",
       "      <td>ENGENHARIAS</td>\n",
       "      <td>1300.0</td>\n",
       "    </tr>\n",
       "    <tr>\n",
       "      <th>1</th>\n",
       "      <td>2005-09-01</td>\n",
       "      <td>CIÊNCIAS SOCIAIS APLICADAS</td>\n",
       "      <td>2730.0</td>\n",
       "    </tr>\n",
       "    <tr>\n",
       "      <th>2</th>\n",
       "      <td>2006-03-01</td>\n",
       "      <td>CIÊNCIAS AGRÁRIAS</td>\n",
       "      <td>18000.0</td>\n",
       "    </tr>\n",
       "    <tr>\n",
       "      <th>3</th>\n",
       "      <td>2006-03-01</td>\n",
       "      <td>CIÊNCIAS BIOLÓGICAS</td>\n",
       "      <td>1800.0</td>\n",
       "    </tr>\n",
       "    <tr>\n",
       "      <th>4</th>\n",
       "      <td>2006-03-01</td>\n",
       "      <td>CIÊNCIAS DA SAÚDE</td>\n",
       "      <td>5400.0</td>\n",
       "    </tr>\n",
       "    <tr>\n",
       "      <th>...</th>\n",
       "      <td>...</td>\n",
       "      <td>...</td>\n",
       "      <td>...</td>\n",
       "    </tr>\n",
       "    <tr>\n",
       "      <th>1290</th>\n",
       "      <td>2019-12-01</td>\n",
       "      <td>CIÊNCIAS HUMANAS</td>\n",
       "      <td>334751.0</td>\n",
       "    </tr>\n",
       "    <tr>\n",
       "      <th>1291</th>\n",
       "      <td>2019-12-01</td>\n",
       "      <td>CIÊNCIAS SOCIAIS APLICADAS</td>\n",
       "      <td>221784.0</td>\n",
       "    </tr>\n",
       "    <tr>\n",
       "      <th>1292</th>\n",
       "      <td>2019-12-01</td>\n",
       "      <td>ENGENHARIAS</td>\n",
       "      <td>297618.0</td>\n",
       "    </tr>\n",
       "    <tr>\n",
       "      <th>1293</th>\n",
       "      <td>2019-12-01</td>\n",
       "      <td>LINGÜÍSTICA, LETRAS E ARTES</td>\n",
       "      <td>187974.0</td>\n",
       "    </tr>\n",
       "    <tr>\n",
       "      <th>1294</th>\n",
       "      <td>2019-12-01</td>\n",
       "      <td>MULTIDISCIPLINAR</td>\n",
       "      <td>68631.0</td>\n",
       "    </tr>\n",
       "  </tbody>\n",
       "</table>\n",
       "<p>1295 rows × 3 columns</p>\n",
       "</div>"
      ],
      "text/plain": [
       "           data                  grande_area  recebido\n",
       "0    2005-04-01                  ENGENHARIAS    1300.0\n",
       "1    2005-09-01   CIÊNCIAS SOCIAIS APLICADAS    2730.0\n",
       "2    2006-03-01            CIÊNCIAS AGRÁRIAS   18000.0\n",
       "3    2006-03-01          CIÊNCIAS BIOLÓGICAS    1800.0\n",
       "4    2006-03-01            CIÊNCIAS DA SAÚDE    5400.0\n",
       "...         ...                          ...       ...\n",
       "1290 2019-12-01             CIÊNCIAS HUMANAS  334751.0\n",
       "1291 2019-12-01   CIÊNCIAS SOCIAIS APLICADAS  221784.0\n",
       "1292 2019-12-01                  ENGENHARIAS  297618.0\n",
       "1293 2019-12-01  LINGÜÍSTICA, LETRAS E ARTES  187974.0\n",
       "1294 2019-12-01             MULTIDISCIPLINAR   68631.0\n",
       "\n",
       "[1295 rows x 3 columns]"
      ]
     },
     "execution_count": 20,
     "metadata": {},
     "output_type": "execute_result"
    }
   ],
   "source": [
    "df_invest_group = df_invest[[\"data\", \"grande_area\", \"recebido\"]].groupby([\"data\", \"grande_area\"])[[\"recebido\"]].sum()\n",
    "df_invest_group = df_invest_group.reset_index(level=[\"data\", \"grande_area\"])\n",
    "df_invest_group = df_invest_group.sort_values([\"data\", \"grande_area\"], ignore_index=True)\n",
    "df_invest_group"
   ]
  },
  {
   "cell_type": "code",
   "execution_count": 21,
   "metadata": {},
   "outputs": [
    {
     "data": {
      "application/vnd.plotly.v1+json": {
       "config": {
        "plotlyServerURL": "https://plot.ly"
       },
       "data": [
        {
         "hovertemplate": "grande_area=ENGENHARIAS<br>data=%{x}<br>recebido=%{y}<extra></extra>",
         "legendgroup": "ENGENHARIAS",
         "line": {
          "color": "#636efa",
          "dash": "solid"
         },
         "marker": {
          "symbol": "circle"
         },
         "mode": "lines",
         "name": "ENGENHARIAS",
         "showlegend": true,
         "type": "scattergl",
         "x": [
          "2005-04-01T00:00:00",
          "2006-03-01T00:00:00",
          "2006-04-01T00:00:00",
          "2006-06-01T00:00:00",
          "2006-08-01T00:00:00",
          "2006-09-01T00:00:00",
          "2006-10-01T00:00:00",
          "2006-12-01T00:00:00",
          "2007-02-01T00:00:00",
          "2007-03-01T00:00:00",
          "2007-05-01T00:00:00",
          "2007-08-01T00:00:00",
          "2007-09-01T00:00:00",
          "2007-10-01T00:00:00",
          "2008-03-01T00:00:00",
          "2008-04-01T00:00:00",
          "2008-08-01T00:00:00",
          "2008-10-01T00:00:00",
          "2008-12-01T00:00:00",
          "2009-02-01T00:00:00",
          "2009-03-01T00:00:00",
          "2009-04-01T00:00:00",
          "2009-05-01T00:00:00",
          "2009-06-01T00:00:00",
          "2009-07-01T00:00:00",
          "2009-08-01T00:00:00",
          "2009-09-01T00:00:00",
          "2009-10-01T00:00:00",
          "2009-11-01T00:00:00",
          "2009-12-01T00:00:00",
          "2010-01-01T00:00:00",
          "2010-02-01T00:00:00",
          "2010-03-01T00:00:00",
          "2010-04-01T00:00:00",
          "2010-05-01T00:00:00",
          "2010-06-01T00:00:00",
          "2010-07-01T00:00:00",
          "2010-08-01T00:00:00",
          "2010-09-01T00:00:00",
          "2010-10-01T00:00:00",
          "2010-11-01T00:00:00",
          "2010-12-01T00:00:00",
          "2011-01-01T00:00:00",
          "2011-02-01T00:00:00",
          "2011-03-01T00:00:00",
          "2011-04-01T00:00:00",
          "2011-05-01T00:00:00",
          "2011-06-01T00:00:00",
          "2011-07-01T00:00:00",
          "2011-08-01T00:00:00",
          "2011-09-01T00:00:00",
          "2011-10-01T00:00:00",
          "2011-11-01T00:00:00",
          "2011-12-01T00:00:00",
          "2012-01-01T00:00:00",
          "2012-02-01T00:00:00",
          "2012-03-01T00:00:00",
          "2012-04-01T00:00:00",
          "2012-05-01T00:00:00",
          "2012-06-01T00:00:00",
          "2012-07-01T00:00:00",
          "2012-08-01T00:00:00",
          "2012-09-01T00:00:00",
          "2012-10-01T00:00:00",
          "2012-11-01T00:00:00",
          "2012-12-01T00:00:00",
          "2013-01-01T00:00:00",
          "2013-02-01T00:00:00",
          "2013-03-01T00:00:00",
          "2013-04-01T00:00:00",
          "2013-05-01T00:00:00",
          "2013-06-01T00:00:00",
          "2013-07-01T00:00:00",
          "2013-08-01T00:00:00",
          "2013-09-01T00:00:00",
          "2013-10-01T00:00:00",
          "2013-11-01T00:00:00",
          "2013-12-01T00:00:00",
          "2014-01-01T00:00:00",
          "2014-02-01T00:00:00",
          "2014-03-01T00:00:00",
          "2014-04-01T00:00:00",
          "2014-05-01T00:00:00",
          "2014-06-01T00:00:00",
          "2014-07-01T00:00:00",
          "2014-08-01T00:00:00",
          "2014-09-01T00:00:00",
          "2014-10-01T00:00:00",
          "2014-11-01T00:00:00",
          "2014-12-01T00:00:00",
          "2015-01-01T00:00:00",
          "2015-02-01T00:00:00",
          "2015-03-01T00:00:00",
          "2015-04-01T00:00:00",
          "2015-05-01T00:00:00",
          "2015-06-01T00:00:00",
          "2015-07-01T00:00:00",
          "2015-08-01T00:00:00",
          "2015-09-01T00:00:00",
          "2015-10-01T00:00:00",
          "2015-11-01T00:00:00",
          "2015-12-01T00:00:00",
          "2016-01-01T00:00:00",
          "2016-02-01T00:00:00",
          "2016-03-01T00:00:00",
          "2016-04-01T00:00:00",
          "2016-05-01T00:00:00",
          "2016-06-01T00:00:00",
          "2016-07-01T00:00:00",
          "2016-08-01T00:00:00",
          "2016-09-01T00:00:00",
          "2016-10-01T00:00:00",
          "2016-11-01T00:00:00",
          "2016-12-01T00:00:00",
          "2017-01-01T00:00:00",
          "2017-02-01T00:00:00",
          "2017-03-01T00:00:00",
          "2017-04-01T00:00:00",
          "2017-05-01T00:00:00",
          "2017-06-01T00:00:00",
          "2017-07-01T00:00:00",
          "2017-08-01T00:00:00",
          "2017-09-01T00:00:00",
          "2017-10-01T00:00:00",
          "2017-11-01T00:00:00",
          "2017-12-01T00:00:00",
          "2018-01-01T00:00:00",
          "2018-02-01T00:00:00",
          "2018-03-01T00:00:00",
          "2018-04-01T00:00:00",
          "2018-05-01T00:00:00",
          "2018-06-01T00:00:00",
          "2018-07-01T00:00:00",
          "2018-08-01T00:00:00",
          "2018-09-01T00:00:00",
          "2018-10-01T00:00:00",
          "2018-11-01T00:00:00",
          "2018-12-01T00:00:00",
          "2019-01-01T00:00:00",
          "2019-02-01T00:00:00",
          "2019-03-01T00:00:00",
          "2019-04-01T00:00:00",
          "2019-05-01T00:00:00",
          "2019-06-01T00:00:00",
          "2019-07-01T00:00:00",
          "2019-08-01T00:00:00",
          "2019-09-01T00:00:00",
          "2019-10-01T00:00:00",
          "2019-11-01T00:00:00",
          "2019-12-01T00:00:00"
         ],
         "xaxis": "x",
         "y": [
          1300,
          3600,
          4300,
          9000,
          37976,
          19450,
          26390,
          7500,
          39600,
          88200,
          22000,
          34200,
          69560,
          66394,
          198000,
          62255,
          42700,
          62752,
          9100,
          29840,
          398700,
          97580,
          31930,
          11700,
          143460,
          1048033,
          986022,
          227980,
          155449,
          146510,
          405378,
          226300,
          672181,
          234343,
          172238,
          92200,
          483530,
          2396714,
          1986368,
          438986,
          143840,
          328810,
          353036,
          254648,
          600677,
          313960,
          132393,
          69340,
          299634,
          4238900,
          3458081,
          455561,
          524512,
          330157,
          2870179,
          1365762,
          771455,
          305217,
          337827,
          919036,
          5402683,
          11887138,
          11110430,
          5848917,
          1246436,
          427054,
          4121767,
          4088181,
          2974005,
          810095,
          501739,
          1852550,
          11175049,
          31751369,
          54733085,
          18123852,
          1742766,
          1453329,
          10147106,
          7401887,
          25302466,
          106804752,
          4165519,
          17887213,
          17807518,
          51768765,
          99326398,
          46445037,
          783824,
          619462,
          981289,
          2713776,
          1977327,
          58499764,
          822888,
          7827075,
          16047910,
          43107225,
          84120985,
          61181922,
          443401,
          430200,
          429984,
          343216,
          79248,
          71376,
          127864,
          174203,
          271584,
          411908,
          8386802,
          386542,
          251507,
          479122,
          201974,
          35634,
          1000201,
          3521446,
          963228,
          297313,
          1461160,
          1676069,
          9136389,
          1387760,
          2711873,
          150189,
          341917,
          91296,
          183194,
          174949,
          137309,
          34930,
          180088,
          3533731,
          8453197,
          2049425,
          1547686,
          1610972,
          442670,
          64676,
          3180,
          132790,
          41180,
          32950,
          116450,
          306899,
          4136606,
          1170847,
          465580,
          297618
         ],
         "yaxis": "y"
        },
        {
         "hovertemplate": "grande_area=CIÊNCIAS SOCIAIS APLICADAS<br>data=%{x}<br>recebido=%{y}<extra></extra>",
         "legendgroup": "CIÊNCIAS SOCIAIS APLICADAS",
         "line": {
          "color": "#EF553B",
          "dash": "solid"
         },
         "marker": {
          "symbol": "circle"
         },
         "mode": "lines",
         "name": "CIÊNCIAS SOCIAIS APLICADAS",
         "showlegend": true,
         "type": "scattergl",
         "x": [
          "2005-09-01T00:00:00",
          "2006-03-01T00:00:00",
          "2006-04-01T00:00:00",
          "2006-08-01T00:00:00",
          "2006-09-01T00:00:00",
          "2006-10-01T00:00:00",
          "2007-03-01T00:00:00",
          "2007-04-01T00:00:00",
          "2007-08-01T00:00:00",
          "2007-09-01T00:00:00",
          "2007-10-01T00:00:00",
          "2007-11-01T00:00:00",
          "2008-03-01T00:00:00",
          "2008-04-01T00:00:00",
          "2008-07-01T00:00:00",
          "2008-09-01T00:00:00",
          "2009-03-01T00:00:00",
          "2009-04-01T00:00:00",
          "2009-06-01T00:00:00",
          "2009-07-01T00:00:00",
          "2009-08-01T00:00:00",
          "2009-09-01T00:00:00",
          "2009-10-01T00:00:00",
          "2009-11-01T00:00:00",
          "2009-12-01T00:00:00",
          "2010-01-01T00:00:00",
          "2010-02-01T00:00:00",
          "2010-03-01T00:00:00",
          "2010-04-01T00:00:00",
          "2010-05-01T00:00:00",
          "2010-06-01T00:00:00",
          "2010-07-01T00:00:00",
          "2010-08-01T00:00:00",
          "2010-09-01T00:00:00",
          "2010-10-01T00:00:00",
          "2010-11-01T00:00:00",
          "2010-12-01T00:00:00",
          "2011-01-01T00:00:00",
          "2011-02-01T00:00:00",
          "2011-03-01T00:00:00",
          "2011-04-01T00:00:00",
          "2011-05-01T00:00:00",
          "2011-06-01T00:00:00",
          "2011-07-01T00:00:00",
          "2011-08-01T00:00:00",
          "2011-09-01T00:00:00",
          "2011-10-01T00:00:00",
          "2011-11-01T00:00:00",
          "2011-12-01T00:00:00",
          "2012-01-01T00:00:00",
          "2012-02-01T00:00:00",
          "2012-03-01T00:00:00",
          "2012-04-01T00:00:00",
          "2012-05-01T00:00:00",
          "2012-06-01T00:00:00",
          "2012-07-01T00:00:00",
          "2012-08-01T00:00:00",
          "2012-09-01T00:00:00",
          "2012-10-01T00:00:00",
          "2012-11-01T00:00:00",
          "2012-12-01T00:00:00",
          "2013-01-01T00:00:00",
          "2013-02-01T00:00:00",
          "2013-03-01T00:00:00",
          "2013-04-01T00:00:00",
          "2013-05-01T00:00:00",
          "2013-06-01T00:00:00",
          "2013-07-01T00:00:00",
          "2013-08-01T00:00:00",
          "2013-09-01T00:00:00",
          "2013-10-01T00:00:00",
          "2013-11-01T00:00:00",
          "2013-12-01T00:00:00",
          "2014-01-01T00:00:00",
          "2014-02-01T00:00:00",
          "2014-03-01T00:00:00",
          "2014-04-01T00:00:00",
          "2014-05-01T00:00:00",
          "2014-06-01T00:00:00",
          "2014-07-01T00:00:00",
          "2014-08-01T00:00:00",
          "2014-09-01T00:00:00",
          "2014-10-01T00:00:00",
          "2014-11-01T00:00:00",
          "2014-12-01T00:00:00",
          "2015-01-01T00:00:00",
          "2015-02-01T00:00:00",
          "2015-03-01T00:00:00",
          "2015-04-01T00:00:00",
          "2015-05-01T00:00:00",
          "2015-06-01T00:00:00",
          "2015-07-01T00:00:00",
          "2015-08-01T00:00:00",
          "2015-09-01T00:00:00",
          "2015-10-01T00:00:00",
          "2015-11-01T00:00:00",
          "2015-12-01T00:00:00",
          "2016-01-01T00:00:00",
          "2016-02-01T00:00:00",
          "2016-03-01T00:00:00",
          "2016-04-01T00:00:00",
          "2016-05-01T00:00:00",
          "2016-06-01T00:00:00",
          "2016-07-01T00:00:00",
          "2016-08-01T00:00:00",
          "2016-09-01T00:00:00",
          "2016-10-01T00:00:00",
          "2016-11-01T00:00:00",
          "2016-12-01T00:00:00",
          "2017-01-01T00:00:00",
          "2017-02-01T00:00:00",
          "2017-03-01T00:00:00",
          "2017-04-01T00:00:00",
          "2017-05-01T00:00:00",
          "2017-06-01T00:00:00",
          "2017-07-01T00:00:00",
          "2017-08-01T00:00:00",
          "2017-09-01T00:00:00",
          "2017-10-01T00:00:00",
          "2017-11-01T00:00:00",
          "2017-12-01T00:00:00",
          "2018-01-01T00:00:00",
          "2018-02-01T00:00:00",
          "2018-03-01T00:00:00",
          "2018-04-01T00:00:00",
          "2018-05-01T00:00:00",
          "2018-07-01T00:00:00",
          "2018-08-01T00:00:00",
          "2018-09-01T00:00:00",
          "2018-10-01T00:00:00",
          "2018-11-01T00:00:00",
          "2018-12-01T00:00:00",
          "2019-01-01T00:00:00",
          "2019-02-01T00:00:00",
          "2019-03-01T00:00:00",
          "2019-04-01T00:00:00",
          "2019-05-01T00:00:00",
          "2019-06-01T00:00:00",
          "2019-07-01T00:00:00",
          "2019-08-01T00:00:00",
          "2019-09-01T00:00:00",
          "2019-10-01T00:00:00",
          "2019-11-01T00:00:00",
          "2019-12-01T00:00:00"
         ],
         "xaxis": "x",
         "y": [
          2730,
          14400,
          16900,
          45383,
          95392,
          37510,
          100800,
          31700,
          44600,
          65090,
          106371,
          29400,
          263688,
          9000,
          34200,
          107892,
          419720,
          48700,
          6500,
          46570,
          121780,
          391847,
          215390,
          235103,
          172794,
          242570,
          186040,
          425576,
          51811,
          112340,
          88000,
          169191,
          469584,
          896520,
          450942,
          46070,
          233982,
          241020,
          236460,
          1077638,
          403998,
          161446,
          46723,
          216209,
          503828,
          859335,
          816077,
          167002,
          139514,
          493636,
          250388,
          1019161,
          226700,
          198262,
          163195,
          1097385,
          2182677,
          3967752,
          1573336,
          375788,
          438198,
          1180485,
          948550,
          2437447,
          616490,
          336156,
          502066,
          3246393,
          10550962,
          11516337,
          5578708,
          810121,
          428907,
          4530567,
          2157528,
          3138487,
          7921742,
          497920,
          2701900,
          3757885,
          14760881,
          12145867,
          9450694,
          909533,
          537813,
          1470938,
          2086921,
          2288403,
          12997997,
          409865,
          1530646,
          5238056,
          11457426,
          5671908,
          5952788,
          382071,
          129995,
          420914,
          274630,
          164997,
          132317,
          127140,
          27824,
          58424,
          191039,
          405393,
          183200,
          103165,
          164174,
          166997,
          211693,
          2105428,
          1785732,
          3279853,
          181514,
          1021138,
          1087217,
          1921312,
          453747,
          81561,
          115313,
          440307,
          39365,
          356837,
          144464,
          8115,
          46989,
          1741565,
          1603933,
          839360,
          955416,
          193180,
          177428,
          35390,
          134665,
          183548,
          80344,
          71080,
          163256,
          497811,
          2451402,
          1116281,
          463598,
          221784
         ],
         "yaxis": "y"
        },
        {
         "hovertemplate": "grande_area=CIÊNCIAS AGRÁRIAS<br>data=%{x}<br>recebido=%{y}<extra></extra>",
         "legendgroup": "CIÊNCIAS AGRÁRIAS",
         "line": {
          "color": "#00cc96",
          "dash": "solid"
         },
         "marker": {
          "symbol": "circle"
         },
         "mode": "lines",
         "name": "CIÊNCIAS AGRÁRIAS",
         "showlegend": true,
         "type": "scattergl",
         "x": [
          "2006-03-01T00:00:00",
          "2006-04-01T00:00:00",
          "2006-08-01T00:00:00",
          "2006-09-01T00:00:00",
          "2006-10-01T00:00:00",
          "2007-03-01T00:00:00",
          "2007-08-01T00:00:00",
          "2007-09-01T00:00:00",
          "2007-12-01T00:00:00",
          "2008-03-01T00:00:00",
          "2008-05-01T00:00:00",
          "2008-08-01T00:00:00",
          "2009-02-01T00:00:00",
          "2009-03-01T00:00:00",
          "2009-04-01T00:00:00",
          "2009-05-01T00:00:00",
          "2009-06-01T00:00:00",
          "2009-07-01T00:00:00",
          "2009-08-01T00:00:00",
          "2009-09-01T00:00:00",
          "2009-10-01T00:00:00",
          "2009-11-01T00:00:00",
          "2009-12-01T00:00:00",
          "2010-01-01T00:00:00",
          "2010-02-01T00:00:00",
          "2010-03-01T00:00:00",
          "2010-04-01T00:00:00",
          "2010-05-01T00:00:00",
          "2010-06-01T00:00:00",
          "2010-07-01T00:00:00",
          "2010-08-01T00:00:00",
          "2010-09-01T00:00:00",
          "2010-10-01T00:00:00",
          "2010-11-01T00:00:00",
          "2010-12-01T00:00:00",
          "2011-01-01T00:00:00",
          "2011-02-01T00:00:00",
          "2011-03-01T00:00:00",
          "2011-04-01T00:00:00",
          "2011-05-01T00:00:00",
          "2011-06-01T00:00:00",
          "2011-07-01T00:00:00",
          "2011-08-01T00:00:00",
          "2011-09-01T00:00:00",
          "2011-10-01T00:00:00",
          "2011-11-01T00:00:00",
          "2011-12-01T00:00:00",
          "2012-01-01T00:00:00",
          "2012-02-01T00:00:00",
          "2012-03-01T00:00:00",
          "2012-04-01T00:00:00",
          "2012-05-01T00:00:00",
          "2012-06-01T00:00:00",
          "2012-07-01T00:00:00",
          "2012-08-01T00:00:00",
          "2012-09-01T00:00:00",
          "2012-10-01T00:00:00",
          "2012-11-01T00:00:00",
          "2012-12-01T00:00:00",
          "2013-01-01T00:00:00",
          "2013-02-01T00:00:00",
          "2013-03-01T00:00:00",
          "2013-04-01T00:00:00",
          "2013-05-01T00:00:00",
          "2013-06-01T00:00:00",
          "2013-07-01T00:00:00",
          "2013-08-01T00:00:00",
          "2013-09-01T00:00:00",
          "2013-10-01T00:00:00",
          "2013-11-01T00:00:00",
          "2013-12-01T00:00:00",
          "2014-01-01T00:00:00",
          "2014-02-01T00:00:00",
          "2014-03-01T00:00:00",
          "2014-04-01T00:00:00",
          "2014-05-01T00:00:00",
          "2014-06-01T00:00:00",
          "2014-07-01T00:00:00",
          "2014-08-01T00:00:00",
          "2014-09-01T00:00:00",
          "2014-10-01T00:00:00",
          "2014-11-01T00:00:00",
          "2014-12-01T00:00:00",
          "2015-01-01T00:00:00",
          "2015-02-01T00:00:00",
          "2015-03-01T00:00:00",
          "2015-04-01T00:00:00",
          "2015-05-01T00:00:00",
          "2015-06-01T00:00:00",
          "2015-07-01T00:00:00",
          "2015-08-01T00:00:00",
          "2015-09-01T00:00:00",
          "2015-10-01T00:00:00",
          "2015-11-01T00:00:00",
          "2015-12-01T00:00:00",
          "2016-01-01T00:00:00",
          "2016-02-01T00:00:00",
          "2016-03-01T00:00:00",
          "2016-04-01T00:00:00",
          "2016-05-01T00:00:00",
          "2016-06-01T00:00:00",
          "2016-07-01T00:00:00",
          "2016-08-01T00:00:00",
          "2016-09-01T00:00:00",
          "2016-10-01T00:00:00",
          "2016-11-01T00:00:00",
          "2016-12-01T00:00:00",
          "2017-01-01T00:00:00",
          "2017-02-01T00:00:00",
          "2017-03-01T00:00:00",
          "2017-04-01T00:00:00",
          "2017-05-01T00:00:00",
          "2017-06-01T00:00:00",
          "2017-07-01T00:00:00",
          "2017-08-01T00:00:00",
          "2017-09-01T00:00:00",
          "2017-10-01T00:00:00",
          "2017-11-01T00:00:00",
          "2017-12-01T00:00:00",
          "2018-01-01T00:00:00",
          "2018-02-01T00:00:00",
          "2018-03-01T00:00:00",
          "2018-04-01T00:00:00",
          "2018-05-01T00:00:00",
          "2018-06-01T00:00:00",
          "2018-07-01T00:00:00",
          "2018-08-01T00:00:00",
          "2018-09-01T00:00:00",
          "2018-10-01T00:00:00",
          "2018-11-01T00:00:00",
          "2018-12-01T00:00:00",
          "2019-01-01T00:00:00",
          "2019-02-01T00:00:00",
          "2019-03-01T00:00:00",
          "2019-04-01T00:00:00",
          "2019-06-01T00:00:00",
          "2019-07-01T00:00:00",
          "2019-08-01T00:00:00",
          "2019-09-01T00:00:00",
          "2019-10-01T00:00:00",
          "2019-11-01T00:00:00",
          "2019-12-01T00:00:00"
         ],
         "xaxis": "x",
         "y": [
          18000,
          5400,
          7963,
          13450,
          30390,
          72000,
          68400,
          70525,
          30700,
          442800,
          5000,
          62400,
          7940,
          1587500,
          122510,
          62600,
          10910,
          19540,
          522010,
          416210,
          6000,
          78490,
          107100,
          244185,
          115180,
          2246940,
          151618,
          159042,
          39510,
          100146,
          563285,
          390565,
          248120,
          21660,
          53710,
          174240,
          152520,
          2574001,
          323225,
          105334,
          130672,
          260673,
          1114250,
          4179045,
          148933,
          258744,
          97574,
          479531,
          2397657,
          4229905,
          341168,
          396836,
          275213,
          1231939,
          2550089,
          1284033,
          580196,
          440893,
          240406,
          838145,
          387398,
          3661209,
          2142762,
          858554,
          1138797,
          3052854,
          10343723,
          18088501,
          5605696,
          1208694,
          506852,
          3720430,
          4087994,
          7121709,
          10784175,
          1354576,
          2661727,
          6076203,
          9029885,
          3660720,
          12670096,
          1344137,
          460406,
          1850535,
          3443060,
          4082142,
          7099791,
          720184,
          1198039,
          1711646,
          6290581,
          1869120,
          3279639,
          365222,
          426231,
          313471,
          280924,
          467080,
          259526,
          296783,
          202003,
          371372,
          420268,
          1520897,
          230044,
          139132,
          208408,
          125343,
          164098,
          1927234,
          3159143,
          1246681,
          682960,
          1014558,
          1158171,
          1754266,
          695888,
          137022,
          64746,
          40022,
          1600,
          180481,
          116784,
          27105,
          45944,
          82321,
          1033843,
          1907868,
          2674490,
          1921270,
          225484,
          227097,
          76092,
          305330,
          245230,
          76430,
          68230,
          353679,
          1317103,
          338644,
          543088,
          204554
         ],
         "yaxis": "y"
        },
        {
         "hovertemplate": "grande_area=CIÊNCIAS BIOLÓGICAS<br>data=%{x}<br>recebido=%{y}<extra></extra>",
         "legendgroup": "CIÊNCIAS BIOLÓGICAS",
         "line": {
          "color": "#ab63fa",
          "dash": "solid"
         },
         "marker": {
          "symbol": "circle"
         },
         "mode": "lines",
         "name": "CIÊNCIAS BIOLÓGICAS",
         "showlegend": true,
         "type": "scattergl",
         "x": [
          "2006-03-01T00:00:00",
          "2006-04-01T00:00:00",
          "2006-08-01T00:00:00",
          "2006-09-01T00:00:00",
          "2006-10-01T00:00:00",
          "2007-08-01T00:00:00",
          "2007-09-01T00:00:00",
          "2007-10-01T00:00:00",
          "2008-03-01T00:00:00",
          "2008-04-01T00:00:00",
          "2008-05-01T00:00:00",
          "2008-08-01T00:00:00",
          "2008-09-01T00:00:00",
          "2008-11-01T00:00:00",
          "2009-01-01T00:00:00",
          "2009-02-01T00:00:00",
          "2009-03-01T00:00:00",
          "2009-04-01T00:00:00",
          "2009-05-01T00:00:00",
          "2009-06-01T00:00:00",
          "2009-07-01T00:00:00",
          "2009-08-01T00:00:00",
          "2009-09-01T00:00:00",
          "2009-10-01T00:00:00",
          "2009-11-01T00:00:00",
          "2009-12-01T00:00:00",
          "2010-01-01T00:00:00",
          "2010-02-01T00:00:00",
          "2010-03-01T00:00:00",
          "2010-04-01T00:00:00",
          "2010-05-01T00:00:00",
          "2010-06-01T00:00:00",
          "2010-07-01T00:00:00",
          "2010-08-01T00:00:00",
          "2010-09-01T00:00:00",
          "2010-10-01T00:00:00",
          "2010-11-01T00:00:00",
          "2010-12-01T00:00:00",
          "2011-01-01T00:00:00",
          "2011-02-01T00:00:00",
          "2011-03-01T00:00:00",
          "2011-04-01T00:00:00",
          "2011-05-01T00:00:00",
          "2011-06-01T00:00:00",
          "2011-07-01T00:00:00",
          "2011-08-01T00:00:00",
          "2011-09-01T00:00:00",
          "2011-10-01T00:00:00",
          "2011-11-01T00:00:00",
          "2011-12-01T00:00:00",
          "2012-01-01T00:00:00",
          "2012-02-01T00:00:00",
          "2012-03-01T00:00:00",
          "2012-04-01T00:00:00",
          "2012-05-01T00:00:00",
          "2012-06-01T00:00:00",
          "2012-07-01T00:00:00",
          "2012-08-01T00:00:00",
          "2012-09-01T00:00:00",
          "2012-10-01T00:00:00",
          "2012-11-01T00:00:00",
          "2012-12-01T00:00:00",
          "2013-01-01T00:00:00",
          "2013-02-01T00:00:00",
          "2013-03-01T00:00:00",
          "2013-04-01T00:00:00",
          "2013-05-01T00:00:00",
          "2013-06-01T00:00:00",
          "2013-07-01T00:00:00",
          "2013-08-01T00:00:00",
          "2013-09-01T00:00:00",
          "2013-10-01T00:00:00",
          "2013-11-01T00:00:00",
          "2013-12-01T00:00:00",
          "2014-01-01T00:00:00",
          "2014-02-01T00:00:00",
          "2014-03-01T00:00:00",
          "2014-04-01T00:00:00",
          "2014-05-01T00:00:00",
          "2014-06-01T00:00:00",
          "2014-07-01T00:00:00",
          "2014-08-01T00:00:00",
          "2014-09-01T00:00:00",
          "2014-10-01T00:00:00",
          "2014-11-01T00:00:00",
          "2014-12-01T00:00:00",
          "2015-01-01T00:00:00",
          "2015-02-01T00:00:00",
          "2015-03-01T00:00:00",
          "2015-04-01T00:00:00",
          "2015-05-01T00:00:00",
          "2015-06-01T00:00:00",
          "2015-07-01T00:00:00",
          "2015-08-01T00:00:00",
          "2015-09-01T00:00:00",
          "2015-10-01T00:00:00",
          "2015-11-01T00:00:00",
          "2015-12-01T00:00:00",
          "2016-01-01T00:00:00",
          "2016-02-01T00:00:00",
          "2016-03-01T00:00:00",
          "2016-04-01T00:00:00",
          "2016-05-01T00:00:00",
          "2016-06-01T00:00:00",
          "2016-07-01T00:00:00",
          "2016-08-01T00:00:00",
          "2016-09-01T00:00:00",
          "2016-10-01T00:00:00",
          "2016-11-01T00:00:00",
          "2016-12-01T00:00:00",
          "2017-01-01T00:00:00",
          "2017-02-01T00:00:00",
          "2017-03-01T00:00:00",
          "2017-04-01T00:00:00",
          "2017-05-01T00:00:00",
          "2017-06-01T00:00:00",
          "2017-07-01T00:00:00",
          "2017-08-01T00:00:00",
          "2017-09-01T00:00:00",
          "2017-10-01T00:00:00",
          "2017-11-01T00:00:00",
          "2017-12-01T00:00:00",
          "2018-01-01T00:00:00",
          "2018-02-01T00:00:00",
          "2018-03-01T00:00:00",
          "2018-04-01T00:00:00",
          "2018-05-01T00:00:00",
          "2018-06-01T00:00:00",
          "2018-07-01T00:00:00",
          "2018-08-01T00:00:00",
          "2018-09-01T00:00:00",
          "2018-10-01T00:00:00",
          "2018-11-01T00:00:00",
          "2018-12-01T00:00:00",
          "2019-01-01T00:00:00",
          "2019-02-01T00:00:00",
          "2019-03-01T00:00:00",
          "2019-04-01T00:00:00",
          "2019-05-01T00:00:00",
          "2019-06-01T00:00:00",
          "2019-07-01T00:00:00",
          "2019-08-01T00:00:00",
          "2019-09-01T00:00:00",
          "2019-10-01T00:00:00",
          "2019-11-01T00:00:00",
          "2019-12-01T00:00:00"
         ],
         "xaxis": "x",
         "y": [
          1800,
          12700,
          12600,
          10400,
          26348,
          29100,
          87576,
          31750,
          168000,
          33772,
          11200,
          9100,
          171945,
          5600,
          16440,
          9600,
          794000,
          86720,
          95040,
          40210,
          33400,
          263130,
          312740,
          424543,
          3569395,
          495631,
          65404,
          74020,
          791119,
          263570,
          201990,
          258305,
          312110,
          320252,
          7647811,
          502705,
          408269,
          255003,
          223076,
          310892,
          872732,
          430256,
          288761,
          3501562,
          262791,
          714567,
          655966,
          626997,
          650476,
          327516,
          650420,
          378229,
          1606490,
          647394,
          1746022,
          382409,
          477195,
          2924821,
          1589717,
          1534459,
          781453,
          469214,
          602163,
          432570,
          1328417,
          1039165,
          678849,
          544257,
          4723299,
          6543574,
          6758595,
          4918609,
          2007008,
          1064858,
          5763354,
          3371744,
          8937716,
          12011973,
          1581739,
          1669557,
          2844781,
          6555108,
          5386886,
          10105057,
          1415705,
          591590,
          1404040,
          5218763,
          4075769,
          3745632,
          5805526,
          1196657,
          1186738,
          3933570,
          3679245,
          4961184,
          2403608,
          694064,
          548631,
          241645,
          483262,
          500438,
          361105,
          172552,
          162521,
          395166,
          295519,
          367395,
          418710,
          477082,
          4754305,
          459878,
          973688,
          3217693,
          1352672,
          1121845,
          1666706,
          1039422,
          1150202,
          873378,
          784757,
          160847,
          110365,
          0,
          166235,
          92830,
          106478,
          47909,
          221302,
          1250462,
          6963281,
          1810794,
          3822295,
          4040080,
          490180,
          143967,
          182350,
          352586,
          233105,
          2424894,
          109742,
          306513,
          1156887,
          697460,
          941375,
          403761
         ],
         "yaxis": "y"
        },
        {
         "hovertemplate": "grande_area=CIÊNCIAS DA SAÚDE<br>data=%{x}<br>recebido=%{y}<extra></extra>",
         "legendgroup": "CIÊNCIAS DA SAÚDE",
         "line": {
          "color": "#FFA15A",
          "dash": "solid"
         },
         "marker": {
          "symbol": "circle"
         },
         "mode": "lines",
         "name": "CIÊNCIAS DA SAÚDE",
         "showlegend": true,
         "type": "scattergl",
         "x": [
          "2006-03-01T00:00:00",
          "2006-07-01T00:00:00",
          "2006-08-01T00:00:00",
          "2006-09-01T00:00:00",
          "2006-10-01T00:00:00",
          "2006-12-01T00:00:00",
          "2007-03-01T00:00:00",
          "2007-04-01T00:00:00",
          "2007-08-01T00:00:00",
          "2007-09-01T00:00:00",
          "2008-03-01T00:00:00",
          "2008-09-01T00:00:00",
          "2009-02-01T00:00:00",
          "2009-03-01T00:00:00",
          "2009-04-01T00:00:00",
          "2009-05-01T00:00:00",
          "2009-06-01T00:00:00",
          "2009-07-01T00:00:00",
          "2009-08-01T00:00:00",
          "2009-09-01T00:00:00",
          "2009-10-01T00:00:00",
          "2009-11-01T00:00:00",
          "2009-12-01T00:00:00",
          "2010-01-01T00:00:00",
          "2010-02-01T00:00:00",
          "2010-03-01T00:00:00",
          "2010-04-01T00:00:00",
          "2010-05-01T00:00:00",
          "2010-06-01T00:00:00",
          "2010-07-01T00:00:00",
          "2010-08-01T00:00:00",
          "2010-09-01T00:00:00",
          "2010-10-01T00:00:00",
          "2010-11-01T00:00:00",
          "2010-12-01T00:00:00",
          "2011-01-01T00:00:00",
          "2011-02-01T00:00:00",
          "2011-03-01T00:00:00",
          "2011-04-01T00:00:00",
          "2011-05-01T00:00:00",
          "2011-06-01T00:00:00",
          "2011-07-01T00:00:00",
          "2011-08-01T00:00:00",
          "2011-09-01T00:00:00",
          "2011-10-01T00:00:00",
          "2011-11-01T00:00:00",
          "2011-12-01T00:00:00",
          "2012-01-01T00:00:00",
          "2012-02-01T00:00:00",
          "2012-03-01T00:00:00",
          "2012-04-01T00:00:00",
          "2012-05-01T00:00:00",
          "2012-06-01T00:00:00",
          "2012-07-01T00:00:00",
          "2012-08-01T00:00:00",
          "2012-09-01T00:00:00",
          "2012-10-01T00:00:00",
          "2012-11-01T00:00:00",
          "2012-12-01T00:00:00",
          "2013-01-01T00:00:00",
          "2013-02-01T00:00:00",
          "2013-03-01T00:00:00",
          "2013-04-01T00:00:00",
          "2013-05-01T00:00:00",
          "2013-06-01T00:00:00",
          "2013-07-01T00:00:00",
          "2013-08-01T00:00:00",
          "2013-09-01T00:00:00",
          "2013-10-01T00:00:00",
          "2013-11-01T00:00:00",
          "2013-12-01T00:00:00",
          "2014-01-01T00:00:00",
          "2014-02-01T00:00:00",
          "2014-03-01T00:00:00",
          "2014-04-01T00:00:00",
          "2014-05-01T00:00:00",
          "2014-06-01T00:00:00",
          "2014-07-01T00:00:00",
          "2014-08-01T00:00:00",
          "2014-09-01T00:00:00",
          "2014-10-01T00:00:00",
          "2014-11-01T00:00:00",
          "2014-12-01T00:00:00",
          "2015-01-01T00:00:00",
          "2015-02-01T00:00:00",
          "2015-03-01T00:00:00",
          "2015-04-01T00:00:00",
          "2015-05-01T00:00:00",
          "2015-06-01T00:00:00",
          "2015-07-01T00:00:00",
          "2015-08-01T00:00:00",
          "2015-09-01T00:00:00",
          "2015-10-01T00:00:00",
          "2015-11-01T00:00:00",
          "2015-12-01T00:00:00",
          "2016-01-01T00:00:00",
          "2016-02-01T00:00:00",
          "2016-03-01T00:00:00",
          "2016-04-01T00:00:00",
          "2016-05-01T00:00:00",
          "2016-06-01T00:00:00",
          "2016-07-01T00:00:00",
          "2016-08-01T00:00:00",
          "2016-09-01T00:00:00",
          "2016-10-01T00:00:00",
          "2016-11-01T00:00:00",
          "2016-12-01T00:00:00",
          "2017-01-01T00:00:00",
          "2017-02-01T00:00:00",
          "2017-03-01T00:00:00",
          "2017-04-01T00:00:00",
          "2017-05-01T00:00:00",
          "2017-06-01T00:00:00",
          "2017-07-01T00:00:00",
          "2017-08-01T00:00:00",
          "2017-09-01T00:00:00",
          "2017-10-01T00:00:00",
          "2017-11-01T00:00:00",
          "2017-12-01T00:00:00",
          "2018-01-01T00:00:00",
          "2018-03-01T00:00:00",
          "2018-04-01T00:00:00",
          "2018-05-01T00:00:00",
          "2018-06-01T00:00:00",
          "2018-07-01T00:00:00",
          "2018-08-01T00:00:00",
          "2018-09-01T00:00:00",
          "2018-10-01T00:00:00",
          "2018-11-01T00:00:00",
          "2018-12-01T00:00:00",
          "2019-01-01T00:00:00",
          "2019-02-01T00:00:00",
          "2019-03-01T00:00:00",
          "2019-04-01T00:00:00",
          "2019-05-01T00:00:00",
          "2019-06-01T00:00:00",
          "2019-07-01T00:00:00",
          "2019-08-01T00:00:00",
          "2019-09-01T00:00:00",
          "2019-10-01T00:00:00",
          "2019-11-01T00:00:00",
          "2019-12-01T00:00:00"
         ],
         "xaxis": "x",
         "y": [
          5400,
          21329,
          33257,
          27344,
          12854,
          18700,
          70200,
          20700,
          13200,
          13650,
          358200,
          11200,
          14100,
          367380,
          27083,
          13600,
          30850,
          62320,
          142840,
          210744,
          123520,
          138140,
          313622,
          366308,
          78903,
          524540,
          242686,
          198021,
          90745,
          82201,
          259352,
          599321,
          240635,
          234740,
          151270,
          330149,
          92691,
          700110,
          375674,
          211779,
          72624,
          262838,
          528349,
          1028254,
          274298,
          356922,
          177816,
          475832,
          477198,
          1251865,
          479143,
          232432,
          369098,
          1104895,
          1789589,
          2325443,
          932993,
          269339,
          401375,
          1028060,
          805443,
          3978985,
          756719,
          597723,
          718915,
          3835361,
          14854636,
          11282165,
          6072532,
          1220159,
          1270007,
          5507280,
          2362055,
          5928236,
          8109561,
          1347936,
          4780647,
          5375602,
          11854686,
          12760983,
          7045700,
          3840185,
          765807,
          2914833,
          3938164,
          1658436,
          3216301,
          606227,
          1147543,
          2136729,
          9766656,
          6757397,
          7254164,
          159892,
          404445,
          648970,
          226258,
          284011,
          363494,
          99371,
          111996,
          223742,
          248796,
          238825,
          344265,
          191608,
          371382,
          26384,
          211458,
          1617416,
          3520599,
          1172398,
          5639866,
          1818215,
          1520504,
          1456547,
          847435,
          1263644,
          276472,
          322833,
          169590,
          62104,
          147655,
          77900,
          6600,
          2146894,
          1353237,
          1402441,
          1645349,
          511844,
          362911,
          142016,
          390268,
          128183,
          16124,
          65840,
          98808,
          423596,
          1177766,
          1261873,
          713083,
          433275
         ],
         "yaxis": "y"
        },
        {
         "hovertemplate": "grande_area=CIÊNCIAS HUMANAS<br>data=%{x}<br>recebido=%{y}<extra></extra>",
         "legendgroup": "CIÊNCIAS HUMANAS",
         "line": {
          "color": "#19d3f3",
          "dash": "solid"
         },
         "marker": {
          "symbol": "circle"
         },
         "mode": "lines",
         "name": "CIÊNCIAS HUMANAS",
         "showlegend": true,
         "type": "scattergl",
         "x": [
          "2006-03-01T00:00:00",
          "2006-04-01T00:00:00",
          "2006-09-01T00:00:00",
          "2006-10-01T00:00:00",
          "2006-11-01T00:00:00",
          "2006-12-01T00:00:00",
          "2007-03-01T00:00:00",
          "2007-04-01T00:00:00",
          "2007-08-01T00:00:00",
          "2007-09-01T00:00:00",
          "2007-10-01T00:00:00",
          "2007-12-01T00:00:00",
          "2008-03-01T00:00:00",
          "2008-08-01T00:00:00",
          "2008-10-01T00:00:00",
          "2008-12-01T00:00:00",
          "2009-01-01T00:00:00",
          "2009-02-01T00:00:00",
          "2009-03-01T00:00:00",
          "2009-04-01T00:00:00",
          "2009-05-01T00:00:00",
          "2009-06-01T00:00:00",
          "2009-07-01T00:00:00",
          "2009-08-01T00:00:00",
          "2009-09-01T00:00:00",
          "2009-10-01T00:00:00",
          "2009-11-01T00:00:00",
          "2009-12-01T00:00:00",
          "2010-01-01T00:00:00",
          "2010-02-01T00:00:00",
          "2010-03-01T00:00:00",
          "2010-04-01T00:00:00",
          "2010-05-01T00:00:00",
          "2010-06-01T00:00:00",
          "2010-07-01T00:00:00",
          "2010-08-01T00:00:00",
          "2010-09-01T00:00:00",
          "2010-10-01T00:00:00",
          "2010-11-01T00:00:00",
          "2010-12-01T00:00:00",
          "2011-01-01T00:00:00",
          "2011-02-01T00:00:00",
          "2011-03-01T00:00:00",
          "2011-04-01T00:00:00",
          "2011-05-01T00:00:00",
          "2011-06-01T00:00:00",
          "2011-07-01T00:00:00",
          "2011-08-01T00:00:00",
          "2011-09-01T00:00:00",
          "2011-10-01T00:00:00",
          "2011-11-01T00:00:00",
          "2011-12-01T00:00:00",
          "2012-01-01T00:00:00",
          "2012-02-01T00:00:00",
          "2012-03-01T00:00:00",
          "2012-04-01T00:00:00",
          "2012-05-01T00:00:00",
          "2012-06-01T00:00:00",
          "2012-07-01T00:00:00",
          "2012-08-01T00:00:00",
          "2012-09-01T00:00:00",
          "2012-10-01T00:00:00",
          "2012-11-01T00:00:00",
          "2012-12-01T00:00:00",
          "2013-01-01T00:00:00",
          "2013-02-01T00:00:00",
          "2013-03-01T00:00:00",
          "2013-04-01T00:00:00",
          "2013-05-01T00:00:00",
          "2013-06-01T00:00:00",
          "2013-07-01T00:00:00",
          "2013-08-01T00:00:00",
          "2013-09-01T00:00:00",
          "2013-10-01T00:00:00",
          "2013-11-01T00:00:00",
          "2013-12-01T00:00:00",
          "2014-01-01T00:00:00",
          "2014-02-01T00:00:00",
          "2014-03-01T00:00:00",
          "2014-04-01T00:00:00",
          "2014-05-01T00:00:00",
          "2014-06-01T00:00:00",
          "2014-07-01T00:00:00",
          "2014-08-01T00:00:00",
          "2014-09-01T00:00:00",
          "2014-10-01T00:00:00",
          "2014-11-01T00:00:00",
          "2014-12-01T00:00:00",
          "2015-01-01T00:00:00",
          "2015-02-01T00:00:00",
          "2015-03-01T00:00:00",
          "2015-04-01T00:00:00",
          "2015-05-01T00:00:00",
          "2015-06-01T00:00:00",
          "2015-07-01T00:00:00",
          "2015-08-01T00:00:00",
          "2015-09-01T00:00:00",
          "2015-10-01T00:00:00",
          "2015-11-01T00:00:00",
          "2015-12-01T00:00:00",
          "2016-01-01T00:00:00",
          "2016-02-01T00:00:00",
          "2016-03-01T00:00:00",
          "2016-04-01T00:00:00",
          "2016-05-01T00:00:00",
          "2016-06-01T00:00:00",
          "2016-07-01T00:00:00",
          "2016-08-01T00:00:00",
          "2016-09-01T00:00:00",
          "2016-10-01T00:00:00",
          "2016-11-01T00:00:00",
          "2016-12-01T00:00:00",
          "2017-01-01T00:00:00",
          "2017-02-01T00:00:00",
          "2017-03-01T00:00:00",
          "2017-04-01T00:00:00",
          "2017-05-01T00:00:00",
          "2017-06-01T00:00:00",
          "2017-07-01T00:00:00",
          "2017-08-01T00:00:00",
          "2017-09-01T00:00:00",
          "2017-10-01T00:00:00",
          "2017-11-01T00:00:00",
          "2017-12-01T00:00:00",
          "2018-01-01T00:00:00",
          "2018-02-01T00:00:00",
          "2018-03-01T00:00:00",
          "2018-04-01T00:00:00",
          "2018-05-01T00:00:00",
          "2018-06-01T00:00:00",
          "2018-07-01T00:00:00",
          "2018-08-01T00:00:00",
          "2018-09-01T00:00:00",
          "2018-10-01T00:00:00",
          "2018-11-01T00:00:00",
          "2018-12-01T00:00:00",
          "2019-01-01T00:00:00",
          "2019-02-01T00:00:00",
          "2019-03-01T00:00:00",
          "2019-04-01T00:00:00",
          "2019-05-01T00:00:00",
          "2019-06-01T00:00:00",
          "2019-07-01T00:00:00",
          "2019-08-01T00:00:00",
          "2019-09-01T00:00:00",
          "2019-10-01T00:00:00",
          "2019-11-01T00:00:00",
          "2019-12-01T00:00:00"
         ],
         "xaxis": "x",
         "y": [
          10800,
          9700,
          60500,
          11700,
          16800,
          15700,
          142200,
          92886,
          66900,
          74275,
          56740,
          31700,
          207000,
          214035,
          24980,
          65700,
          12540,
          26680,
          1055040,
          47400,
          53600,
          106340,
          49860,
          346720,
          653909,
          304017,
          518832,
          213700,
          301900,
          219797,
          1442900,
          172892,
          289711,
          118006,
          95140,
          561869,
          3170041,
          1040117,
          256060,
          262765,
          432022,
          490382,
          1535626,
          494269,
          328820,
          272791,
          281868,
          1269493,
          5998893,
          1465860,
          517442,
          330138,
          984614,
          878452,
          2497440,
          420278,
          467854,
          553380,
          762520,
          2408797,
          12262588,
          2121642,
          666460,
          653478,
          1713287,
          2201414,
          3688770,
          1895646,
          893848,
          582290,
          4005388,
          9297061,
          19476431,
          6503416,
          1519174,
          1123417,
          2834556,
          5189583,
          6501303,
          10481927,
          1195697,
          1320498,
          1684658,
          6997098,
          14736364,
          5452647,
          2675622,
          754880,
          2470346,
          3117546,
          3477584,
          1495838,
          617768,
          693395,
          2357532,
          6577621,
          11170199,
          2463825,
          950930,
          471624,
          1050295,
          425021,
          135838,
          143589,
          197811,
          104025,
          346632,
          1023967,
          558077,
          210683,
          343592,
          190468,
          211904,
          67430,
          3071917,
          3860960,
          763372,
          354956,
          2603203,
          1530850,
          1779301,
          1056056,
          254630,
          313564,
          278951,
          195977,
          835302,
          221447,
          57864,
          62463,
          260893,
          1914078,
          2795185,
          1263690,
          2405462,
          257237,
          385657,
          231885,
          683817,
          295856,
          61700,
          78320,
          57010,
          552819,
          1597595,
          603262,
          748021,
          334751
         ],
         "yaxis": "y"
        },
        {
         "hovertemplate": "grande_area=LINGÜÍSTICA, LETRAS E ARTES<br>data=%{x}<br>recebido=%{y}<extra></extra>",
         "legendgroup": "LINGÜÍSTICA, LETRAS E ARTES",
         "line": {
          "color": "#FF6692",
          "dash": "solid"
         },
         "marker": {
          "symbol": "circle"
         },
         "mode": "lines",
         "name": "LINGÜÍSTICA, LETRAS E ARTES",
         "showlegend": true,
         "type": "scattergl",
         "x": [
          "2006-03-01T00:00:00",
          "2006-04-01T00:00:00",
          "2006-08-01T00:00:00",
          "2006-09-01T00:00:00",
          "2006-10-01T00:00:00",
          "2006-11-01T00:00:00",
          "2007-04-01T00:00:00",
          "2007-09-01T00:00:00",
          "2007-10-01T00:00:00",
          "2008-03-01T00:00:00",
          "2008-08-01T00:00:00",
          "2008-09-01T00:00:00",
          "2009-02-01T00:00:00",
          "2009-03-01T00:00:00",
          "2009-04-01T00:00:00",
          "2009-06-01T00:00:00",
          "2009-07-01T00:00:00",
          "2009-08-01T00:00:00",
          "2009-09-01T00:00:00",
          "2009-10-01T00:00:00",
          "2009-11-01T00:00:00",
          "2009-12-01T00:00:00",
          "2010-01-01T00:00:00",
          "2010-02-01T00:00:00",
          "2010-03-01T00:00:00",
          "2010-04-01T00:00:00",
          "2010-05-01T00:00:00",
          "2010-06-01T00:00:00",
          "2010-07-01T00:00:00",
          "2010-08-01T00:00:00",
          "2010-09-01T00:00:00",
          "2010-10-01T00:00:00",
          "2010-11-01T00:00:00",
          "2010-12-01T00:00:00",
          "2011-01-01T00:00:00",
          "2011-02-01T00:00:00",
          "2011-03-01T00:00:00",
          "2011-04-01T00:00:00",
          "2011-05-01T00:00:00",
          "2011-06-01T00:00:00",
          "2011-07-01T00:00:00",
          "2011-08-01T00:00:00",
          "2011-09-01T00:00:00",
          "2011-10-01T00:00:00",
          "2011-11-01T00:00:00",
          "2011-12-01T00:00:00",
          "2012-01-01T00:00:00",
          "2012-02-01T00:00:00",
          "2012-03-01T00:00:00",
          "2012-04-01T00:00:00",
          "2012-05-01T00:00:00",
          "2012-06-01T00:00:00",
          "2012-07-01T00:00:00",
          "2012-08-01T00:00:00",
          "2012-09-01T00:00:00",
          "2012-10-01T00:00:00",
          "2012-11-01T00:00:00",
          "2012-12-01T00:00:00",
          "2013-01-01T00:00:00",
          "2013-02-01T00:00:00",
          "2013-03-01T00:00:00",
          "2013-04-01T00:00:00",
          "2013-05-01T00:00:00",
          "2013-06-01T00:00:00",
          "2013-07-01T00:00:00",
          "2013-08-01T00:00:00",
          "2013-09-01T00:00:00",
          "2013-10-01T00:00:00",
          "2013-11-01T00:00:00",
          "2013-12-01T00:00:00",
          "2014-01-01T00:00:00",
          "2014-02-01T00:00:00",
          "2014-03-01T00:00:00",
          "2014-04-01T00:00:00",
          "2014-05-01T00:00:00",
          "2014-06-01T00:00:00",
          "2014-07-01T00:00:00",
          "2014-08-01T00:00:00",
          "2014-09-01T00:00:00",
          "2014-10-01T00:00:00",
          "2014-11-01T00:00:00",
          "2014-12-01T00:00:00",
          "2015-01-01T00:00:00",
          "2015-02-01T00:00:00",
          "2015-03-01T00:00:00",
          "2015-04-01T00:00:00",
          "2015-05-01T00:00:00",
          "2015-06-01T00:00:00",
          "2015-07-01T00:00:00",
          "2015-08-01T00:00:00",
          "2015-09-01T00:00:00",
          "2015-10-01T00:00:00",
          "2015-11-01T00:00:00",
          "2015-12-01T00:00:00",
          "2016-01-01T00:00:00",
          "2016-03-01T00:00:00",
          "2016-04-01T00:00:00",
          "2016-05-01T00:00:00",
          "2016-06-01T00:00:00",
          "2016-07-01T00:00:00",
          "2016-08-01T00:00:00",
          "2016-09-01T00:00:00",
          "2016-10-01T00:00:00",
          "2016-11-01T00:00:00",
          "2016-12-01T00:00:00",
          "2017-01-01T00:00:00",
          "2017-02-01T00:00:00",
          "2017-03-01T00:00:00",
          "2017-04-01T00:00:00",
          "2017-05-01T00:00:00",
          "2017-06-01T00:00:00",
          "2017-07-01T00:00:00",
          "2017-08-01T00:00:00",
          "2017-09-01T00:00:00",
          "2017-10-01T00:00:00",
          "2017-11-01T00:00:00",
          "2017-12-01T00:00:00",
          "2018-01-01T00:00:00",
          "2018-02-01T00:00:00",
          "2018-03-01T00:00:00",
          "2018-04-01T00:00:00",
          "2018-05-01T00:00:00",
          "2018-06-01T00:00:00",
          "2018-07-01T00:00:00",
          "2018-08-01T00:00:00",
          "2018-09-01T00:00:00",
          "2018-10-01T00:00:00",
          "2018-11-01T00:00:00",
          "2018-12-01T00:00:00",
          "2019-01-01T00:00:00",
          "2019-02-01T00:00:00",
          "2019-03-01T00:00:00",
          "2019-04-01T00:00:00",
          "2019-05-01T00:00:00",
          "2019-07-01T00:00:00",
          "2019-08-01T00:00:00",
          "2019-09-01T00:00:00",
          "2019-10-01T00:00:00",
          "2019-11-01T00:00:00",
          "2019-12-01T00:00:00"
         ],
         "xaxis": "x",
         "y": [
          3600,
          9000,
          7900,
          12000,
          8190,
          17700,
          54000,
          18880,
          33840,
          92400,
          24315,
          12040,
          8000,
          74380,
          11700,
          21200,
          19800,
          195520,
          313934,
          338780,
          57800,
          90480,
          63080,
          137910,
          265870,
          99337,
          84355,
          78140,
          59350,
          367534,
          830957,
          670741,
          101748,
          17990,
          114228,
          213714,
          267390,
          243582,
          156172,
          139062,
          108170,
          347245,
          10897858,
          234116,
          133804,
          11942,
          344527,
          262319,
          316134,
          166080,
          329416,
          187162,
          745442,
          994461,
          2772409,
          1765598,
          547043,
          207395,
          751867,
          772851,
          784047,
          419667,
          507864,
          231544,
          1116937,
          2370580,
          3676853,
          1884196,
          419553,
          432523,
          605482,
          1037589,
          1217293,
          530982,
          720267,
          491832,
          1106643,
          3478651,
          5477931,
          1400350,
          521819,
          317460,
          828572,
          1460180,
          1177093,
          580037,
          220154,
          344186,
          1447105,
          2382323,
          3609041,
          1098495,
          394537,
          123183,
          389552,
          42617,
          23624,
          33490,
          42004,
          49575,
          85093,
          394110,
          82954,
          12405,
          70007,
          184718,
          228468,
          941452,
          1232871,
          241220,
          201978,
          1175317,
          910663,
          707107,
          1511782,
          33750,
          33373,
          351716,
          162132,
          97005,
          61350,
          30725,
          217519,
          37125,
          1246689,
          1040882,
          683221,
          682289,
          26270,
          46484,
          200070,
          140020,
          68200,
          11200,
          96120,
          362795,
          897975,
          264016,
          347517,
          187974
         ],
         "yaxis": "y"
        },
        {
         "hovertemplate": "grande_area=CIÊNCIAS EXATAS E DA TERRA<br>data=%{x}<br>recebido=%{y}<extra></extra>",
         "legendgroup": "CIÊNCIAS EXATAS E DA TERRA",
         "line": {
          "color": "#B6E880",
          "dash": "solid"
         },
         "marker": {
          "symbol": "circle"
         },
         "mode": "lines",
         "name": "CIÊNCIAS EXATAS E DA TERRA",
         "showlegend": true,
         "type": "scattergl",
         "x": [
          "2006-04-01T00:00:00",
          "2006-08-01T00:00:00",
          "2006-09-01T00:00:00",
          "2006-10-01T00:00:00",
          "2006-11-01T00:00:00",
          "2007-03-01T00:00:00",
          "2007-04-01T00:00:00",
          "2007-09-01T00:00:00",
          "2007-12-01T00:00:00",
          "2008-03-01T00:00:00",
          "2008-04-01T00:00:00",
          "2008-08-01T00:00:00",
          "2008-09-01T00:00:00",
          "2008-10-01T00:00:00",
          "2008-11-01T00:00:00",
          "2008-12-01T00:00:00",
          "2009-02-01T00:00:00",
          "2009-03-01T00:00:00",
          "2009-04-01T00:00:00",
          "2009-05-01T00:00:00",
          "2009-06-01T00:00:00",
          "2009-07-01T00:00:00",
          "2009-08-01T00:00:00",
          "2009-09-01T00:00:00",
          "2009-10-01T00:00:00",
          "2009-11-01T00:00:00",
          "2009-12-01T00:00:00",
          "2010-01-01T00:00:00",
          "2010-02-01T00:00:00",
          "2010-03-01T00:00:00",
          "2010-04-01T00:00:00",
          "2010-05-01T00:00:00",
          "2010-06-01T00:00:00",
          "2010-07-01T00:00:00",
          "2010-08-01T00:00:00",
          "2010-09-01T00:00:00",
          "2010-10-01T00:00:00",
          "2010-11-01T00:00:00",
          "2010-12-01T00:00:00",
          "2011-01-01T00:00:00",
          "2011-02-01T00:00:00",
          "2011-03-01T00:00:00",
          "2011-04-01T00:00:00",
          "2011-05-01T00:00:00",
          "2011-06-01T00:00:00",
          "2011-07-01T00:00:00",
          "2011-08-01T00:00:00",
          "2011-09-01T00:00:00",
          "2011-10-01T00:00:00",
          "2011-11-01T00:00:00",
          "2011-12-01T00:00:00",
          "2012-01-01T00:00:00",
          "2012-02-01T00:00:00",
          "2012-03-01T00:00:00",
          "2012-04-01T00:00:00",
          "2012-05-01T00:00:00",
          "2012-06-01T00:00:00",
          "2012-07-01T00:00:00",
          "2012-08-01T00:00:00",
          "2012-09-01T00:00:00",
          "2012-10-01T00:00:00",
          "2012-11-01T00:00:00",
          "2012-12-01T00:00:00",
          "2013-01-01T00:00:00",
          "2013-02-01T00:00:00",
          "2013-03-01T00:00:00",
          "2013-04-01T00:00:00",
          "2013-05-01T00:00:00",
          "2013-06-01T00:00:00",
          "2013-07-01T00:00:00",
          "2013-08-01T00:00:00",
          "2013-09-01T00:00:00",
          "2013-10-01T00:00:00",
          "2013-11-01T00:00:00",
          "2013-12-01T00:00:00",
          "2014-01-01T00:00:00",
          "2014-02-01T00:00:00",
          "2014-03-01T00:00:00",
          "2014-04-01T00:00:00",
          "2014-05-01T00:00:00",
          "2014-06-01T00:00:00",
          "2014-07-01T00:00:00",
          "2014-08-01T00:00:00",
          "2014-09-01T00:00:00",
          "2014-10-01T00:00:00",
          "2014-11-01T00:00:00",
          "2014-12-01T00:00:00",
          "2015-01-01T00:00:00",
          "2015-02-01T00:00:00",
          "2015-03-01T00:00:00",
          "2015-04-01T00:00:00",
          "2015-05-01T00:00:00",
          "2015-06-01T00:00:00",
          "2015-07-01T00:00:00",
          "2015-08-01T00:00:00",
          "2015-09-01T00:00:00",
          "2015-10-01T00:00:00",
          "2015-11-01T00:00:00",
          "2015-12-01T00:00:00",
          "2016-01-01T00:00:00",
          "2016-02-01T00:00:00",
          "2016-03-01T00:00:00",
          "2016-04-01T00:00:00",
          "2016-05-01T00:00:00",
          "2016-06-01T00:00:00",
          "2016-07-01T00:00:00",
          "2016-08-01T00:00:00",
          "2016-09-01T00:00:00",
          "2016-10-01T00:00:00",
          "2016-11-01T00:00:00",
          "2016-12-01T00:00:00",
          "2017-01-01T00:00:00",
          "2017-02-01T00:00:00",
          "2017-03-01T00:00:00",
          "2017-04-01T00:00:00",
          "2017-05-01T00:00:00",
          "2017-06-01T00:00:00",
          "2017-07-01T00:00:00",
          "2017-08-01T00:00:00",
          "2017-09-01T00:00:00",
          "2017-10-01T00:00:00",
          "2017-11-01T00:00:00",
          "2017-12-01T00:00:00",
          "2018-01-01T00:00:00",
          "2018-02-01T00:00:00",
          "2018-03-01T00:00:00",
          "2018-04-01T00:00:00",
          "2018-05-01T00:00:00",
          "2018-06-01T00:00:00",
          "2018-07-01T00:00:00",
          "2018-08-01T00:00:00",
          "2018-09-01T00:00:00",
          "2018-10-01T00:00:00",
          "2018-11-01T00:00:00",
          "2018-12-01T00:00:00",
          "2019-01-01T00:00:00",
          "2019-02-01T00:00:00",
          "2019-03-01T00:00:00",
          "2019-04-01T00:00:00",
          "2019-05-01T00:00:00",
          "2019-06-01T00:00:00",
          "2019-07-01T00:00:00",
          "2019-08-01T00:00:00",
          "2019-09-01T00:00:00",
          "2019-10-01T00:00:00",
          "2019-11-01T00:00:00",
          "2019-12-01T00:00:00"
         ],
         "xaxis": "x",
         "y": [
          13300,
          17617,
          25242,
          71111,
          13000,
          115200,
          23942,
          27370,
          94150,
          202880,
          80636,
          42300,
          2600,
          4300,
          11240,
          6500,
          33120,
          592820,
          62710,
          35030,
          34220,
          44920,
          166430,
          325360,
          449936,
          339132,
          179480,
          273330,
          86950,
          576930,
          273748,
          139351,
          90488,
          156759,
          539635,
          1114247,
          516794,
          192180,
          409957,
          148601,
          373652,
          573905,
          1636219,
          217693,
          144190,
          314458,
          1532093,
          1620097,
          644800,
          372564,
          259865,
          1016794,
          387270,
          1331737,
          409324,
          443586,
          579911,
          1045172,
          3162048,
          3227162,
          1223959,
          1307589,
          1415837,
          1334754,
          1678611,
          1869355,
          376929,
          894847,
          1357935,
          4075892,
          11678584,
          16185671,
          22408858,
          3684304,
          6010803,
          6051830,
          4205858,
          10159208,
          63116757,
          3232114,
          10178047,
          3962681,
          19951158,
          81221472,
          30546185,
          2800775,
          773161,
          1312243,
          4217269,
          2623664,
          28639716,
          1221429,
          3185955,
          3226203,
          13863764,
          86723143,
          54326471,
          379139,
          488529,
          403231,
          440335,
          409747,
          414501,
          185546,
          238904,
          246915,
          586964,
          908228,
          263661,
          325144,
          326496,
          185839,
          666937,
          2027928,
          2740477,
          1429821,
          3465487,
          954131,
          1186285,
          1844685,
          2335326,
          375266,
          352317,
          454178,
          44527,
          220840,
          146599,
          121545,
          85373,
          141260,
          2777790,
          4492346,
          1391090,
          1970556,
          509014,
          339034,
          148375,
          199640,
          212128,
          128130,
          268510,
          116110,
          524643,
          3090747,
          707284,
          2548283,
          481903
         ],
         "yaxis": "y"
        },
        {
         "hovertemplate": "grande_area=MULTIDISCIPLINAR<br>data=%{x}<br>recebido=%{y}<extra></extra>",
         "legendgroup": "MULTIDISCIPLINAR",
         "line": {
          "color": "#FF97FF",
          "dash": "solid"
         },
         "marker": {
          "symbol": "circle"
         },
         "mode": "lines",
         "name": "MULTIDISCIPLINAR",
         "showlegend": true,
         "type": "scattergl",
         "x": [
          "2006-10-01T00:00:00",
          "2007-09-01T00:00:00",
          "2007-12-01T00:00:00",
          "2008-03-01T00:00:00",
          "2008-10-01T00:00:00",
          "2009-02-01T00:00:00",
          "2009-03-01T00:00:00",
          "2009-04-01T00:00:00",
          "2009-05-01T00:00:00",
          "2009-06-01T00:00:00",
          "2009-07-01T00:00:00",
          "2009-08-01T00:00:00",
          "2009-09-01T00:00:00",
          "2009-10-01T00:00:00",
          "2009-11-01T00:00:00",
          "2009-12-01T00:00:00",
          "2010-01-01T00:00:00",
          "2010-02-01T00:00:00",
          "2010-03-01T00:00:00",
          "2010-04-01T00:00:00",
          "2010-05-01T00:00:00",
          "2010-06-01T00:00:00",
          "2010-07-01T00:00:00",
          "2010-08-01T00:00:00",
          "2010-09-01T00:00:00",
          "2010-10-01T00:00:00",
          "2010-11-01T00:00:00",
          "2010-12-01T00:00:00",
          "2011-01-01T00:00:00",
          "2011-02-01T00:00:00",
          "2011-03-01T00:00:00",
          "2011-04-01T00:00:00",
          "2011-05-01T00:00:00",
          "2011-06-01T00:00:00",
          "2011-07-01T00:00:00",
          "2011-08-01T00:00:00",
          "2011-09-01T00:00:00",
          "2011-10-01T00:00:00",
          "2011-11-01T00:00:00",
          "2011-12-01T00:00:00",
          "2012-01-01T00:00:00",
          "2012-02-01T00:00:00",
          "2012-03-01T00:00:00",
          "2012-04-01T00:00:00",
          "2012-05-01T00:00:00",
          "2012-06-01T00:00:00",
          "2012-07-01T00:00:00",
          "2012-08-01T00:00:00",
          "2012-09-01T00:00:00",
          "2012-10-01T00:00:00",
          "2012-11-01T00:00:00",
          "2012-12-01T00:00:00",
          "2013-01-01T00:00:00",
          "2013-02-01T00:00:00",
          "2013-03-01T00:00:00",
          "2013-04-01T00:00:00",
          "2013-05-01T00:00:00",
          "2013-06-01T00:00:00",
          "2013-07-01T00:00:00",
          "2013-08-01T00:00:00",
          "2013-09-01T00:00:00",
          "2013-10-01T00:00:00",
          "2013-11-01T00:00:00",
          "2013-12-01T00:00:00",
          "2014-01-01T00:00:00",
          "2014-02-01T00:00:00",
          "2014-03-01T00:00:00",
          "2014-04-01T00:00:00",
          "2014-05-01T00:00:00",
          "2014-06-01T00:00:00",
          "2014-07-01T00:00:00",
          "2014-08-01T00:00:00",
          "2014-09-01T00:00:00",
          "2014-10-01T00:00:00",
          "2014-11-01T00:00:00",
          "2014-12-01T00:00:00",
          "2015-01-01T00:00:00",
          "2015-02-01T00:00:00",
          "2015-03-01T00:00:00",
          "2015-04-01T00:00:00",
          "2015-05-01T00:00:00",
          "2015-06-01T00:00:00",
          "2015-07-01T00:00:00",
          "2015-08-01T00:00:00",
          "2015-09-01T00:00:00",
          "2015-10-01T00:00:00",
          "2015-11-01T00:00:00",
          "2015-12-01T00:00:00",
          "2016-01-01T00:00:00",
          "2016-02-01T00:00:00",
          "2016-03-01T00:00:00",
          "2016-04-01T00:00:00",
          "2016-05-01T00:00:00",
          "2016-06-01T00:00:00",
          "2016-07-01T00:00:00",
          "2016-08-01T00:00:00",
          "2016-09-01T00:00:00",
          "2016-10-01T00:00:00",
          "2016-11-01T00:00:00",
          "2016-12-01T00:00:00",
          "2017-01-01T00:00:00",
          "2017-02-01T00:00:00",
          "2017-03-01T00:00:00",
          "2017-04-01T00:00:00",
          "2017-05-01T00:00:00",
          "2017-06-01T00:00:00",
          "2017-07-01T00:00:00",
          "2017-08-01T00:00:00",
          "2017-09-01T00:00:00",
          "2017-10-01T00:00:00",
          "2017-11-01T00:00:00",
          "2017-12-01T00:00:00",
          "2018-01-01T00:00:00",
          "2018-02-01T00:00:00",
          "2018-03-01T00:00:00",
          "2018-04-01T00:00:00",
          "2018-05-01T00:00:00",
          "2018-06-01T00:00:00",
          "2018-07-01T00:00:00",
          "2018-08-01T00:00:00",
          "2018-09-01T00:00:00",
          "2018-10-01T00:00:00",
          "2018-11-01T00:00:00",
          "2018-12-01T00:00:00",
          "2019-01-01T00:00:00",
          "2019-02-01T00:00:00",
          "2019-03-01T00:00:00",
          "2019-04-01T00:00:00",
          "2019-05-01T00:00:00",
          "2019-06-01T00:00:00",
          "2019-07-01T00:00:00",
          "2019-08-01T00:00:00",
          "2019-09-01T00:00:00",
          "2019-10-01T00:00:00",
          "2019-11-01T00:00:00",
          "2019-12-01T00:00:00"
         ],
         "xaxis": "x",
         "y": [
          11700,
          35859,
          42120,
          117000,
          11700,
          3800,
          233700,
          4300,
          7300,
          28800,
          61500,
          101570,
          110160,
          126040,
          18710,
          39400,
          31690,
          9280,
          508210,
          139850,
          99830,
          46860,
          54520,
          193115,
          211311,
          180193,
          108189,
          108776,
          121800,
          38730,
          469399,
          250679,
          3412,
          56078,
          111934,
          446992,
          249851,
          205860,
          155328,
          112794,
          375772,
          156550,
          555030,
          428373,
          1989551,
          275317,
          648101,
          920965,
          1124780,
          2752927,
          217803,
          185900,
          414762,
          448098,
          578524,
          522926,
          284742,
          305313,
          1192091,
          3195061,
          5191924,
          3019715,
          544801,
          288567,
          1612373,
          1518179,
          3246152,
          788396,
          753307,
          1373748,
          1652632,
          6561607,
          4904772,
          3171356,
          718438,
          180186,
          650617,
          2449958,
          4642584,
          4070186,
          380746,
          808681,
          4099516,
          3050245,
          7289458,
          3329016,
          608566,
          211259,
          424497,
          124435,
          334824,
          325500,
          189408,
          126534,
          50074,
          215217,
          374725,
          602930,
          161984,
          198000,
          120495,
          72710,
          820901,
          1734273,
          622029,
          796621,
          932257,
          3303090,
          1371095,
          2002019,
          27350,
          161158,
          160308,
          8115,
          96800,
          17845,
          94314,
          38605,
          28278,
          642911,
          1668213,
          439502,
          1511264,
          256704,
          151825,
          62780,
          150620,
          225325,
          9600,
          59866,
          25380,
          306964,
          830268,
          349133,
          386426,
          68631
         ],
         "yaxis": "y"
        }
       ],
       "layout": {
        "legend": {
         "title": {
          "text": "grande_area"
         },
         "tracegroupgap": 0
        },
        "template": {
         "data": {
          "bar": [
           {
            "error_x": {
             "color": "#f2f5fa"
            },
            "error_y": {
             "color": "#f2f5fa"
            },
            "marker": {
             "line": {
              "color": "rgb(17,17,17)",
              "width": 0.5
             },
             "pattern": {
              "fillmode": "overlay",
              "size": 10,
              "solidity": 0.2
             }
            },
            "type": "bar"
           }
          ],
          "barpolar": [
           {
            "marker": {
             "line": {
              "color": "rgb(17,17,17)",
              "width": 0.5
             },
             "pattern": {
              "fillmode": "overlay",
              "size": 10,
              "solidity": 0.2
             }
            },
            "type": "barpolar"
           }
          ],
          "carpet": [
           {
            "aaxis": {
             "endlinecolor": "#A2B1C6",
             "gridcolor": "#506784",
             "linecolor": "#506784",
             "minorgridcolor": "#506784",
             "startlinecolor": "#A2B1C6"
            },
            "baxis": {
             "endlinecolor": "#A2B1C6",
             "gridcolor": "#506784",
             "linecolor": "#506784",
             "minorgridcolor": "#506784",
             "startlinecolor": "#A2B1C6"
            },
            "type": "carpet"
           }
          ],
          "choropleth": [
           {
            "colorbar": {
             "outlinewidth": 0,
             "ticks": ""
            },
            "type": "choropleth"
           }
          ],
          "contour": [
           {
            "colorbar": {
             "outlinewidth": 0,
             "ticks": ""
            },
            "colorscale": [
             [
              0,
              "#0d0887"
             ],
             [
              0.1111111111111111,
              "#46039f"
             ],
             [
              0.2222222222222222,
              "#7201a8"
             ],
             [
              0.3333333333333333,
              "#9c179e"
             ],
             [
              0.4444444444444444,
              "#bd3786"
             ],
             [
              0.5555555555555556,
              "#d8576b"
             ],
             [
              0.6666666666666666,
              "#ed7953"
             ],
             [
              0.7777777777777778,
              "#fb9f3a"
             ],
             [
              0.8888888888888888,
              "#fdca26"
             ],
             [
              1,
              "#f0f921"
             ]
            ],
            "type": "contour"
           }
          ],
          "contourcarpet": [
           {
            "colorbar": {
             "outlinewidth": 0,
             "ticks": ""
            },
            "type": "contourcarpet"
           }
          ],
          "heatmap": [
           {
            "colorbar": {
             "outlinewidth": 0,
             "ticks": ""
            },
            "colorscale": [
             [
              0,
              "#0d0887"
             ],
             [
              0.1111111111111111,
              "#46039f"
             ],
             [
              0.2222222222222222,
              "#7201a8"
             ],
             [
              0.3333333333333333,
              "#9c179e"
             ],
             [
              0.4444444444444444,
              "#bd3786"
             ],
             [
              0.5555555555555556,
              "#d8576b"
             ],
             [
              0.6666666666666666,
              "#ed7953"
             ],
             [
              0.7777777777777778,
              "#fb9f3a"
             ],
             [
              0.8888888888888888,
              "#fdca26"
             ],
             [
              1,
              "#f0f921"
             ]
            ],
            "type": "heatmap"
           }
          ],
          "heatmapgl": [
           {
            "colorbar": {
             "outlinewidth": 0,
             "ticks": ""
            },
            "colorscale": [
             [
              0,
              "#0d0887"
             ],
             [
              0.1111111111111111,
              "#46039f"
             ],
             [
              0.2222222222222222,
              "#7201a8"
             ],
             [
              0.3333333333333333,
              "#9c179e"
             ],
             [
              0.4444444444444444,
              "#bd3786"
             ],
             [
              0.5555555555555556,
              "#d8576b"
             ],
             [
              0.6666666666666666,
              "#ed7953"
             ],
             [
              0.7777777777777778,
              "#fb9f3a"
             ],
             [
              0.8888888888888888,
              "#fdca26"
             ],
             [
              1,
              "#f0f921"
             ]
            ],
            "type": "heatmapgl"
           }
          ],
          "histogram": [
           {
            "marker": {
             "pattern": {
              "fillmode": "overlay",
              "size": 10,
              "solidity": 0.2
             }
            },
            "type": "histogram"
           }
          ],
          "histogram2d": [
           {
            "colorbar": {
             "outlinewidth": 0,
             "ticks": ""
            },
            "colorscale": [
             [
              0,
              "#0d0887"
             ],
             [
              0.1111111111111111,
              "#46039f"
             ],
             [
              0.2222222222222222,
              "#7201a8"
             ],
             [
              0.3333333333333333,
              "#9c179e"
             ],
             [
              0.4444444444444444,
              "#bd3786"
             ],
             [
              0.5555555555555556,
              "#d8576b"
             ],
             [
              0.6666666666666666,
              "#ed7953"
             ],
             [
              0.7777777777777778,
              "#fb9f3a"
             ],
             [
              0.8888888888888888,
              "#fdca26"
             ],
             [
              1,
              "#f0f921"
             ]
            ],
            "type": "histogram2d"
           }
          ],
          "histogram2dcontour": [
           {
            "colorbar": {
             "outlinewidth": 0,
             "ticks": ""
            },
            "colorscale": [
             [
              0,
              "#0d0887"
             ],
             [
              0.1111111111111111,
              "#46039f"
             ],
             [
              0.2222222222222222,
              "#7201a8"
             ],
             [
              0.3333333333333333,
              "#9c179e"
             ],
             [
              0.4444444444444444,
              "#bd3786"
             ],
             [
              0.5555555555555556,
              "#d8576b"
             ],
             [
              0.6666666666666666,
              "#ed7953"
             ],
             [
              0.7777777777777778,
              "#fb9f3a"
             ],
             [
              0.8888888888888888,
              "#fdca26"
             ],
             [
              1,
              "#f0f921"
             ]
            ],
            "type": "histogram2dcontour"
           }
          ],
          "mesh3d": [
           {
            "colorbar": {
             "outlinewidth": 0,
             "ticks": ""
            },
            "type": "mesh3d"
           }
          ],
          "parcoords": [
           {
            "line": {
             "colorbar": {
              "outlinewidth": 0,
              "ticks": ""
             }
            },
            "type": "parcoords"
           }
          ],
          "pie": [
           {
            "automargin": true,
            "type": "pie"
           }
          ],
          "scatter": [
           {
            "marker": {
             "line": {
              "color": "#283442"
             }
            },
            "type": "scatter"
           }
          ],
          "scatter3d": [
           {
            "line": {
             "colorbar": {
              "outlinewidth": 0,
              "ticks": ""
             }
            },
            "marker": {
             "colorbar": {
              "outlinewidth": 0,
              "ticks": ""
             }
            },
            "type": "scatter3d"
           }
          ],
          "scattercarpet": [
           {
            "marker": {
             "colorbar": {
              "outlinewidth": 0,
              "ticks": ""
             }
            },
            "type": "scattercarpet"
           }
          ],
          "scattergeo": [
           {
            "marker": {
             "colorbar": {
              "outlinewidth": 0,
              "ticks": ""
             }
            },
            "type": "scattergeo"
           }
          ],
          "scattergl": [
           {
            "marker": {
             "line": {
              "color": "#283442"
             }
            },
            "type": "scattergl"
           }
          ],
          "scattermapbox": [
           {
            "marker": {
             "colorbar": {
              "outlinewidth": 0,
              "ticks": ""
             }
            },
            "type": "scattermapbox"
           }
          ],
          "scatterpolar": [
           {
            "marker": {
             "colorbar": {
              "outlinewidth": 0,
              "ticks": ""
             }
            },
            "type": "scatterpolar"
           }
          ],
          "scatterpolargl": [
           {
            "marker": {
             "colorbar": {
              "outlinewidth": 0,
              "ticks": ""
             }
            },
            "type": "scatterpolargl"
           }
          ],
          "scatterternary": [
           {
            "marker": {
             "colorbar": {
              "outlinewidth": 0,
              "ticks": ""
             }
            },
            "type": "scatterternary"
           }
          ],
          "surface": [
           {
            "colorbar": {
             "outlinewidth": 0,
             "ticks": ""
            },
            "colorscale": [
             [
              0,
              "#0d0887"
             ],
             [
              0.1111111111111111,
              "#46039f"
             ],
             [
              0.2222222222222222,
              "#7201a8"
             ],
             [
              0.3333333333333333,
              "#9c179e"
             ],
             [
              0.4444444444444444,
              "#bd3786"
             ],
             [
              0.5555555555555556,
              "#d8576b"
             ],
             [
              0.6666666666666666,
              "#ed7953"
             ],
             [
              0.7777777777777778,
              "#fb9f3a"
             ],
             [
              0.8888888888888888,
              "#fdca26"
             ],
             [
              1,
              "#f0f921"
             ]
            ],
            "type": "surface"
           }
          ],
          "table": [
           {
            "cells": {
             "fill": {
              "color": "#506784"
             },
             "line": {
              "color": "rgb(17,17,17)"
             }
            },
            "header": {
             "fill": {
              "color": "#2a3f5f"
             },
             "line": {
              "color": "rgb(17,17,17)"
             }
            },
            "type": "table"
           }
          ]
         },
         "layout": {
          "annotationdefaults": {
           "arrowcolor": "#f2f5fa",
           "arrowhead": 0,
           "arrowwidth": 1
          },
          "autotypenumbers": "strict",
          "coloraxis": {
           "colorbar": {
            "outlinewidth": 0,
            "ticks": ""
           }
          },
          "colorscale": {
           "diverging": [
            [
             0,
             "#8e0152"
            ],
            [
             0.1,
             "#c51b7d"
            ],
            [
             0.2,
             "#de77ae"
            ],
            [
             0.3,
             "#f1b6da"
            ],
            [
             0.4,
             "#fde0ef"
            ],
            [
             0.5,
             "#f7f7f7"
            ],
            [
             0.6,
             "#e6f5d0"
            ],
            [
             0.7,
             "#b8e186"
            ],
            [
             0.8,
             "#7fbc41"
            ],
            [
             0.9,
             "#4d9221"
            ],
            [
             1,
             "#276419"
            ]
           ],
           "sequential": [
            [
             0,
             "#0d0887"
            ],
            [
             0.1111111111111111,
             "#46039f"
            ],
            [
             0.2222222222222222,
             "#7201a8"
            ],
            [
             0.3333333333333333,
             "#9c179e"
            ],
            [
             0.4444444444444444,
             "#bd3786"
            ],
            [
             0.5555555555555556,
             "#d8576b"
            ],
            [
             0.6666666666666666,
             "#ed7953"
            ],
            [
             0.7777777777777778,
             "#fb9f3a"
            ],
            [
             0.8888888888888888,
             "#fdca26"
            ],
            [
             1,
             "#f0f921"
            ]
           ],
           "sequentialminus": [
            [
             0,
             "#0d0887"
            ],
            [
             0.1111111111111111,
             "#46039f"
            ],
            [
             0.2222222222222222,
             "#7201a8"
            ],
            [
             0.3333333333333333,
             "#9c179e"
            ],
            [
             0.4444444444444444,
             "#bd3786"
            ],
            [
             0.5555555555555556,
             "#d8576b"
            ],
            [
             0.6666666666666666,
             "#ed7953"
            ],
            [
             0.7777777777777778,
             "#fb9f3a"
            ],
            [
             0.8888888888888888,
             "#fdca26"
            ],
            [
             1,
             "#f0f921"
            ]
           ]
          },
          "colorway": [
           "#636efa",
           "#EF553B",
           "#00cc96",
           "#ab63fa",
           "#FFA15A",
           "#19d3f3",
           "#FF6692",
           "#B6E880",
           "#FF97FF",
           "#FECB52"
          ],
          "font": {
           "color": "#f2f5fa"
          },
          "geo": {
           "bgcolor": "rgb(17,17,17)",
           "lakecolor": "rgb(17,17,17)",
           "landcolor": "rgb(17,17,17)",
           "showlakes": true,
           "showland": true,
           "subunitcolor": "#506784"
          },
          "hoverlabel": {
           "align": "left"
          },
          "hovermode": "closest",
          "mapbox": {
           "style": "dark"
          },
          "paper_bgcolor": "rgb(17,17,17)",
          "plot_bgcolor": "rgb(17,17,17)",
          "polar": {
           "angularaxis": {
            "gridcolor": "#506784",
            "linecolor": "#506784",
            "ticks": ""
           },
           "bgcolor": "rgb(17,17,17)",
           "radialaxis": {
            "gridcolor": "#506784",
            "linecolor": "#506784",
            "ticks": ""
           }
          },
          "scene": {
           "xaxis": {
            "backgroundcolor": "rgb(17,17,17)",
            "gridcolor": "#506784",
            "gridwidth": 2,
            "linecolor": "#506784",
            "showbackground": true,
            "ticks": "",
            "zerolinecolor": "#C8D4E3"
           },
           "yaxis": {
            "backgroundcolor": "rgb(17,17,17)",
            "gridcolor": "#506784",
            "gridwidth": 2,
            "linecolor": "#506784",
            "showbackground": true,
            "ticks": "",
            "zerolinecolor": "#C8D4E3"
           },
           "zaxis": {
            "backgroundcolor": "rgb(17,17,17)",
            "gridcolor": "#506784",
            "gridwidth": 2,
            "linecolor": "#506784",
            "showbackground": true,
            "ticks": "",
            "zerolinecolor": "#C8D4E3"
           }
          },
          "shapedefaults": {
           "line": {
            "color": "#f2f5fa"
           }
          },
          "sliderdefaults": {
           "bgcolor": "#C8D4E3",
           "bordercolor": "rgb(17,17,17)",
           "borderwidth": 1,
           "tickwidth": 0
          },
          "ternary": {
           "aaxis": {
            "gridcolor": "#506784",
            "linecolor": "#506784",
            "ticks": ""
           },
           "baxis": {
            "gridcolor": "#506784",
            "linecolor": "#506784",
            "ticks": ""
           },
           "bgcolor": "rgb(17,17,17)",
           "caxis": {
            "gridcolor": "#506784",
            "linecolor": "#506784",
            "ticks": ""
           }
          },
          "title": {
           "x": 0.05
          },
          "updatemenudefaults": {
           "bgcolor": "#506784",
           "borderwidth": 0
          },
          "xaxis": {
           "automargin": true,
           "gridcolor": "#283442",
           "linecolor": "#506784",
           "ticks": "",
           "title": {
            "standoff": 15
           },
           "zerolinecolor": "#283442",
           "zerolinewidth": 2
          },
          "yaxis": {
           "automargin": true,
           "gridcolor": "#283442",
           "linecolor": "#506784",
           "ticks": "",
           "title": {
            "standoff": 15
           },
           "zerolinecolor": "#283442",
           "zerolinewidth": 2
          }
         }
        },
        "title": {
         "text": "Investimento da CAPES por Grande Área ao Longo do Tempo"
        },
        "xaxis": {
         "anchor": "y",
         "domain": [
          0,
          1
         ],
         "title": {
          "text": "data"
         }
        },
        "yaxis": {
         "anchor": "x",
         "domain": [
          0,
          1
         ],
         "title": {
          "text": "recebido"
         }
        }
       }
      }
     },
     "metadata": {},
     "output_type": "display_data"
    }
   ],
   "source": [
    "px.line(df_invest_group, x=\"data\", y=\"recebido\", color=\"grande_area\", log_y=False,\n",
    "        template=\"plotly_dark\", title=\"Investimento da CAPES por Grande Área ao Longo do Tempo\")"
   ]
  },
  {
   "cell_type": "code",
   "execution_count": 22,
   "metadata": {},
   "outputs": [
    {
     "data": {
      "text/html": [
       "<div>\n",
       "<style scoped>\n",
       "    .dataframe tbody tr th:only-of-type {\n",
       "        vertical-align: middle;\n",
       "    }\n",
       "\n",
       "    .dataframe tbody tr th {\n",
       "        vertical-align: top;\n",
       "    }\n",
       "\n",
       "    .dataframe thead th {\n",
       "        text-align: right;\n",
       "    }\n",
       "</style>\n",
       "<table border=\"1\" class=\"dataframe\">\n",
       "  <thead>\n",
       "    <tr style=\"text-align: right;\">\n",
       "      <th></th>\n",
       "      <th>ano</th>\n",
       "      <th>grande_area</th>\n",
       "      <th>recebido</th>\n",
       "    </tr>\n",
       "  </thead>\n",
       "  <tbody>\n",
       "    <tr>\n",
       "      <th>0</th>\n",
       "      <td>2005</td>\n",
       "      <td>CIÊNCIAS SOCIAIS APLICADAS</td>\n",
       "      <td>2730.0</td>\n",
       "    </tr>\n",
       "    <tr>\n",
       "      <th>1</th>\n",
       "      <td>2005</td>\n",
       "      <td>ENGENHARIAS</td>\n",
       "      <td>1300.0</td>\n",
       "    </tr>\n",
       "    <tr>\n",
       "      <th>2</th>\n",
       "      <td>2006</td>\n",
       "      <td>CIÊNCIAS AGRÁRIAS</td>\n",
       "      <td>75203.0</td>\n",
       "    </tr>\n",
       "    <tr>\n",
       "      <th>3</th>\n",
       "      <td>2006</td>\n",
       "      <td>CIÊNCIAS BIOLÓGICAS</td>\n",
       "      <td>63848.0</td>\n",
       "    </tr>\n",
       "    <tr>\n",
       "      <th>4</th>\n",
       "      <td>2006</td>\n",
       "      <td>CIÊNCIAS DA SAÚDE</td>\n",
       "      <td>118884.0</td>\n",
       "    </tr>\n",
       "    <tr>\n",
       "      <th>...</th>\n",
       "      <td>...</td>\n",
       "      <td>...</td>\n",
       "      <td>...</td>\n",
       "    </tr>\n",
       "    <tr>\n",
       "      <th>123</th>\n",
       "      <td>2019</td>\n",
       "      <td>CIÊNCIAS HUMANAS</td>\n",
       "      <td>5630693.0</td>\n",
       "    </tr>\n",
       "    <tr>\n",
       "      <th>124</th>\n",
       "      <td>2019</td>\n",
       "      <td>CIÊNCIAS SOCIAIS APLICADAS</td>\n",
       "      <td>5596587.0</td>\n",
       "    </tr>\n",
       "    <tr>\n",
       "      <th>125</th>\n",
       "      <td>2019</td>\n",
       "      <td>ENGENHARIAS</td>\n",
       "      <td>7211446.0</td>\n",
       "    </tr>\n",
       "    <tr>\n",
       "      <th>126</th>\n",
       "      <td>2019</td>\n",
       "      <td>LINGÜÍSTICA, LETRAS E ARTES</td>\n",
       "      <td>2622371.0</td>\n",
       "    </tr>\n",
       "    <tr>\n",
       "      <th>127</th>\n",
       "      <td>2019</td>\n",
       "      <td>MULTIDISCIPLINAR</td>\n",
       "      <td>2626818.0</td>\n",
       "    </tr>\n",
       "  </tbody>\n",
       "</table>\n",
       "<p>128 rows × 3 columns</p>\n",
       "</div>"
      ],
      "text/plain": [
       "      ano                  grande_area   recebido\n",
       "0    2005   CIÊNCIAS SOCIAIS APLICADAS     2730.0\n",
       "1    2005                  ENGENHARIAS     1300.0\n",
       "2    2006            CIÊNCIAS AGRÁRIAS    75203.0\n",
       "3    2006          CIÊNCIAS BIOLÓGICAS    63848.0\n",
       "4    2006            CIÊNCIAS DA SAÚDE   118884.0\n",
       "..    ...                          ...        ...\n",
       "123  2019             CIÊNCIAS HUMANAS  5630693.0\n",
       "124  2019   CIÊNCIAS SOCIAIS APLICADAS  5596587.0\n",
       "125  2019                  ENGENHARIAS  7211446.0\n",
       "126  2019  LINGÜÍSTICA, LETRAS E ARTES  2622371.0\n",
       "127  2019             MULTIDISCIPLINAR  2626818.0\n",
       "\n",
       "[128 rows x 3 columns]"
      ]
     },
     "execution_count": 22,
     "metadata": {},
     "output_type": "execute_result"
    }
   ],
   "source": [
    "df_invest_ano = df_invest[[\"ano\", \"grande_area\", \"recebido\"]].groupby([\"ano\", \"grande_area\"])[[\"recebido\"]].sum()\n",
    "df_invest_ano = df_invest_ano.reset_index(level=[\"ano\", \"grande_area\"])\n",
    "df_invest_ano = df_invest_ano.sort_values([\"ano\",\"grande_area\"], ignore_index=True)\n",
    "df_invest_ano"
   ]
  },
  {
   "cell_type": "code",
   "execution_count": 23,
   "metadata": {},
   "outputs": [
    {
     "data": {
      "application/vnd.plotly.v1+json": {
       "config": {
        "plotlyServerURL": "https://plot.ly"
       },
       "data": [
        {
         "alignmentgroup": "True",
         "hovertemplate": "grande_area=CIÊNCIAS SOCIAIS APLICADAS<br>ano=%{x}<br>recebido=%{y}<extra></extra>",
         "legendgroup": "CIÊNCIAS SOCIAIS APLICADAS",
         "marker": {
          "color": "#636efa",
          "pattern": {
           "shape": ""
          }
         },
         "name": "CIÊNCIAS SOCIAIS APLICADAS",
         "offsetgroup": "CIÊNCIAS SOCIAIS APLICADAS",
         "orientation": "v",
         "showlegend": true,
         "textposition": "auto",
         "type": "bar",
         "x": [
          2005,
          2006,
          2007,
          2008,
          2009,
          2010,
          2011,
          2012,
          2013,
          2014,
          2015,
          2016,
          2017,
          2018,
          2019
         ],
         "xaxis": "x",
         "y": [
          2730,
          209585,
          377961,
          414780,
          1658404,
          3372626,
          4869250,
          11986478,
          38152622,
          62510817,
          49617014,
          2253217,
          12411505,
          6369531,
          5596587
         ],
         "yaxis": "y"
        },
        {
         "alignmentgroup": "True",
         "hovertemplate": "grande_area=ENGENHARIAS<br>ano=%{x}<br>recebido=%{y}<extra></extra>",
         "legendgroup": "ENGENHARIAS",
         "marker": {
          "color": "#EF553B",
          "pattern": {
           "shape": ""
          }
         },
         "name": "ENGENHARIAS",
         "offsetgroup": "ENGENHARIAS",
         "orientation": "v",
         "showlegend": true,
         "textposition": "auto",
         "type": "bar",
         "x": [
          2005,
          2006,
          2007,
          2008,
          2009,
          2010,
          2011,
          2012,
          2013,
          2014,
          2015,
          2016,
          2017,
          2018,
          2019
         ],
         "xaxis": "x",
         "y": [
          1300,
          108216,
          319954,
          374807,
          3277204,
          7580888,
          11030899,
          42492134,
          133327787,
          388459947,
          278153762,
          11413356,
          22543236,
          18338694,
          7211446
         ],
         "yaxis": "y"
        },
        {
         "alignmentgroup": "True",
         "hovertemplate": "grande_area=CIÊNCIAS AGRÁRIAS<br>ano=%{x}<br>recebido=%{y}<extra></extra>",
         "legendgroup": "CIÊNCIAS AGRÁRIAS",
         "marker": {
          "color": "#00cc96",
          "pattern": {
           "shape": ""
          }
         },
         "name": "CIÊNCIAS AGRÁRIAS",
         "offsetgroup": "CIÊNCIAS AGRÁRIAS",
         "orientation": "v",
         "showlegend": true,
         "textposition": "auto",
         "type": "bar",
         "x": [
          2006,
          2007,
          2008,
          2009,
          2010,
          2011,
          2012,
          2013,
          2014,
          2015,
          2016,
          2017,
          2018,
          2019
         ],
         "xaxis": "x",
         "y": [
          75203,
          241625,
          510200,
          2940810,
          4333961,
          9519211,
          14447866,
          47833185,
          62972058,
          32336190,
          4709908,
          12130110,
          8257212,
          3755477
         ],
         "yaxis": "y"
        },
        {
         "alignmentgroup": "True",
         "hovertemplate": "grande_area=CIÊNCIAS BIOLÓGICAS<br>ano=%{x}<br>recebido=%{y}<extra></extra>",
         "legendgroup": "CIÊNCIAS BIOLÓGICAS",
         "marker": {
          "color": "#ab63fa",
          "pattern": {
           "shape": ""
          }
         },
         "name": "CIÊNCIAS BIOLÓGICAS",
         "offsetgroup": "CIÊNCIAS BIOLÓGICAS",
         "orientation": "v",
         "showlegend": true,
         "textposition": "auto",
         "type": "bar",
         "x": [
          2006,
          2007,
          2008,
          2009,
          2010,
          2011,
          2012,
          2013,
          2014,
          2015,
          2016,
          2017,
          2018,
          2019
         ],
         "xaxis": "x",
         "y": [
          63848,
          148426,
          399617,
          6140849,
          11100558,
          8865592,
          13187823,
          30641364,
          60235210,
          38304796,
          4424026,
          17555393,
          18632031,
          7442820
         ],
         "yaxis": "y"
        },
        {
         "alignmentgroup": "True",
         "hovertemplate": "grande_area=CIÊNCIAS DA SAÚDE<br>ano=%{x}<br>recebido=%{y}<extra></extra>",
         "legendgroup": "CIÊNCIAS DA SAÚDE",
         "marker": {
          "color": "#FFA15A",
          "pattern": {
           "shape": ""
          }
         },
         "name": "CIÊNCIAS DA SAÚDE",
         "offsetgroup": "CIÊNCIAS DA SAÚDE",
         "orientation": "v",
         "showlegend": true,
         "textposition": "auto",
         "type": "bar",
         "x": [
          2006,
          2007,
          2008,
          2009,
          2010,
          2011,
          2012,
          2013,
          2014,
          2015,
          2016,
          2017,
          2018,
          2019
         ],
         "xaxis": "x",
         "y": [
          118884,
          117750,
          369400,
          1444199,
          3068722,
          4411504,
          10109202,
          46420705,
          69678678,
          39960787,
          3352718,
          19370938,
          7846447,
          5213743
         ],
         "yaxis": "y"
        },
        {
         "alignmentgroup": "True",
         "hovertemplate": "grande_area=CIÊNCIAS EXATAS E DA TERRA<br>ano=%{x}<br>recebido=%{y}<extra></extra>",
         "legendgroup": "CIÊNCIAS EXATAS E DA TERRA",
         "marker": {
          "color": "#19d3f3",
          "pattern": {
           "shape": ""
          }
         },
         "name": "CIÊNCIAS EXATAS E DA TERRA",
         "offsetgroup": "CIÊNCIAS EXATAS E DA TERRA",
         "orientation": "v",
         "showlegend": true,
         "textposition": "auto",
         "type": "bar",
         "x": [
          2006,
          2007,
          2008,
          2009,
          2010,
          2011,
          2012,
          2013,
          2014,
          2015,
          2016,
          2017,
          2018,
          2019
         ],
         "xaxis": "x",
         "y": [
          140270,
          260662,
          350456,
          2263158,
          4370369,
          7838137,
          15550389,
          71556543,
          236199246,
          200207525,
          4749672,
          17564499,
          12355118,
          8764787
         ],
         "yaxis": "y"
        },
        {
         "alignmentgroup": "True",
         "hovertemplate": "grande_area=CIÊNCIAS HUMANAS<br>ano=%{x}<br>recebido=%{y}<extra></extra>",
         "legendgroup": "CIÊNCIAS HUMANAS",
         "marker": {
          "color": "#FF6692",
          "pattern": {
           "shape": ""
          }
         },
         "name": "CIÊNCIAS HUMANAS",
         "offsetgroup": "CIÊNCIAS HUMANAS",
         "orientation": "v",
         "showlegend": true,
         "textposition": "auto",
         "type": "bar",
         "x": [
          2006,
          2007,
          2008,
          2009,
          2010,
          2011,
          2012,
          2013,
          2014,
          2015,
          2016,
          2017,
          2018,
          2019
         ],
         "xaxis": "x",
         "y": [
          125200,
          464701,
          511715,
          3388638,
          7931198,
          13417604,
          24677503,
          52900142,
          59824833,
          35864208,
          4729998,
          15868143,
          10548549,
          5630693
         ],
         "yaxis": "y"
        },
        {
         "alignmentgroup": "True",
         "hovertemplate": "grande_area=LINGÜÍSTICA, LETRAS E ARTES<br>ano=%{x}<br>recebido=%{y}<extra></extra>",
         "legendgroup": "LINGÜÍSTICA, LETRAS E ARTES",
         "marker": {
          "color": "#B6E880",
          "pattern": {
           "shape": ""
          }
         },
         "name": "LINGÜÍSTICA, LETRAS E ARTES",
         "offsetgroup": "LINGÜÍSTICA, LETRAS E ARTES",
         "orientation": "v",
         "showlegend": true,
         "textposition": "auto",
         "type": "bar",
         "x": [
          2006,
          2007,
          2008,
          2009,
          2010,
          2011,
          2012,
          2013,
          2014,
          2015,
          2016,
          2017,
          2018,
          2019
         ],
         "xaxis": "x",
         "y": [
          58390,
          106720,
          128755,
          1131594,
          2777012,
          12867283,
          8637986,
          13368482,
          16906299,
          13664906,
          1225431,
          7402699,
          4636923,
          2622371
         ],
         "yaxis": "y"
        },
        {
         "alignmentgroup": "True",
         "hovertemplate": "grande_area=MULTIDISCIPLINAR<br>ano=%{x}<br>recebido=%{y}<extra></extra>",
         "legendgroup": "MULTIDISCIPLINAR",
         "marker": {
          "color": "#FF97FF",
          "pattern": {
           "shape": ""
          }
         },
         "name": "MULTIDISCIPLINAR",
         "offsetgroup": "MULTIDISCIPLINAR",
         "orientation": "v",
         "showlegend": true,
         "textposition": "auto",
         "type": "bar",
         "x": [
          2006,
          2007,
          2008,
          2009,
          2010,
          2011,
          2012,
          2013,
          2014,
          2015,
          2016,
          2017,
          2018,
          2019
         ],
         "xaxis": "x",
         "y": [
          11700,
          77979,
          128700,
          735280,
          1691824,
          2222857,
          9631069,
          15986524,
          26481146,
          31590832,
          3128128,
          11963998,
          4962859,
          2626818
         ],
         "yaxis": "y"
        }
       ],
       "layout": {
        "barmode": "group",
        "legend": {
         "title": {
          "text": "grande_area"
         },
         "tracegroupgap": 0
        },
        "template": {
         "data": {
          "bar": [
           {
            "error_x": {
             "color": "#f2f5fa"
            },
            "error_y": {
             "color": "#f2f5fa"
            },
            "marker": {
             "line": {
              "color": "rgb(17,17,17)",
              "width": 0.5
             },
             "pattern": {
              "fillmode": "overlay",
              "size": 10,
              "solidity": 0.2
             }
            },
            "type": "bar"
           }
          ],
          "barpolar": [
           {
            "marker": {
             "line": {
              "color": "rgb(17,17,17)",
              "width": 0.5
             },
             "pattern": {
              "fillmode": "overlay",
              "size": 10,
              "solidity": 0.2
             }
            },
            "type": "barpolar"
           }
          ],
          "carpet": [
           {
            "aaxis": {
             "endlinecolor": "#A2B1C6",
             "gridcolor": "#506784",
             "linecolor": "#506784",
             "minorgridcolor": "#506784",
             "startlinecolor": "#A2B1C6"
            },
            "baxis": {
             "endlinecolor": "#A2B1C6",
             "gridcolor": "#506784",
             "linecolor": "#506784",
             "minorgridcolor": "#506784",
             "startlinecolor": "#A2B1C6"
            },
            "type": "carpet"
           }
          ],
          "choropleth": [
           {
            "colorbar": {
             "outlinewidth": 0,
             "ticks": ""
            },
            "type": "choropleth"
           }
          ],
          "contour": [
           {
            "colorbar": {
             "outlinewidth": 0,
             "ticks": ""
            },
            "colorscale": [
             [
              0,
              "#0d0887"
             ],
             [
              0.1111111111111111,
              "#46039f"
             ],
             [
              0.2222222222222222,
              "#7201a8"
             ],
             [
              0.3333333333333333,
              "#9c179e"
             ],
             [
              0.4444444444444444,
              "#bd3786"
             ],
             [
              0.5555555555555556,
              "#d8576b"
             ],
             [
              0.6666666666666666,
              "#ed7953"
             ],
             [
              0.7777777777777778,
              "#fb9f3a"
             ],
             [
              0.8888888888888888,
              "#fdca26"
             ],
             [
              1,
              "#f0f921"
             ]
            ],
            "type": "contour"
           }
          ],
          "contourcarpet": [
           {
            "colorbar": {
             "outlinewidth": 0,
             "ticks": ""
            },
            "type": "contourcarpet"
           }
          ],
          "heatmap": [
           {
            "colorbar": {
             "outlinewidth": 0,
             "ticks": ""
            },
            "colorscale": [
             [
              0,
              "#0d0887"
             ],
             [
              0.1111111111111111,
              "#46039f"
             ],
             [
              0.2222222222222222,
              "#7201a8"
             ],
             [
              0.3333333333333333,
              "#9c179e"
             ],
             [
              0.4444444444444444,
              "#bd3786"
             ],
             [
              0.5555555555555556,
              "#d8576b"
             ],
             [
              0.6666666666666666,
              "#ed7953"
             ],
             [
              0.7777777777777778,
              "#fb9f3a"
             ],
             [
              0.8888888888888888,
              "#fdca26"
             ],
             [
              1,
              "#f0f921"
             ]
            ],
            "type": "heatmap"
           }
          ],
          "heatmapgl": [
           {
            "colorbar": {
             "outlinewidth": 0,
             "ticks": ""
            },
            "colorscale": [
             [
              0,
              "#0d0887"
             ],
             [
              0.1111111111111111,
              "#46039f"
             ],
             [
              0.2222222222222222,
              "#7201a8"
             ],
             [
              0.3333333333333333,
              "#9c179e"
             ],
             [
              0.4444444444444444,
              "#bd3786"
             ],
             [
              0.5555555555555556,
              "#d8576b"
             ],
             [
              0.6666666666666666,
              "#ed7953"
             ],
             [
              0.7777777777777778,
              "#fb9f3a"
             ],
             [
              0.8888888888888888,
              "#fdca26"
             ],
             [
              1,
              "#f0f921"
             ]
            ],
            "type": "heatmapgl"
           }
          ],
          "histogram": [
           {
            "marker": {
             "pattern": {
              "fillmode": "overlay",
              "size": 10,
              "solidity": 0.2
             }
            },
            "type": "histogram"
           }
          ],
          "histogram2d": [
           {
            "colorbar": {
             "outlinewidth": 0,
             "ticks": ""
            },
            "colorscale": [
             [
              0,
              "#0d0887"
             ],
             [
              0.1111111111111111,
              "#46039f"
             ],
             [
              0.2222222222222222,
              "#7201a8"
             ],
             [
              0.3333333333333333,
              "#9c179e"
             ],
             [
              0.4444444444444444,
              "#bd3786"
             ],
             [
              0.5555555555555556,
              "#d8576b"
             ],
             [
              0.6666666666666666,
              "#ed7953"
             ],
             [
              0.7777777777777778,
              "#fb9f3a"
             ],
             [
              0.8888888888888888,
              "#fdca26"
             ],
             [
              1,
              "#f0f921"
             ]
            ],
            "type": "histogram2d"
           }
          ],
          "histogram2dcontour": [
           {
            "colorbar": {
             "outlinewidth": 0,
             "ticks": ""
            },
            "colorscale": [
             [
              0,
              "#0d0887"
             ],
             [
              0.1111111111111111,
              "#46039f"
             ],
             [
              0.2222222222222222,
              "#7201a8"
             ],
             [
              0.3333333333333333,
              "#9c179e"
             ],
             [
              0.4444444444444444,
              "#bd3786"
             ],
             [
              0.5555555555555556,
              "#d8576b"
             ],
             [
              0.6666666666666666,
              "#ed7953"
             ],
             [
              0.7777777777777778,
              "#fb9f3a"
             ],
             [
              0.8888888888888888,
              "#fdca26"
             ],
             [
              1,
              "#f0f921"
             ]
            ],
            "type": "histogram2dcontour"
           }
          ],
          "mesh3d": [
           {
            "colorbar": {
             "outlinewidth": 0,
             "ticks": ""
            },
            "type": "mesh3d"
           }
          ],
          "parcoords": [
           {
            "line": {
             "colorbar": {
              "outlinewidth": 0,
              "ticks": ""
             }
            },
            "type": "parcoords"
           }
          ],
          "pie": [
           {
            "automargin": true,
            "type": "pie"
           }
          ],
          "scatter": [
           {
            "marker": {
             "line": {
              "color": "#283442"
             }
            },
            "type": "scatter"
           }
          ],
          "scatter3d": [
           {
            "line": {
             "colorbar": {
              "outlinewidth": 0,
              "ticks": ""
             }
            },
            "marker": {
             "colorbar": {
              "outlinewidth": 0,
              "ticks": ""
             }
            },
            "type": "scatter3d"
           }
          ],
          "scattercarpet": [
           {
            "marker": {
             "colorbar": {
              "outlinewidth": 0,
              "ticks": ""
             }
            },
            "type": "scattercarpet"
           }
          ],
          "scattergeo": [
           {
            "marker": {
             "colorbar": {
              "outlinewidth": 0,
              "ticks": ""
             }
            },
            "type": "scattergeo"
           }
          ],
          "scattergl": [
           {
            "marker": {
             "line": {
              "color": "#283442"
             }
            },
            "type": "scattergl"
           }
          ],
          "scattermapbox": [
           {
            "marker": {
             "colorbar": {
              "outlinewidth": 0,
              "ticks": ""
             }
            },
            "type": "scattermapbox"
           }
          ],
          "scatterpolar": [
           {
            "marker": {
             "colorbar": {
              "outlinewidth": 0,
              "ticks": ""
             }
            },
            "type": "scatterpolar"
           }
          ],
          "scatterpolargl": [
           {
            "marker": {
             "colorbar": {
              "outlinewidth": 0,
              "ticks": ""
             }
            },
            "type": "scatterpolargl"
           }
          ],
          "scatterternary": [
           {
            "marker": {
             "colorbar": {
              "outlinewidth": 0,
              "ticks": ""
             }
            },
            "type": "scatterternary"
           }
          ],
          "surface": [
           {
            "colorbar": {
             "outlinewidth": 0,
             "ticks": ""
            },
            "colorscale": [
             [
              0,
              "#0d0887"
             ],
             [
              0.1111111111111111,
              "#46039f"
             ],
             [
              0.2222222222222222,
              "#7201a8"
             ],
             [
              0.3333333333333333,
              "#9c179e"
             ],
             [
              0.4444444444444444,
              "#bd3786"
             ],
             [
              0.5555555555555556,
              "#d8576b"
             ],
             [
              0.6666666666666666,
              "#ed7953"
             ],
             [
              0.7777777777777778,
              "#fb9f3a"
             ],
             [
              0.8888888888888888,
              "#fdca26"
             ],
             [
              1,
              "#f0f921"
             ]
            ],
            "type": "surface"
           }
          ],
          "table": [
           {
            "cells": {
             "fill": {
              "color": "#506784"
             },
             "line": {
              "color": "rgb(17,17,17)"
             }
            },
            "header": {
             "fill": {
              "color": "#2a3f5f"
             },
             "line": {
              "color": "rgb(17,17,17)"
             }
            },
            "type": "table"
           }
          ]
         },
         "layout": {
          "annotationdefaults": {
           "arrowcolor": "#f2f5fa",
           "arrowhead": 0,
           "arrowwidth": 1
          },
          "autotypenumbers": "strict",
          "coloraxis": {
           "colorbar": {
            "outlinewidth": 0,
            "ticks": ""
           }
          },
          "colorscale": {
           "diverging": [
            [
             0,
             "#8e0152"
            ],
            [
             0.1,
             "#c51b7d"
            ],
            [
             0.2,
             "#de77ae"
            ],
            [
             0.3,
             "#f1b6da"
            ],
            [
             0.4,
             "#fde0ef"
            ],
            [
             0.5,
             "#f7f7f7"
            ],
            [
             0.6,
             "#e6f5d0"
            ],
            [
             0.7,
             "#b8e186"
            ],
            [
             0.8,
             "#7fbc41"
            ],
            [
             0.9,
             "#4d9221"
            ],
            [
             1,
             "#276419"
            ]
           ],
           "sequential": [
            [
             0,
             "#0d0887"
            ],
            [
             0.1111111111111111,
             "#46039f"
            ],
            [
             0.2222222222222222,
             "#7201a8"
            ],
            [
             0.3333333333333333,
             "#9c179e"
            ],
            [
             0.4444444444444444,
             "#bd3786"
            ],
            [
             0.5555555555555556,
             "#d8576b"
            ],
            [
             0.6666666666666666,
             "#ed7953"
            ],
            [
             0.7777777777777778,
             "#fb9f3a"
            ],
            [
             0.8888888888888888,
             "#fdca26"
            ],
            [
             1,
             "#f0f921"
            ]
           ],
           "sequentialminus": [
            [
             0,
             "#0d0887"
            ],
            [
             0.1111111111111111,
             "#46039f"
            ],
            [
             0.2222222222222222,
             "#7201a8"
            ],
            [
             0.3333333333333333,
             "#9c179e"
            ],
            [
             0.4444444444444444,
             "#bd3786"
            ],
            [
             0.5555555555555556,
             "#d8576b"
            ],
            [
             0.6666666666666666,
             "#ed7953"
            ],
            [
             0.7777777777777778,
             "#fb9f3a"
            ],
            [
             0.8888888888888888,
             "#fdca26"
            ],
            [
             1,
             "#f0f921"
            ]
           ]
          },
          "colorway": [
           "#636efa",
           "#EF553B",
           "#00cc96",
           "#ab63fa",
           "#FFA15A",
           "#19d3f3",
           "#FF6692",
           "#B6E880",
           "#FF97FF",
           "#FECB52"
          ],
          "font": {
           "color": "#f2f5fa"
          },
          "geo": {
           "bgcolor": "rgb(17,17,17)",
           "lakecolor": "rgb(17,17,17)",
           "landcolor": "rgb(17,17,17)",
           "showlakes": true,
           "showland": true,
           "subunitcolor": "#506784"
          },
          "hoverlabel": {
           "align": "left"
          },
          "hovermode": "closest",
          "mapbox": {
           "style": "dark"
          },
          "paper_bgcolor": "rgb(17,17,17)",
          "plot_bgcolor": "rgb(17,17,17)",
          "polar": {
           "angularaxis": {
            "gridcolor": "#506784",
            "linecolor": "#506784",
            "ticks": ""
           },
           "bgcolor": "rgb(17,17,17)",
           "radialaxis": {
            "gridcolor": "#506784",
            "linecolor": "#506784",
            "ticks": ""
           }
          },
          "scene": {
           "xaxis": {
            "backgroundcolor": "rgb(17,17,17)",
            "gridcolor": "#506784",
            "gridwidth": 2,
            "linecolor": "#506784",
            "showbackground": true,
            "ticks": "",
            "zerolinecolor": "#C8D4E3"
           },
           "yaxis": {
            "backgroundcolor": "rgb(17,17,17)",
            "gridcolor": "#506784",
            "gridwidth": 2,
            "linecolor": "#506784",
            "showbackground": true,
            "ticks": "",
            "zerolinecolor": "#C8D4E3"
           },
           "zaxis": {
            "backgroundcolor": "rgb(17,17,17)",
            "gridcolor": "#506784",
            "gridwidth": 2,
            "linecolor": "#506784",
            "showbackground": true,
            "ticks": "",
            "zerolinecolor": "#C8D4E3"
           }
          },
          "shapedefaults": {
           "line": {
            "color": "#f2f5fa"
           }
          },
          "sliderdefaults": {
           "bgcolor": "#C8D4E3",
           "bordercolor": "rgb(17,17,17)",
           "borderwidth": 1,
           "tickwidth": 0
          },
          "ternary": {
           "aaxis": {
            "gridcolor": "#506784",
            "linecolor": "#506784",
            "ticks": ""
           },
           "baxis": {
            "gridcolor": "#506784",
            "linecolor": "#506784",
            "ticks": ""
           },
           "bgcolor": "rgb(17,17,17)",
           "caxis": {
            "gridcolor": "#506784",
            "linecolor": "#506784",
            "ticks": ""
           }
          },
          "title": {
           "x": 0.05
          },
          "updatemenudefaults": {
           "bgcolor": "#506784",
           "borderwidth": 0
          },
          "xaxis": {
           "automargin": true,
           "gridcolor": "#283442",
           "linecolor": "#506784",
           "ticks": "",
           "title": {
            "standoff": 15
           },
           "zerolinecolor": "#283442",
           "zerolinewidth": 2
          },
          "yaxis": {
           "automargin": true,
           "gridcolor": "#283442",
           "linecolor": "#506784",
           "ticks": "",
           "title": {
            "standoff": 15
           },
           "zerolinecolor": "#283442",
           "zerolinewidth": 2
          }
         }
        },
        "title": {
         "text": "Investimento da CAPES por Grande Área por Ano"
        },
        "xaxis": {
         "anchor": "y",
         "domain": [
          0,
          1
         ],
         "title": {
          "text": "ano"
         }
        },
        "yaxis": {
         "anchor": "x",
         "domain": [
          0,
          1
         ],
         "title": {
          "text": "recebido"
         }
        }
       }
      }
     },
     "metadata": {},
     "output_type": "display_data"
    }
   ],
   "source": [
    "px.bar(df_invest_ano, x=\"ano\", y=\"recebido\", color=\"grande_area\", log_y=False, barmode=\"group\",\n",
    "        template=\"plotly_dark\", title=\"Investimento da CAPES por Grande Área por Ano\")"
   ]
  },
  {
   "cell_type": "markdown",
   "metadata": {},
   "source": [
    "### Correlações entre os investimentos de cada área"
   ]
  },
  {
   "cell_type": "code",
   "execution_count": 24,
   "metadata": {},
   "outputs": [
    {
     "data": {
      "text/plain": [
       "['ENGENHARIAS',\n",
       " 'CIÊNCIAS SOCIAIS APLICADAS',\n",
       " 'CIÊNCIAS AGRÁRIAS',\n",
       " 'CIÊNCIAS BIOLÓGICAS',\n",
       " 'CIÊNCIAS DA SAÚDE',\n",
       " 'CIÊNCIAS HUMANAS',\n",
       " 'LINGÜÍSTICA, LETRAS E ARTES',\n",
       " 'CIÊNCIAS EXATAS E DA TERRA',\n",
       " 'MULTIDISCIPLINAR']"
      ]
     },
     "execution_count": 24,
     "metadata": {},
     "output_type": "execute_result"
    }
   ],
   "source": [
    "areas = df_invest_group[\"grande_area\"].unique().tolist()\n",
    "areas"
   ]
  },
  {
   "cell_type": "code",
   "execution_count": 25,
   "metadata": {},
   "outputs": [],
   "source": [
    "for k in range(len(areas)):\n",
    "    filter_for = df_invest_group[\"grande_area\"] == areas[k]\n",
    "    df_area = df_invest_group[filter_for]\n",
    "    df_area = df_area.reset_index().drop(\"index\", axis=1).sort_values(\"data\")\n",
    "    # display(df_area)"
   ]
  },
  {
   "cell_type": "code",
   "execution_count": 26,
   "metadata": {},
   "outputs": [],
   "source": [
    "# Separando as grandes áreas em features:\n",
    "\n",
    "filter_0 = df_invest_group[\"grande_area\"] == areas[0]\n",
    "df_sep = df_invest_group[filter_0][[\"data\",\"recebido\"]]\n",
    "df_sep = df_sep.reset_index().drop(\"index\", axis=1).sort_values(\"data\")\n",
    "for k in range(len(areas)-1):\n",
    "    filter_for = df_invest_group[\"grande_area\"] == areas[k+1]\n",
    "    df_area = df_invest_group[filter_for][[\"data\",\"recebido\"]]\n",
    "    df_area = df_area.reset_index().drop(\"index\", axis=1).sort_values(\"data\")\n",
    "    df_sep = df_sep.merge(df_area, on=\"data\", how=\"outer\", suffixes=(f\"_{areas[k]}\", f\"_{areas[k+1]}\"))\n",
    "    # display(df_sep)"
   ]
  },
  {
   "cell_type": "code",
   "execution_count": 27,
   "metadata": {},
   "outputs": [
    {
     "data": {
      "text/html": [
       "<div>\n",
       "<style scoped>\n",
       "    .dataframe tbody tr th:only-of-type {\n",
       "        vertical-align: middle;\n",
       "    }\n",
       "\n",
       "    .dataframe tbody tr th {\n",
       "        vertical-align: top;\n",
       "    }\n",
       "\n",
       "    .dataframe thead th {\n",
       "        text-align: right;\n",
       "    }\n",
       "</style>\n",
       "<table border=\"1\" class=\"dataframe\">\n",
       "  <thead>\n",
       "    <tr style=\"text-align: right;\">\n",
       "      <th></th>\n",
       "      <th>data</th>\n",
       "      <th>recebido_ENGENHARIAS</th>\n",
       "      <th>recebido_CIÊNCIAS SOCIAIS APLICADAS</th>\n",
       "      <th>recebido_CIÊNCIAS AGRÁRIAS</th>\n",
       "      <th>recebido_CIÊNCIAS BIOLÓGICAS</th>\n",
       "      <th>recebido_CIÊNCIAS DA SAÚDE</th>\n",
       "      <th>recebido_CIÊNCIAS HUMANAS</th>\n",
       "      <th>recebido_LINGÜÍSTICA, LETRAS E ARTES</th>\n",
       "      <th>recebido_CIÊNCIAS EXATAS E DA TERRA</th>\n",
       "      <th>recebido_MULTIDISCIPLINAR</th>\n",
       "    </tr>\n",
       "  </thead>\n",
       "  <tbody>\n",
       "    <tr>\n",
       "      <th>0</th>\n",
       "      <td>2005-04-01</td>\n",
       "      <td>1300.0</td>\n",
       "      <td>NaN</td>\n",
       "      <td>NaN</td>\n",
       "      <td>NaN</td>\n",
       "      <td>NaN</td>\n",
       "      <td>NaN</td>\n",
       "      <td>NaN</td>\n",
       "      <td>NaN</td>\n",
       "      <td>NaN</td>\n",
       "    </tr>\n",
       "    <tr>\n",
       "      <th>1</th>\n",
       "      <td>2005-09-01</td>\n",
       "      <td>NaN</td>\n",
       "      <td>2730.0</td>\n",
       "      <td>NaN</td>\n",
       "      <td>NaN</td>\n",
       "      <td>NaN</td>\n",
       "      <td>NaN</td>\n",
       "      <td>NaN</td>\n",
       "      <td>NaN</td>\n",
       "      <td>NaN</td>\n",
       "    </tr>\n",
       "    <tr>\n",
       "      <th>2</th>\n",
       "      <td>2006-03-01</td>\n",
       "      <td>3600.0</td>\n",
       "      <td>14400.0</td>\n",
       "      <td>18000.0</td>\n",
       "      <td>1800.0</td>\n",
       "      <td>5400.0</td>\n",
       "      <td>10800.0</td>\n",
       "      <td>3600.0</td>\n",
       "      <td>NaN</td>\n",
       "      <td>NaN</td>\n",
       "    </tr>\n",
       "    <tr>\n",
       "      <th>3</th>\n",
       "      <td>2006-04-01</td>\n",
       "      <td>4300.0</td>\n",
       "      <td>16900.0</td>\n",
       "      <td>5400.0</td>\n",
       "      <td>12700.0</td>\n",
       "      <td>NaN</td>\n",
       "      <td>9700.0</td>\n",
       "      <td>9000.0</td>\n",
       "      <td>13300.0</td>\n",
       "      <td>NaN</td>\n",
       "    </tr>\n",
       "    <tr>\n",
       "      <th>4</th>\n",
       "      <td>2006-06-01</td>\n",
       "      <td>9000.0</td>\n",
       "      <td>NaN</td>\n",
       "      <td>NaN</td>\n",
       "      <td>NaN</td>\n",
       "      <td>NaN</td>\n",
       "      <td>NaN</td>\n",
       "      <td>NaN</td>\n",
       "      <td>NaN</td>\n",
       "      <td>NaN</td>\n",
       "    </tr>\n",
       "    <tr>\n",
       "      <th>...</th>\n",
       "      <td>...</td>\n",
       "      <td>...</td>\n",
       "      <td>...</td>\n",
       "      <td>...</td>\n",
       "      <td>...</td>\n",
       "      <td>...</td>\n",
       "      <td>...</td>\n",
       "      <td>...</td>\n",
       "      <td>...</td>\n",
       "      <td>...</td>\n",
       "    </tr>\n",
       "    <tr>\n",
       "      <th>156</th>\n",
       "      <td>2019-08-01</td>\n",
       "      <td>306899.0</td>\n",
       "      <td>497811.0</td>\n",
       "      <td>353679.0</td>\n",
       "      <td>306513.0</td>\n",
       "      <td>423596.0</td>\n",
       "      <td>552819.0</td>\n",
       "      <td>362795.0</td>\n",
       "      <td>524643.0</td>\n",
       "      <td>306964.0</td>\n",
       "    </tr>\n",
       "    <tr>\n",
       "      <th>157</th>\n",
       "      <td>2019-09-01</td>\n",
       "      <td>4136606.0</td>\n",
       "      <td>2451402.0</td>\n",
       "      <td>1317103.0</td>\n",
       "      <td>1156887.0</td>\n",
       "      <td>1177766.0</td>\n",
       "      <td>1597595.0</td>\n",
       "      <td>897975.0</td>\n",
       "      <td>3090747.0</td>\n",
       "      <td>830268.0</td>\n",
       "    </tr>\n",
       "    <tr>\n",
       "      <th>158</th>\n",
       "      <td>2019-10-01</td>\n",
       "      <td>1170847.0</td>\n",
       "      <td>1116281.0</td>\n",
       "      <td>338644.0</td>\n",
       "      <td>697460.0</td>\n",
       "      <td>1261873.0</td>\n",
       "      <td>603262.0</td>\n",
       "      <td>264016.0</td>\n",
       "      <td>707284.0</td>\n",
       "      <td>349133.0</td>\n",
       "    </tr>\n",
       "    <tr>\n",
       "      <th>159</th>\n",
       "      <td>2019-11-01</td>\n",
       "      <td>465580.0</td>\n",
       "      <td>463598.0</td>\n",
       "      <td>543088.0</td>\n",
       "      <td>941375.0</td>\n",
       "      <td>713083.0</td>\n",
       "      <td>748021.0</td>\n",
       "      <td>347517.0</td>\n",
       "      <td>2548283.0</td>\n",
       "      <td>386426.0</td>\n",
       "    </tr>\n",
       "    <tr>\n",
       "      <th>160</th>\n",
       "      <td>2019-12-01</td>\n",
       "      <td>297618.0</td>\n",
       "      <td>221784.0</td>\n",
       "      <td>204554.0</td>\n",
       "      <td>403761.0</td>\n",
       "      <td>433275.0</td>\n",
       "      <td>334751.0</td>\n",
       "      <td>187974.0</td>\n",
       "      <td>481903.0</td>\n",
       "      <td>68631.0</td>\n",
       "    </tr>\n",
       "  </tbody>\n",
       "</table>\n",
       "<p>161 rows × 10 columns</p>\n",
       "</div>"
      ],
      "text/plain": [
       "          data  recebido_ENGENHARIAS  recebido_CIÊNCIAS SOCIAIS APLICADAS  \\\n",
       "0   2005-04-01                1300.0                                  NaN   \n",
       "1   2005-09-01                   NaN                               2730.0   \n",
       "2   2006-03-01                3600.0                              14400.0   \n",
       "3   2006-04-01                4300.0                              16900.0   \n",
       "4   2006-06-01                9000.0                                  NaN   \n",
       "..         ...                   ...                                  ...   \n",
       "156 2019-08-01              306899.0                             497811.0   \n",
       "157 2019-09-01             4136606.0                            2451402.0   \n",
       "158 2019-10-01             1170847.0                            1116281.0   \n",
       "159 2019-11-01              465580.0                             463598.0   \n",
       "160 2019-12-01              297618.0                             221784.0   \n",
       "\n",
       "     recebido_CIÊNCIAS AGRÁRIAS  recebido_CIÊNCIAS BIOLÓGICAS  \\\n",
       "0                           NaN                           NaN   \n",
       "1                           NaN                           NaN   \n",
       "2                       18000.0                        1800.0   \n",
       "3                        5400.0                       12700.0   \n",
       "4                           NaN                           NaN   \n",
       "..                          ...                           ...   \n",
       "156                    353679.0                      306513.0   \n",
       "157                   1317103.0                     1156887.0   \n",
       "158                    338644.0                      697460.0   \n",
       "159                    543088.0                      941375.0   \n",
       "160                    204554.0                      403761.0   \n",
       "\n",
       "     recebido_CIÊNCIAS DA SAÚDE  recebido_CIÊNCIAS HUMANAS  \\\n",
       "0                           NaN                        NaN   \n",
       "1                           NaN                        NaN   \n",
       "2                        5400.0                    10800.0   \n",
       "3                           NaN                     9700.0   \n",
       "4                           NaN                        NaN   \n",
       "..                          ...                        ...   \n",
       "156                    423596.0                   552819.0   \n",
       "157                   1177766.0                  1597595.0   \n",
       "158                   1261873.0                   603262.0   \n",
       "159                    713083.0                   748021.0   \n",
       "160                    433275.0                   334751.0   \n",
       "\n",
       "     recebido_LINGÜÍSTICA, LETRAS E ARTES  \\\n",
       "0                                     NaN   \n",
       "1                                     NaN   \n",
       "2                                  3600.0   \n",
       "3                                  9000.0   \n",
       "4                                     NaN   \n",
       "..                                    ...   \n",
       "156                              362795.0   \n",
       "157                              897975.0   \n",
       "158                              264016.0   \n",
       "159                              347517.0   \n",
       "160                              187974.0   \n",
       "\n",
       "     recebido_CIÊNCIAS EXATAS E DA TERRA  recebido_MULTIDISCIPLINAR  \n",
       "0                                    NaN                        NaN  \n",
       "1                                    NaN                        NaN  \n",
       "2                                    NaN                        NaN  \n",
       "3                                13300.0                        NaN  \n",
       "4                                    NaN                        NaN  \n",
       "..                                   ...                        ...  \n",
       "156                             524643.0                   306964.0  \n",
       "157                            3090747.0                   830268.0  \n",
       "158                             707284.0                   349133.0  \n",
       "159                            2548283.0                   386426.0  \n",
       "160                             481903.0                    68631.0  \n",
       "\n",
       "[161 rows x 10 columns]"
      ]
     },
     "execution_count": 27,
     "metadata": {},
     "output_type": "execute_result"
    }
   ],
   "source": [
    "df_sep = df_sep.sort_values(\"data\", ignore_index=True).rename(columns={\"recebido\":f\"recebido_{areas[-1]}\"})\n",
    "df_sep"
   ]
  },
  {
   "cell_type": "code",
   "execution_count": 28,
   "metadata": {},
   "outputs": [
    {
     "name": "stdout",
     "output_type": "stream",
     "text": [
      "Nulos em recebido_ENGENHARIAS: 11 \n",
      "Porcentagem: 6.83 %\n",
      "\n",
      "Nulos em recebido_CIÊNCIAS SOCIAIS APLICADAS: 17 \n",
      "Porcentagem: 10.56 %\n",
      "\n",
      "Nulos em recebido_CIÊNCIAS AGRÁRIAS: 19 \n",
      "Porcentagem: 11.8 %\n",
      "\n",
      "Nulos em recebido_CIÊNCIAS BIOLÓGICAS: 15 \n",
      "Porcentagem: 9.32 %\n",
      "\n",
      "Nulos em recebido_CIÊNCIAS DA SAÚDE: 19 \n",
      "Porcentagem: 11.8 %\n",
      "\n",
      "Nulos em recebido_CIÊNCIAS HUMANAS: 13 \n",
      "Porcentagem: 8.07 %\n",
      "\n",
      "Nulos em recebido_LINGÜÍSTICA, LETRAS E ARTES: 21 \n",
      "Porcentagem: 13.04 %\n",
      "\n",
      "Nulos em recebido_CIÊNCIAS EXATAS E DA TERRA: 14 \n",
      "Porcentagem: 8.7 %\n",
      "\n",
      "Nulos em recebido_MULTIDISCIPLINAR: 25 \n",
      "Porcentagem: 15.53 %\n",
      "\n",
      "TOTAL: 154 \n",
      "Porcentagem: 9.57 %\n",
      "\n",
      "Colunas sem nulos:\n",
      "['data']\n"
     ]
    }
   ],
   "source": [
    "nan_report(df_sep)"
   ]
  },
  {
   "cell_type": "code",
   "execution_count": 29,
   "metadata": {},
   "outputs": [
    {
     "data": {
      "text/html": [
       "<div>\n",
       "<style scoped>\n",
       "    .dataframe tbody tr th:only-of-type {\n",
       "        vertical-align: middle;\n",
       "    }\n",
       "\n",
       "    .dataframe tbody tr th {\n",
       "        vertical-align: top;\n",
       "    }\n",
       "\n",
       "    .dataframe thead th {\n",
       "        text-align: right;\n",
       "    }\n",
       "</style>\n",
       "<table border=\"1\" class=\"dataframe\">\n",
       "  <thead>\n",
       "    <tr style=\"text-align: right;\">\n",
       "      <th></th>\n",
       "      <th>data</th>\n",
       "      <th>recebido_ENGENHARIAS</th>\n",
       "      <th>recebido_CIÊNCIAS SOCIAIS APLICADAS</th>\n",
       "      <th>recebido_CIÊNCIAS AGRÁRIAS</th>\n",
       "      <th>recebido_CIÊNCIAS BIOLÓGICAS</th>\n",
       "      <th>recebido_CIÊNCIAS DA SAÚDE</th>\n",
       "      <th>recebido_CIÊNCIAS HUMANAS</th>\n",
       "      <th>recebido_LINGÜÍSTICA, LETRAS E ARTES</th>\n",
       "      <th>recebido_CIÊNCIAS EXATAS E DA TERRA</th>\n",
       "      <th>recebido_MULTIDISCIPLINAR</th>\n",
       "    </tr>\n",
       "  </thead>\n",
       "  <tbody>\n",
       "    <tr>\n",
       "      <th>0</th>\n",
       "      <td>2005-04-01</td>\n",
       "      <td>1300.0</td>\n",
       "      <td>0.0</td>\n",
       "      <td>0.0</td>\n",
       "      <td>0.0</td>\n",
       "      <td>0.0</td>\n",
       "      <td>0.0</td>\n",
       "      <td>0.0</td>\n",
       "      <td>0.0</td>\n",
       "      <td>0.0</td>\n",
       "    </tr>\n",
       "    <tr>\n",
       "      <th>1</th>\n",
       "      <td>2005-09-01</td>\n",
       "      <td>0.0</td>\n",
       "      <td>2730.0</td>\n",
       "      <td>0.0</td>\n",
       "      <td>0.0</td>\n",
       "      <td>0.0</td>\n",
       "      <td>0.0</td>\n",
       "      <td>0.0</td>\n",
       "      <td>0.0</td>\n",
       "      <td>0.0</td>\n",
       "    </tr>\n",
       "    <tr>\n",
       "      <th>2</th>\n",
       "      <td>2006-03-01</td>\n",
       "      <td>3600.0</td>\n",
       "      <td>14400.0</td>\n",
       "      <td>18000.0</td>\n",
       "      <td>1800.0</td>\n",
       "      <td>5400.0</td>\n",
       "      <td>10800.0</td>\n",
       "      <td>3600.0</td>\n",
       "      <td>0.0</td>\n",
       "      <td>0.0</td>\n",
       "    </tr>\n",
       "    <tr>\n",
       "      <th>3</th>\n",
       "      <td>2006-04-01</td>\n",
       "      <td>4300.0</td>\n",
       "      <td>16900.0</td>\n",
       "      <td>5400.0</td>\n",
       "      <td>12700.0</td>\n",
       "      <td>0.0</td>\n",
       "      <td>9700.0</td>\n",
       "      <td>9000.0</td>\n",
       "      <td>13300.0</td>\n",
       "      <td>0.0</td>\n",
       "    </tr>\n",
       "    <tr>\n",
       "      <th>4</th>\n",
       "      <td>2006-06-01</td>\n",
       "      <td>9000.0</td>\n",
       "      <td>0.0</td>\n",
       "      <td>0.0</td>\n",
       "      <td>0.0</td>\n",
       "      <td>0.0</td>\n",
       "      <td>0.0</td>\n",
       "      <td>0.0</td>\n",
       "      <td>0.0</td>\n",
       "      <td>0.0</td>\n",
       "    </tr>\n",
       "    <tr>\n",
       "      <th>...</th>\n",
       "      <td>...</td>\n",
       "      <td>...</td>\n",
       "      <td>...</td>\n",
       "      <td>...</td>\n",
       "      <td>...</td>\n",
       "      <td>...</td>\n",
       "      <td>...</td>\n",
       "      <td>...</td>\n",
       "      <td>...</td>\n",
       "      <td>...</td>\n",
       "    </tr>\n",
       "    <tr>\n",
       "      <th>156</th>\n",
       "      <td>2019-08-01</td>\n",
       "      <td>306899.0</td>\n",
       "      <td>497811.0</td>\n",
       "      <td>353679.0</td>\n",
       "      <td>306513.0</td>\n",
       "      <td>423596.0</td>\n",
       "      <td>552819.0</td>\n",
       "      <td>362795.0</td>\n",
       "      <td>524643.0</td>\n",
       "      <td>306964.0</td>\n",
       "    </tr>\n",
       "    <tr>\n",
       "      <th>157</th>\n",
       "      <td>2019-09-01</td>\n",
       "      <td>4136606.0</td>\n",
       "      <td>2451402.0</td>\n",
       "      <td>1317103.0</td>\n",
       "      <td>1156887.0</td>\n",
       "      <td>1177766.0</td>\n",
       "      <td>1597595.0</td>\n",
       "      <td>897975.0</td>\n",
       "      <td>3090747.0</td>\n",
       "      <td>830268.0</td>\n",
       "    </tr>\n",
       "    <tr>\n",
       "      <th>158</th>\n",
       "      <td>2019-10-01</td>\n",
       "      <td>1170847.0</td>\n",
       "      <td>1116281.0</td>\n",
       "      <td>338644.0</td>\n",
       "      <td>697460.0</td>\n",
       "      <td>1261873.0</td>\n",
       "      <td>603262.0</td>\n",
       "      <td>264016.0</td>\n",
       "      <td>707284.0</td>\n",
       "      <td>349133.0</td>\n",
       "    </tr>\n",
       "    <tr>\n",
       "      <th>159</th>\n",
       "      <td>2019-11-01</td>\n",
       "      <td>465580.0</td>\n",
       "      <td>463598.0</td>\n",
       "      <td>543088.0</td>\n",
       "      <td>941375.0</td>\n",
       "      <td>713083.0</td>\n",
       "      <td>748021.0</td>\n",
       "      <td>347517.0</td>\n",
       "      <td>2548283.0</td>\n",
       "      <td>386426.0</td>\n",
       "    </tr>\n",
       "    <tr>\n",
       "      <th>160</th>\n",
       "      <td>2019-12-01</td>\n",
       "      <td>297618.0</td>\n",
       "      <td>221784.0</td>\n",
       "      <td>204554.0</td>\n",
       "      <td>403761.0</td>\n",
       "      <td>433275.0</td>\n",
       "      <td>334751.0</td>\n",
       "      <td>187974.0</td>\n",
       "      <td>481903.0</td>\n",
       "      <td>68631.0</td>\n",
       "    </tr>\n",
       "  </tbody>\n",
       "</table>\n",
       "<p>161 rows × 10 columns</p>\n",
       "</div>"
      ],
      "text/plain": [
       "          data  recebido_ENGENHARIAS  recebido_CIÊNCIAS SOCIAIS APLICADAS  \\\n",
       "0   2005-04-01                1300.0                                  0.0   \n",
       "1   2005-09-01                   0.0                               2730.0   \n",
       "2   2006-03-01                3600.0                              14400.0   \n",
       "3   2006-04-01                4300.0                              16900.0   \n",
       "4   2006-06-01                9000.0                                  0.0   \n",
       "..         ...                   ...                                  ...   \n",
       "156 2019-08-01              306899.0                             497811.0   \n",
       "157 2019-09-01             4136606.0                            2451402.0   \n",
       "158 2019-10-01             1170847.0                            1116281.0   \n",
       "159 2019-11-01              465580.0                             463598.0   \n",
       "160 2019-12-01              297618.0                             221784.0   \n",
       "\n",
       "     recebido_CIÊNCIAS AGRÁRIAS  recebido_CIÊNCIAS BIOLÓGICAS  \\\n",
       "0                           0.0                           0.0   \n",
       "1                           0.0                           0.0   \n",
       "2                       18000.0                        1800.0   \n",
       "3                        5400.0                       12700.0   \n",
       "4                           0.0                           0.0   \n",
       "..                          ...                           ...   \n",
       "156                    353679.0                      306513.0   \n",
       "157                   1317103.0                     1156887.0   \n",
       "158                    338644.0                      697460.0   \n",
       "159                    543088.0                      941375.0   \n",
       "160                    204554.0                      403761.0   \n",
       "\n",
       "     recebido_CIÊNCIAS DA SAÚDE  recebido_CIÊNCIAS HUMANAS  \\\n",
       "0                           0.0                        0.0   \n",
       "1                           0.0                        0.0   \n",
       "2                        5400.0                    10800.0   \n",
       "3                           0.0                     9700.0   \n",
       "4                           0.0                        0.0   \n",
       "..                          ...                        ...   \n",
       "156                    423596.0                   552819.0   \n",
       "157                   1177766.0                  1597595.0   \n",
       "158                   1261873.0                   603262.0   \n",
       "159                    713083.0                   748021.0   \n",
       "160                    433275.0                   334751.0   \n",
       "\n",
       "     recebido_LINGÜÍSTICA, LETRAS E ARTES  \\\n",
       "0                                     0.0   \n",
       "1                                     0.0   \n",
       "2                                  3600.0   \n",
       "3                                  9000.0   \n",
       "4                                     0.0   \n",
       "..                                    ...   \n",
       "156                              362795.0   \n",
       "157                              897975.0   \n",
       "158                              264016.0   \n",
       "159                              347517.0   \n",
       "160                              187974.0   \n",
       "\n",
       "     recebido_CIÊNCIAS EXATAS E DA TERRA  recebido_MULTIDISCIPLINAR  \n",
       "0                                    0.0                        0.0  \n",
       "1                                    0.0                        0.0  \n",
       "2                                    0.0                        0.0  \n",
       "3                                13300.0                        0.0  \n",
       "4                                    0.0                        0.0  \n",
       "..                                   ...                        ...  \n",
       "156                             524643.0                   306964.0  \n",
       "157                            3090747.0                   830268.0  \n",
       "158                             707284.0                   349133.0  \n",
       "159                            2548283.0                   386426.0  \n",
       "160                             481903.0                    68631.0  \n",
       "\n",
       "[161 rows x 10 columns]"
      ]
     },
     "execution_count": 29,
     "metadata": {},
     "output_type": "execute_result"
    }
   ],
   "source": [
    "# Neste caso os nulos representam os meses em que não houve investimento,\n",
    "# então serão substituídos por zeros:\n",
    "\n",
    "df_sep = df_sep.fillna(0)\n",
    "df_sep"
   ]
  },
  {
   "cell_type": "markdown",
   "metadata": {},
   "source": [
    "Com isso podemos realizar mais algumas visualizações, para ver se há correlação entre as variáveis."
   ]
  },
  {
   "cell_type": "code",
   "execution_count": 30,
   "metadata": {},
   "outputs": [
    {
     "data": {
      "text/plain": [
       "<seaborn.axisgrid.PairGrid at 0x277dd02ab48>"
      ]
     },
     "execution_count": 30,
     "metadata": {},
     "output_type": "execute_result"
    },
    {
     "data": {
      "image/png": "[encoded data removed]",
      "text/plain": [
       "<Figure size 2250x2250 with 91 Axes>"
      ]
     },
     "metadata": {},
     "output_type": "display_data"
    }
   ],
   "source": [
    "sns.pairplot(df_sep)"
   ]
  },
  {
   "cell_type": "code",
   "execution_count": 31,
   "metadata": {},
   "outputs": [
    {
     "data": {
      "text/plain": [
       "<AxesSubplot:>"
      ]
     },
     "execution_count": 31,
     "metadata": {},
     "output_type": "execute_result"
    },
    {
     "data": {
      "image/png": "[encoded data removed]",
      "text/plain": [
       "<Figure size 640x480 with 2 Axes>"
      ]
     },
     "metadata": {},
     "output_type": "display_data"
    }
   ],
   "source": [
    "sns.heatmap(df_sep.corr(), cmap=\"coolwarm\", annot=True)"
   ]
  },
  {
   "cell_type": "markdown",
   "metadata": {},
   "source": [
    "Podemos ver que há correlação entre investimentos em engenharia e em ciências exatas e da terra:"
   ]
  },
  {
   "cell_type": "code",
   "execution_count": 32,
   "metadata": {},
   "outputs": [
    {
     "data": {
      "application/vnd.plotly.v1+json": {
       "config": {
        "plotlyServerURL": "https://plot.ly"
       },
       "data": [
        {
         "hovertemplate": "recebido_ENGENHARIAS=%{x}<br>recebido_CIÊNCIAS EXATAS E DA TERRA=%{y}<extra></extra>",
         "legendgroup": "",
         "marker": {
          "color": "#636efa",
          "symbol": "circle"
         },
         "mode": "markers",
         "name": "",
         "orientation": "v",
         "showlegend": false,
         "type": "scatter",
         "x": [
          1300,
          0,
          3600,
          4300,
          9000,
          0,
          37976,
          19450,
          26390,
          0,
          7500,
          39600,
          88200,
          0,
          22000,
          34200,
          69560,
          66394,
          0,
          0,
          198000,
          62255,
          0,
          0,
          42700,
          0,
          62752,
          0,
          9100,
          0,
          29840,
          398700,
          97580,
          31930,
          11700,
          143460,
          1048033,
          986022,
          227980,
          155449,
          146510,
          405378,
          226300,
          672181,
          234343,
          172238,
          92200,
          483530,
          2396714,
          1986368,
          438986,
          143840,
          328810,
          353036,
          254648,
          600677,
          313960,
          132393,
          69340,
          299634,
          4238900,
          3458081,
          455561,
          524512,
          330157,
          2870179,
          1365762,
          771455,
          305217,
          337827,
          919036,
          5402683,
          11887138,
          11110430,
          5848917,
          1246436,
          427054,
          4121767,
          4088181,
          2974005,
          810095,
          501739,
          1852550,
          11175049,
          31751369,
          54733085,
          18123852,
          1742766,
          1453329,
          10147106,
          7401887,
          25302466,
          106804752,
          4165519,
          17887213,
          17807518,
          51768765,
          99326398,
          46445037,
          783824,
          619462,
          981289,
          2713776,
          1977327,
          58499764,
          822888,
          7827075,
          16047910,
          43107225,
          84120985,
          61181922,
          443401,
          430200,
          429984,
          343216,
          79248,
          71376,
          127864,
          174203,
          271584,
          411908,
          8386802,
          386542,
          251507,
          479122,
          201974,
          35634,
          1000201,
          3521446,
          963228,
          297313,
          1461160,
          1676069,
          9136389,
          1387760,
          2711873,
          150189,
          341917,
          91296,
          183194,
          174949,
          137309,
          34930,
          180088,
          3533731,
          8453197,
          2049425,
          1547686,
          1610972,
          442670,
          64676,
          3180,
          132790,
          41180,
          32950,
          116450,
          306899,
          4136606,
          1170847,
          465580,
          297618
         ],
         "xaxis": "x",
         "y": [
          0,
          0,
          0,
          13300,
          0,
          0,
          17617,
          25242,
          71111,
          13000,
          0,
          0,
          115200,
          23942,
          0,
          0,
          27370,
          0,
          0,
          94150,
          202880,
          80636,
          0,
          0,
          42300,
          2600,
          4300,
          11240,
          6500,
          0,
          33120,
          592820,
          62710,
          35030,
          34220,
          44920,
          166430,
          325360,
          449936,
          339132,
          179480,
          273330,
          86950,
          576930,
          273748,
          139351,
          90488,
          156759,
          539635,
          1114247,
          516794,
          192180,
          409957,
          148601,
          373652,
          573905,
          1636219,
          217693,
          144190,
          314458,
          1532093,
          1620097,
          644800,
          372564,
          259865,
          1016794,
          387270,
          1331737,
          409324,
          443586,
          579911,
          1045172,
          3162048,
          3227162,
          1223959,
          1307589,
          1415837,
          1334754,
          1678611,
          1869355,
          376929,
          894847,
          1357935,
          4075892,
          11678584,
          16185671,
          22408858,
          3684304,
          6010803,
          6051830,
          4205858,
          10159208,
          63116757,
          3232114,
          10178047,
          3962681,
          19951158,
          81221472,
          30546185,
          2800775,
          773161,
          1312243,
          4217269,
          2623664,
          28639716,
          1221429,
          3185955,
          3226203,
          13863764,
          86723143,
          54326471,
          379139,
          488529,
          403231,
          440335,
          409747,
          414501,
          185546,
          238904,
          246915,
          586964,
          908228,
          263661,
          325144,
          326496,
          185839,
          666937,
          2027928,
          2740477,
          1429821,
          3465487,
          954131,
          1186285,
          1844685,
          2335326,
          375266,
          352317,
          454178,
          44527,
          220840,
          146599,
          121545,
          85373,
          141260,
          2777790,
          4492346,
          1391090,
          1970556,
          509014,
          339034,
          148375,
          199640,
          212128,
          128130,
          268510,
          116110,
          524643,
          3090747,
          707284,
          2548283,
          481903
         ],
         "yaxis": "y"
        }
       ],
       "layout": {
        "legend": {
         "tracegroupgap": 0
        },
        "template": {
         "data": {
          "bar": [
           {
            "error_x": {
             "color": "#f2f5fa"
            },
            "error_y": {
             "color": "#f2f5fa"
            },
            "marker": {
             "line": {
              "color": "rgb(17,17,17)",
              "width": 0.5
             },
             "pattern": {
              "fillmode": "overlay",
              "size": 10,
              "solidity": 0.2
             }
            },
            "type": "bar"
           }
          ],
          "barpolar": [
           {
            "marker": {
             "line": {
              "color": "rgb(17,17,17)",
              "width": 0.5
             },
             "pattern": {
              "fillmode": "overlay",
              "size": 10,
              "solidity": 0.2
             }
            },
            "type": "barpolar"
           }
          ],
          "carpet": [
           {
            "aaxis": {
             "endlinecolor": "#A2B1C6",
             "gridcolor": "#506784",
             "linecolor": "#506784",
             "minorgridcolor": "#506784",
             "startlinecolor": "#A2B1C6"
            },
            "baxis": {
             "endlinecolor": "#A2B1C6",
             "gridcolor": "#506784",
             "linecolor": "#506784",
             "minorgridcolor": "#506784",
             "startlinecolor": "#A2B1C6"
            },
            "type": "carpet"
           }
          ],
          "choropleth": [
           {
            "colorbar": {
             "outlinewidth": 0,
             "ticks": ""
            },
            "type": "choropleth"
           }
          ],
          "contour": [
           {
            "colorbar": {
             "outlinewidth": 0,
             "ticks": ""
            },
            "colorscale": [
             [
              0,
              "#0d0887"
             ],
             [
              0.1111111111111111,
              "#46039f"
             ],
             [
              0.2222222222222222,
              "#7201a8"
             ],
             [
              0.3333333333333333,
              "#9c179e"
             ],
             [
              0.4444444444444444,
              "#bd3786"
             ],
             [
              0.5555555555555556,
              "#d8576b"
             ],
             [
              0.6666666666666666,
              "#ed7953"
             ],
             [
              0.7777777777777778,
              "#fb9f3a"
             ],
             [
              0.8888888888888888,
              "#fdca26"
             ],
             [
              1,
              "#f0f921"
             ]
            ],
            "type": "contour"
           }
          ],
          "contourcarpet": [
           {
            "colorbar": {
             "outlinewidth": 0,
             "ticks": ""
            },
            "type": "contourcarpet"
           }
          ],
          "heatmap": [
           {
            "colorbar": {
             "outlinewidth": 0,
             "ticks": ""
            },
            "colorscale": [
             [
              0,
              "#0d0887"
             ],
             [
              0.1111111111111111,
              "#46039f"
             ],
             [
              0.2222222222222222,
              "#7201a8"
             ],
             [
              0.3333333333333333,
              "#9c179e"
             ],
             [
              0.4444444444444444,
              "#bd3786"
             ],
             [
              0.5555555555555556,
              "#d8576b"
             ],
             [
              0.6666666666666666,
              "#ed7953"
             ],
             [
              0.7777777777777778,
              "#fb9f3a"
             ],
             [
              0.8888888888888888,
              "#fdca26"
             ],
             [
              1,
              "#f0f921"
             ]
            ],
            "type": "heatmap"
           }
          ],
          "heatmapgl": [
           {
            "colorbar": {
             "outlinewidth": 0,
             "ticks": ""
            },
            "colorscale": [
             [
              0,
              "#0d0887"
             ],
             [
              0.1111111111111111,
              "#46039f"
             ],
             [
              0.2222222222222222,
              "#7201a8"
             ],
             [
              0.3333333333333333,
              "#9c179e"
             ],
             [
              0.4444444444444444,
              "#bd3786"
             ],
             [
              0.5555555555555556,
              "#d8576b"
             ],
             [
              0.6666666666666666,
              "#ed7953"
             ],
             [
              0.7777777777777778,
              "#fb9f3a"
             ],
             [
              0.8888888888888888,
              "#fdca26"
             ],
             [
              1,
              "#f0f921"
             ]
            ],
            "type": "heatmapgl"
           }
          ],
          "histogram": [
           {
            "marker": {
             "pattern": {
              "fillmode": "overlay",
              "size": 10,
              "solidity": 0.2
             }
            },
            "type": "histogram"
           }
          ],
          "histogram2d": [
           {
            "colorbar": {
             "outlinewidth": 0,
             "ticks": ""
            },
            "colorscale": [
             [
              0,
              "#0d0887"
             ],
             [
              0.1111111111111111,
              "#46039f"
             ],
             [
              0.2222222222222222,
              "#7201a8"
             ],
             [
              0.3333333333333333,
              "#9c179e"
             ],
             [
              0.4444444444444444,
              "#bd3786"
             ],
             [
              0.5555555555555556,
              "#d8576b"
             ],
             [
              0.6666666666666666,
              "#ed7953"
             ],
             [
              0.7777777777777778,
              "#fb9f3a"
             ],
             [
              0.8888888888888888,
              "#fdca26"
             ],
             [
              1,
              "#f0f921"
             ]
            ],
            "type": "histogram2d"
           }
          ],
          "histogram2dcontour": [
           {
            "colorbar": {
             "outlinewidth": 0,
             "ticks": ""
            },
            "colorscale": [
             [
              0,
              "#0d0887"
             ],
             [
              0.1111111111111111,
              "#46039f"
             ],
             [
              0.2222222222222222,
              "#7201a8"
             ],
             [
              0.3333333333333333,
              "#9c179e"
             ],
             [
              0.4444444444444444,
              "#bd3786"
             ],
             [
              0.5555555555555556,
              "#d8576b"
             ],
             [
              0.6666666666666666,
              "#ed7953"
             ],
             [
              0.7777777777777778,
              "#fb9f3a"
             ],
             [
              0.8888888888888888,
              "#fdca26"
             ],
             [
              1,
              "#f0f921"
             ]
            ],
            "type": "histogram2dcontour"
           }
          ],
          "mesh3d": [
           {
            "colorbar": {
             "outlinewidth": 0,
             "ticks": ""
            },
            "type": "mesh3d"
           }
          ],
          "parcoords": [
           {
            "line": {
             "colorbar": {
              "outlinewidth": 0,
              "ticks": ""
             }
            },
            "type": "parcoords"
           }
          ],
          "pie": [
           {
            "automargin": true,
            "type": "pie"
           }
          ],
          "scatter": [
           {
            "marker": {
             "line": {
              "color": "#283442"
             }
            },
            "type": "scatter"
           }
          ],
          "scatter3d": [
           {
            "line": {
             "colorbar": {
              "outlinewidth": 0,
              "ticks": ""
             }
            },
            "marker": {
             "colorbar": {
              "outlinewidth": 0,
              "ticks": ""
             }
            },
            "type": "scatter3d"
           }
          ],
          "scattercarpet": [
           {
            "marker": {
             "colorbar": {
              "outlinewidth": 0,
              "ticks": ""
             }
            },
            "type": "scattercarpet"
           }
          ],
          "scattergeo": [
           {
            "marker": {
             "colorbar": {
              "outlinewidth": 0,
              "ticks": ""
             }
            },
            "type": "scattergeo"
           }
          ],
          "scattergl": [
           {
            "marker": {
             "line": {
              "color": "#283442"
             }
            },
            "type": "scattergl"
           }
          ],
          "scattermapbox": [
           {
            "marker": {
             "colorbar": {
              "outlinewidth": 0,
              "ticks": ""
             }
            },
            "type": "scattermapbox"
           }
          ],
          "scatterpolar": [
           {
            "marker": {
             "colorbar": {
              "outlinewidth": 0,
              "ticks": ""
             }
            },
            "type": "scatterpolar"
           }
          ],
          "scatterpolargl": [
           {
            "marker": {
             "colorbar": {
              "outlinewidth": 0,
              "ticks": ""
             }
            },
            "type": "scatterpolargl"
           }
          ],
          "scatterternary": [
           {
            "marker": {
             "colorbar": {
              "outlinewidth": 0,
              "ticks": ""
             }
            },
            "type": "scatterternary"
           }
          ],
          "surface": [
           {
            "colorbar": {
             "outlinewidth": 0,
             "ticks": ""
            },
            "colorscale": [
             [
              0,
              "#0d0887"
             ],
             [
              0.1111111111111111,
              "#46039f"
             ],
             [
              0.2222222222222222,
              "#7201a8"
             ],
             [
              0.3333333333333333,
              "#9c179e"
             ],
             [
              0.4444444444444444,
              "#bd3786"
             ],
             [
              0.5555555555555556,
              "#d8576b"
             ],
             [
              0.6666666666666666,
              "#ed7953"
             ],
             [
              0.7777777777777778,
              "#fb9f3a"
             ],
             [
              0.8888888888888888,
              "#fdca26"
             ],
             [
              1,
              "#f0f921"
             ]
            ],
            "type": "surface"
           }
          ],
          "table": [
           {
            "cells": {
             "fill": {
              "color": "#506784"
             },
             "line": {
              "color": "rgb(17,17,17)"
             }
            },
            "header": {
             "fill": {
              "color": "#2a3f5f"
             },
             "line": {
              "color": "rgb(17,17,17)"
             }
            },
            "type": "table"
           }
          ]
         },
         "layout": {
          "annotationdefaults": {
           "arrowcolor": "#f2f5fa",
           "arrowhead": 0,
           "arrowwidth": 1
          },
          "autotypenumbers": "strict",
          "coloraxis": {
           "colorbar": {
            "outlinewidth": 0,
            "ticks": ""
           }
          },
          "colorscale": {
           "diverging": [
            [
             0,
             "#8e0152"
            ],
            [
             0.1,
             "#c51b7d"
            ],
            [
             0.2,
             "#de77ae"
            ],
            [
             0.3,
             "#f1b6da"
            ],
            [
             0.4,
             "#fde0ef"
            ],
            [
             0.5,
             "#f7f7f7"
            ],
            [
             0.6,
             "#e6f5d0"
            ],
            [
             0.7,
             "#b8e186"
            ],
            [
             0.8,
             "#7fbc41"
            ],
            [
             0.9,
             "#4d9221"
            ],
            [
             1,
             "#276419"
            ]
           ],
           "sequential": [
            [
             0,
             "#0d0887"
            ],
            [
             0.1111111111111111,
             "#46039f"
            ],
            [
             0.2222222222222222,
             "#7201a8"
            ],
            [
             0.3333333333333333,
             "#9c179e"
            ],
            [
             0.4444444444444444,
             "#bd3786"
            ],
            [
             0.5555555555555556,
             "#d8576b"
            ],
            [
             0.6666666666666666,
             "#ed7953"
            ],
            [
             0.7777777777777778,
             "#fb9f3a"
            ],
            [
             0.8888888888888888,
             "#fdca26"
            ],
            [
             1,
             "#f0f921"
            ]
           ],
           "sequentialminus": [
            [
             0,
             "#0d0887"
            ],
            [
             0.1111111111111111,
             "#46039f"
            ],
            [
             0.2222222222222222,
             "#7201a8"
            ],
            [
             0.3333333333333333,
             "#9c179e"
            ],
            [
             0.4444444444444444,
             "#bd3786"
            ],
            [
             0.5555555555555556,
             "#d8576b"
            ],
            [
             0.6666666666666666,
             "#ed7953"
            ],
            [
             0.7777777777777778,
             "#fb9f3a"
            ],
            [
             0.8888888888888888,
             "#fdca26"
            ],
            [
             1,
             "#f0f921"
            ]
           ]
          },
          "colorway": [
           "#636efa",
           "#EF553B",
           "#00cc96",
           "#ab63fa",
           "#FFA15A",
           "#19d3f3",
           "#FF6692",
           "#B6E880",
           "#FF97FF",
           "#FECB52"
          ],
          "font": {
           "color": "#f2f5fa"
          },
          "geo": {
           "bgcolor": "rgb(17,17,17)",
           "lakecolor": "rgb(17,17,17)",
           "landcolor": "rgb(17,17,17)",
           "showlakes": true,
           "showland": true,
           "subunitcolor": "#506784"
          },
          "hoverlabel": {
           "align": "left"
          },
          "hovermode": "closest",
          "mapbox": {
           "style": "dark"
          },
          "paper_bgcolor": "rgb(17,17,17)",
          "plot_bgcolor": "rgb(17,17,17)",
          "polar": {
           "angularaxis": {
            "gridcolor": "#506784",
            "linecolor": "#506784",
            "ticks": ""
           },
           "bgcolor": "rgb(17,17,17)",
           "radialaxis": {
            "gridcolor": "#506784",
            "linecolor": "#506784",
            "ticks": ""
           }
          },
          "scene": {
           "xaxis": {
            "backgroundcolor": "rgb(17,17,17)",
            "gridcolor": "#506784",
            "gridwidth": 2,
            "linecolor": "#506784",
            "showbackground": true,
            "ticks": "",
            "zerolinecolor": "#C8D4E3"
           },
           "yaxis": {
            "backgroundcolor": "rgb(17,17,17)",
            "gridcolor": "#506784",
            "gridwidth": 2,
            "linecolor": "#506784",
            "showbackground": true,
            "ticks": "",
            "zerolinecolor": "#C8D4E3"
           },
           "zaxis": {
            "backgroundcolor": "rgb(17,17,17)",
            "gridcolor": "#506784",
            "gridwidth": 2,
            "linecolor": "#506784",
            "showbackground": true,
            "ticks": "",
            "zerolinecolor": "#C8D4E3"
           }
          },
          "shapedefaults": {
           "line": {
            "color": "#f2f5fa"
           }
          },
          "sliderdefaults": {
           "bgcolor": "#C8D4E3",
           "bordercolor": "rgb(17,17,17)",
           "borderwidth": 1,
           "tickwidth": 0
          },
          "ternary": {
           "aaxis": {
            "gridcolor": "#506784",
            "linecolor": "#506784",
            "ticks": ""
           },
           "baxis": {
            "gridcolor": "#506784",
            "linecolor": "#506784",
            "ticks": ""
           },
           "bgcolor": "rgb(17,17,17)",
           "caxis": {
            "gridcolor": "#506784",
            "linecolor": "#506784",
            "ticks": ""
           }
          },
          "title": {
           "x": 0.05
          },
          "updatemenudefaults": {
           "bgcolor": "#506784",
           "borderwidth": 0
          },
          "xaxis": {
           "automargin": true,
           "gridcolor": "#283442",
           "linecolor": "#506784",
           "ticks": "",
           "title": {
            "standoff": 15
           },
           "zerolinecolor": "#283442",
           "zerolinewidth": 2
          },
          "yaxis": {
           "automargin": true,
           "gridcolor": "#283442",
           "linecolor": "#506784",
           "ticks": "",
           "title": {
            "standoff": 15
           },
           "zerolinecolor": "#283442",
           "zerolinewidth": 2
          }
         }
        },
        "title": {
         "text": "Gráfico de Dispersão entre Investimentos em Engenharia e Ciências Exatas e da Terra"
        },
        "xaxis": {
         "anchor": "y",
         "domain": [
          0,
          1
         ],
         "title": {
          "text": "recebido_ENGENHARIAS"
         }
        },
        "yaxis": {
         "anchor": "x",
         "domain": [
          0,
          1
         ],
         "title": {
          "text": "recebido_CIÊNCIAS EXATAS E DA TERRA"
         }
        }
       }
      }
     },
     "metadata": {},
     "output_type": "display_data"
    }
   ],
   "source": [
    "px.scatter(df_sep, x=\"recebido_ENGENHARIAS\", y=\"recebido_CIÊNCIAS EXATAS E DA TERRA\", template=\"plotly_dark\", \n",
    "           title=\"Gráfico de Dispersão entre Investimentos em Engenharia e Ciências Exatas e da Terra\")"
   ]
  },
  {
   "cell_type": "code",
   "execution_count": null,
   "metadata": {},
   "outputs": [],
   "source": []
  }
 ],
 "metadata": {
  "kernelspec": {
   "display_name": "Python 3.7.9 ('.venv': venv)",
   "language": "python",
   "name": "python3"
  },
  "language_info": {
   "codemirror_mode": {
    "name": "ipython",
    "version": 3
   },
   "file_extension": ".py",
   "mimetype": "text/x-python",
   "name": "python",
   "nbconvert_exporter": "python",
   "pygments_lexer": "ipython3",
   "version": "3.7.9"
  },
  "orig_nbformat": 4,
  "vscode": {
   "interpreter": {
    "hash": "8ce819f19e84cb9214ada78a82609d5fc979ca2bc46fd6300cbaca32b8a4db33"
   }
  }
 },
 "nbformat": 4,
 "nbformat_minor": 2
}
